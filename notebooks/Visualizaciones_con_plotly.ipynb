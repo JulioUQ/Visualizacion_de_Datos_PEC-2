{
 "cells": [
  {
   "cell_type": "markdown",
   "id": "9203da74",
   "metadata": {},
   "source": [
    "# Enunciado de la PEC 2\n",
    "En esta PEC 2, tal como se explicó en el planteamiento inicial (lectura imprescindible), queremos que salgáis de vuestra zona de confort y descubráis técnicas de visualización nuevas. El protagonismo es de las tres técnicas que se os asignarán mediante un correo electrónico enviado por vuestro profesor (si no recibís esta comunicación el día de inicio de la actividad, contactad inmediatamente con el profesor a través del aula).\n",
    "\n",
    "La tarea consiste en investigar cada técnica y determinar su adecuación según el tipo de datos y el objetivo que se desea alcanzar. Para ello podéis utilizar las siguientes webs especializadas como guías para decidir cuándo utilizar cada tipo de representación gráfica:\n",
    "\n",
    "- Data to Viz: https://www.data-to-viz.com/Links to an external site.\n",
    "\n",
    "- DataViz Project: https://datavizproject.com/Links to an external site.\n",
    "\n",
    "- Catálogo de Visualización de Datos: https://datavizcatalogue.com/ES/Links to an external site.\n",
    "\n",
    "A partir de la información obtenida en estas webs, debéis descubrir todo lo posible sobre cada técnica asignada: nombre, origen, autoría, ventajas e inconvenientes, tipos de datos admitidos, ejemplos y aplicaciones habituales.\n",
    "\n",
    "Procedimiento:\n",
    "\n",
    "Cada estudiante deberá crear tres pequeñas visualizaciones usando las técnicas asignadas. Para ello deberá seleccionar datos adecuados y decidir qué herramienta utilizará para visualizarlos. Los datos podrán obtenerse de cualquier fuente abierta. Las visualizaciones deberán publicarse en Internet y ser accesibles directamente mediante una URL pública, sin necesidad de registros ni inicios de sesión. Podéis utilizar plataformas como Flourish, Tableau Public, Infogram, o publicar directamente en GitHub mediante páginas web estáticas en github.io.\n",
    "\n",
    "La finalidad de esta actividad es familiarizarse con las técnicas asignadas, entendiendo su esencia. En esta ocasión se trabajará desde la técnica hacia los datos, identificando qué tipos de datos son más coherentes con cada técnica asignada.\n",
    "\n",
    "En el apartado de recursos asociado a esta actividad podrá encontrar un documento con una selección de enlaces a sitios web con fuentes y conjuntos de datos organizados por ámbito y sector.\n",
    "\n",
    "Finalmente, el trabajo consistirá en la publicación de las tres visualizaciones online y la realización de un vídeo explicativo que deberá seguir el siguiente guion:\n",
    "\n",
    "[Puntos 1 + 2] Presentación personal siguiendo el esquema de la PEC 1.\n",
    "[Puntos 1 + 2; 5%] Enlace URL de cada visualización publicada.\n",
    "[25%] Definición general de cada técnica (nombre, origen, descripción, funcionamiento y ejemplos típicos de aplicación), utilizando la información obtenida de las webs indicadas anteriormente.\n",
    "[15%] Tipo y estructura de datos adecuados para cada técnica (cuantitativos, cualitativos, requisitos específicos), indicando claramente posibles limitaciones como tamaño mínimo o máximo del conjunto de datos.\n",
    "[20%] Realización práctica de una visualización simple por técnica, usando datos abiertos escogidos libremente por vosotros mismos.\n",
    "[30%] Comentario breve sobre cada visualización: qué se representa, qué aspectos específicos resalta o demuestra, así como el objetivo concreto de comunicación o descubrimiento buscado. Explicad claramente cómo la técnica y los datos elegidos permiten alcanzar dicho objetivo.\n",
    "[5%] Cada presentación de técnica debe durar entre 2 y 3 minutos. El vídeo completo con las tres técnicas no podrá exceder los 7-8 minutos en total. Exceder este límite supondrá una penalización, ya que se valorará especialmente vuestra capacidad de síntesis y comunicación.\n",
    "\n",
    "**Sobre Plagio e IA**\n",
    "> IMPORTANTE: En esta actividad sólo se permite un uso limitado de herramientas de inteligencia artificial. Concretamente, en el contexto de las artes y el diseño, las herramientas de IA, tanto textuales como visuales, pueden servir para generar y esbozar ideas, contextualizar conceptos, plantear prototipos o combinar elementos de manera innovadora o alternativa. En caso de utilizar estas herramientas, es necesario explicitar y citar correctamente su uso en la elaboración del trabajo. Esto implica indicar en cada apartado de la actividad entregada qué herramientas se han utilizado, los objetivos, los prompts que se han empleado, la respuesta obtenida y el proceso que se ha seguido para revisar y editar la salida. Para hacerlo correctamente, consulta la guía ¿Cómo citar la IA en los trabajos? En el plan docente y en la Web sobre integridad académica y plagio de la UOC encontrarás información sobre qué se considera conducta irregular y las consecuencias que puede tener. Recuerda también que en caso de usar herramientas de IA generativa, no debe proporcionarse información personal, confidencial o protegida por propiedad intelectual. Ten en cuenta que un uso inadecuado de la IA generativa, como la falta de revisión de la respuesta obtenida o la falta de citación de las herramientas utilizadas, será considerada una conducta irregular en la evaluación. En caso de duda, consulta con el profesor colaborador en el aula."
   ]
  },
  {
   "cell_type": "markdown",
   "id": "e940e4f6",
   "metadata": {},
   "source": [
    "## Contexto\n",
    "Voy a proceder paso a paso para obtener **un dataset adecuado** para aplicar las tres técnicas que me asignaron:\n",
    "\n",
    "1. **Pie chart** -> ideal para mostrar proporciones o participación.\n",
    "2. **Candlestick chart** -> se usa con datos temporales tipo financiero (valores de apertura, cierre, máximo, mínimo).\n",
    "3. **Convex hull** -> se aplica sobre datos espaciales o de dispersión (coordenadas X, Y).\n",
    "\n",
    "Por tanto, necesito un dataset que tenga:\n",
    "\n",
    "* Una **componente categórica y cuantitativa** (para el pie chart).\n",
    "* Una **serie temporal con valores numéricos** (para el candlestick).\n",
    "* Una **componente espacial (coordenadas)** para el convex hull.\n",
    "\n",
    "## Propuesta de Dataset\n",
    "\n",
    "Un dataset que cumple con todo eso es el de **acciones financieras con ubicación de sedes de empresas**.\n",
    "Lo obtendo fácilmente desde **Yahoo Finance**."
   ]
  },
  {
   "cell_type": "code",
   "execution_count": 1,
   "id": "6843752a",
   "metadata": {},
   "outputs": [],
   "source": [
    "# ==============================================\n",
    "# VISUALIZACIONES FINANCIERAS CON PLOTLY\n",
    "# ==============================================\n",
    "import numpy as np\n",
    "import plotly.graph_objects as go\n",
    "from plotly.subplots import make_subplots\n",
    "from scipy.spatial import ConvexHull\n",
    "\n",
    "# ==============================================\n",
    "# LIBRERIAS AUXILIARES\n",
    "# ==============================================\n",
    "%load_ext autoreload\n",
    "%autoreload 2\n",
    "\n",
    "# Proporciona funciones para interactuar con el sistema operativo (como rutas de archivos).\n",
    "import os  \n",
    "\n",
    "# Permite modificar aspectos del entorno de ejecución de Python, como la lista de rutas de búsqueda de módulos (sys.path).\n",
    "import sys \n",
    "\n",
    "# En notebooks, usa la ruta del notebook actual\n",
    "root_dir = os.path.abspath('..')  # Sube un nivel desde /notebooks/\n",
    "sys.path.append(root_dir)\n",
    "\n",
    "# Importa las funciones personalizadas desde utils.\n",
    "import utils.tidy_functions as tf\n",
    "\n",
    "# Importa las bibliotecas necesarias para el análisis de datos y visualización.\n",
    "import pandas as pd\n",
    "pd.set_option('display.float_format', '{:.2f}'.format)\n",
    "pd.set_option('display.max_columns', None)"
   ]
  },
  {
   "cell_type": "code",
   "execution_count": 3,
   "id": "eb492024",
   "metadata": {},
   "outputs": [
    {
     "data": {
      "text/html": [
       "<div>\n",
       "<style scoped>\n",
       "    .dataframe tbody tr th:only-of-type {\n",
       "        vertical-align: middle;\n",
       "    }\n",
       "\n",
       "    .dataframe tbody tr th {\n",
       "        vertical-align: top;\n",
       "    }\n",
       "\n",
       "    .dataframe thead th {\n",
       "        text-align: right;\n",
       "    }\n",
       "</style>\n",
       "<table border=\"1\" class=\"dataframe\">\n",
       "  <thead>\n",
       "    <tr style=\"text-align: right;\">\n",
       "      <th></th>\n",
       "      <th>Date</th>\n",
       "      <th>Ticker</th>\n",
       "      <th>Open</th>\n",
       "      <th>High</th>\n",
       "      <th>Low</th>\n",
       "      <th>Close</th>\n",
       "      <th>Volume</th>\n",
       "    </tr>\n",
       "  </thead>\n",
       "  <tbody>\n",
       "    <tr>\n",
       "      <th>0</th>\n",
       "      <td>2023-01-03</td>\n",
       "      <td>AAPL</td>\n",
       "      <td>128.47</td>\n",
       "      <td>129.08</td>\n",
       "      <td>122.44</td>\n",
       "      <td>123.33</td>\n",
       "      <td>112117500</td>\n",
       "    </tr>\n",
       "    <tr>\n",
       "      <th>1</th>\n",
       "      <td>2023-01-04</td>\n",
       "      <td>AAPL</td>\n",
       "      <td>125.13</td>\n",
       "      <td>126.87</td>\n",
       "      <td>123.34</td>\n",
       "      <td>124.60</td>\n",
       "      <td>89113600</td>\n",
       "    </tr>\n",
       "    <tr>\n",
       "      <th>2</th>\n",
       "      <td>2023-01-05</td>\n",
       "      <td>AAPL</td>\n",
       "      <td>125.36</td>\n",
       "      <td>125.99</td>\n",
       "      <td>123.02</td>\n",
       "      <td>123.28</td>\n",
       "      <td>80962700</td>\n",
       "    </tr>\n",
       "    <tr>\n",
       "      <th>3</th>\n",
       "      <td>2023-01-06</td>\n",
       "      <td>AAPL</td>\n",
       "      <td>124.26</td>\n",
       "      <td>128.48</td>\n",
       "      <td>123.15</td>\n",
       "      <td>127.82</td>\n",
       "      <td>87754700</td>\n",
       "    </tr>\n",
       "    <tr>\n",
       "      <th>4</th>\n",
       "      <td>2023-01-09</td>\n",
       "      <td>AAPL</td>\n",
       "      <td>128.66</td>\n",
       "      <td>131.55</td>\n",
       "      <td>128.08</td>\n",
       "      <td>128.34</td>\n",
       "      <td>70790800</td>\n",
       "    </tr>\n",
       "    <tr>\n",
       "      <th>...</th>\n",
       "      <td>...</td>\n",
       "      <td>...</td>\n",
       "      <td>...</td>\n",
       "      <td>...</td>\n",
       "      <td>...</td>\n",
       "      <td>...</td>\n",
       "      <td>...</td>\n",
       "    </tr>\n",
       "    <tr>\n",
       "      <th>1501</th>\n",
       "      <td>2024-12-24</td>\n",
       "      <td>GOOG</td>\n",
       "      <td>195.54</td>\n",
       "      <td>197.03</td>\n",
       "      <td>194.57</td>\n",
       "      <td>196.93</td>\n",
       "      <td>6809800</td>\n",
       "    </tr>\n",
       "    <tr>\n",
       "      <th>1502</th>\n",
       "      <td>2024-12-26</td>\n",
       "      <td>GOOG</td>\n",
       "      <td>196.10</td>\n",
       "      <td>197.52</td>\n",
       "      <td>195.24</td>\n",
       "      <td>196.46</td>\n",
       "      <td>7907900</td>\n",
       "    </tr>\n",
       "    <tr>\n",
       "      <th>1503</th>\n",
       "      <td>2024-12-27</td>\n",
       "      <td>GOOG</td>\n",
       "      <td>195.84</td>\n",
       "      <td>196.16</td>\n",
       "      <td>191.35</td>\n",
       "      <td>193.41</td>\n",
       "      <td>14693000</td>\n",
       "    </tr>\n",
       "    <tr>\n",
       "      <th>1504</th>\n",
       "      <td>2024-12-30</td>\n",
       "      <td>GOOG</td>\n",
       "      <td>190.25</td>\n",
       "      <td>193.15</td>\n",
       "      <td>189.75</td>\n",
       "      <td>192.07</td>\n",
       "      <td>12209500</td>\n",
       "    </tr>\n",
       "    <tr>\n",
       "      <th>1505</th>\n",
       "      <td>2024-12-31</td>\n",
       "      <td>GOOG</td>\n",
       "      <td>191.82</td>\n",
       "      <td>192.63</td>\n",
       "      <td>188.97</td>\n",
       "      <td>189.83</td>\n",
       "      <td>14355200</td>\n",
       "    </tr>\n",
       "  </tbody>\n",
       "</table>\n",
       "<p>1506 rows × 7 columns</p>\n",
       "</div>"
      ],
      "text/plain": [
       "            Date Ticker   Open   High    Low  Close     Volume\n",
       "0     2023-01-03   AAPL 128.47 129.08 122.44 123.33  112117500\n",
       "1     2023-01-04   AAPL 125.13 126.87 123.34 124.60   89113600\n",
       "2     2023-01-05   AAPL 125.36 125.99 123.02 123.28   80962700\n",
       "3     2023-01-06   AAPL 124.26 128.48 123.15 127.82   87754700\n",
       "4     2023-01-09   AAPL 128.66 131.55 128.08 128.34   70790800\n",
       "...          ...    ...    ...    ...    ...    ...        ...\n",
       "1501  2024-12-24   GOOG 195.54 197.03 194.57 196.93    6809800\n",
       "1502  2024-12-26   GOOG 196.10 197.52 195.24 196.46    7907900\n",
       "1503  2024-12-27   GOOG 195.84 196.16 191.35 193.41   14693000\n",
       "1504  2024-12-30   GOOG 190.25 193.15 189.75 192.07   12209500\n",
       "1505  2024-12-31   GOOG 191.82 192.63 188.97 189.83   14355200\n",
       "\n",
       "[1506 rows x 7 columns]"
      ]
     },
     "execution_count": 3,
     "metadata": {},
     "output_type": "execute_result"
    }
   ],
   "source": [
    "acciones = pd.read_csv(r\"../Data/acciones_limpio.csv\")\n",
    "acciones"
   ]
  },
  {
   "cell_type": "code",
   "execution_count": 4,
   "id": "ca26fe01",
   "metadata": {},
   "outputs": [
    {
     "data": {
      "text/html": [
       "<div>\n",
       "<style scoped>\n",
       "    .dataframe tbody tr th:only-of-type {\n",
       "        vertical-align: middle;\n",
       "    }\n",
       "\n",
       "    .dataframe tbody tr th {\n",
       "        vertical-align: top;\n",
       "    }\n",
       "\n",
       "    .dataframe thead th {\n",
       "        text-align: right;\n",
       "    }\n",
       "</style>\n",
       "<table border=\"1\" class=\"dataframe\">\n",
       "  <thead>\n",
       "    <tr style=\"text-align: right;\">\n",
       "      <th></th>\n",
       "      <th>Column</th>\n",
       "      <th>Data Type</th>\n",
       "      <th>Non-null Count</th>\n",
       "      <th>% Null Values</th>\n",
       "      <th>Unique Values</th>\n",
       "      <th>Shape</th>\n",
       "      <th>mean</th>\n",
       "      <th>median</th>\n",
       "      <th>std</th>\n",
       "      <th>min</th>\n",
       "      <th>25%</th>\n",
       "      <th>75%</th>\n",
       "      <th>max</th>\n",
       "    </tr>\n",
       "  </thead>\n",
       "  <tbody>\n",
       "    <tr>\n",
       "      <th>0</th>\n",
       "      <td>Date</td>\n",
       "      <td>object</td>\n",
       "      <td>1506</td>\n",
       "      <td>0.00</td>\n",
       "      <td>502</td>\n",
       "      <td>1506 rows, 7 columns</td>\n",
       "      <td>NaN</td>\n",
       "      <td>NaN</td>\n",
       "      <td>NaN</td>\n",
       "      <td>NaN</td>\n",
       "      <td>NaN</td>\n",
       "      <td>NaN</td>\n",
       "      <td>NaN</td>\n",
       "    </tr>\n",
       "    <tr>\n",
       "      <th>1</th>\n",
       "      <td>Ticker</td>\n",
       "      <td>object</td>\n",
       "      <td>1506</td>\n",
       "      <td>0.00</td>\n",
       "      <td>3</td>\n",
       "      <td>1506 rows, 7 columns</td>\n",
       "      <td>NaN</td>\n",
       "      <td>NaN</td>\n",
       "      <td>NaN</td>\n",
       "      <td>NaN</td>\n",
       "      <td>NaN</td>\n",
       "      <td>NaN</td>\n",
       "      <td>NaN</td>\n",
       "    </tr>\n",
       "    <tr>\n",
       "      <th>2</th>\n",
       "      <td>Open</td>\n",
       "      <td>float64</td>\n",
       "      <td>1506</td>\n",
       "      <td>0.00</td>\n",
       "      <td>1506</td>\n",
       "      <td>1506 rows, 7 columns</td>\n",
       "      <td>230.79</td>\n",
       "      <td>186.19</td>\n",
       "      <td>104.40</td>\n",
       "      <td>86.13</td>\n",
       "      <td>155.05</td>\n",
       "      <td>319.82</td>\n",
       "      <td>462.69</td>\n",
       "    </tr>\n",
       "    <tr>\n",
       "      <th>3</th>\n",
       "      <td>High</td>\n",
       "      <td>float64</td>\n",
       "      <td>1506</td>\n",
       "      <td>0.00</td>\n",
       "      <td>1506</td>\n",
       "      <td>1506 rows, 7 columns</td>\n",
       "      <td>232.95</td>\n",
       "      <td>187.64</td>\n",
       "      <td>105.06</td>\n",
       "      <td>87.61</td>\n",
       "      <td>156.96</td>\n",
       "      <td>323.87</td>\n",
       "      <td>464.02</td>\n",
       "    </tr>\n",
       "    <tr>\n",
       "      <th>4</th>\n",
       "      <td>Low</td>\n",
       "      <td>float64</td>\n",
       "      <td>1506</td>\n",
       "      <td>0.00</td>\n",
       "      <td>1506</td>\n",
       "      <td>1506 rows, 7 columns</td>\n",
       "      <td>228.77</td>\n",
       "      <td>185.14</td>\n",
       "      <td>103.49</td>\n",
       "      <td>84.99</td>\n",
       "      <td>153.31</td>\n",
       "      <td>316.88</td>\n",
       "      <td>460.17</td>\n",
       "    </tr>\n",
       "    <tr>\n",
       "      <th>5</th>\n",
       "      <td>Close</td>\n",
       "      <td>float64</td>\n",
       "      <td>1506</td>\n",
       "      <td>0.00</td>\n",
       "      <td>1488</td>\n",
       "      <td>1506 rows, 7 columns</td>\n",
       "      <td>230.96</td>\n",
       "      <td>186.17</td>\n",
       "      <td>104.32</td>\n",
       "      <td>86.18</td>\n",
       "      <td>155.44</td>\n",
       "      <td>319.54</td>\n",
       "      <td>463.24</td>\n",
       "    </tr>\n",
       "    <tr>\n",
       "      <th>6</th>\n",
       "      <td>Volume</td>\n",
       "      <td>int64</td>\n",
       "      <td>1506</td>\n",
       "      <td>0.00</td>\n",
       "      <td>1506</td>\n",
       "      <td>1506 rows, 7 columns</td>\n",
       "      <td>34966590.97</td>\n",
       "      <td>26633000.00</td>\n",
       "      <td>23356759.47</td>\n",
       "      <td>6809800.00</td>\n",
       "      <td>18978600.00</td>\n",
       "      <td>47157225.00</td>\n",
       "      <td>318679900.00</td>\n",
       "    </tr>\n",
       "  </tbody>\n",
       "</table>\n",
       "</div>"
      ],
      "text/plain": [
       "   Column Data Type  Non-null Count  % Null Values  Unique Values  \\\n",
       "0    Date    object            1506           0.00            502   \n",
       "1  Ticker    object            1506           0.00              3   \n",
       "2    Open   float64            1506           0.00           1506   \n",
       "3    High   float64            1506           0.00           1506   \n",
       "4     Low   float64            1506           0.00           1506   \n",
       "5   Close   float64            1506           0.00           1488   \n",
       "6  Volume     int64            1506           0.00           1506   \n",
       "\n",
       "                  Shape        mean      median         std        min  \\\n",
       "0  1506 rows, 7 columns         NaN         NaN         NaN        NaN   \n",
       "1  1506 rows, 7 columns         NaN         NaN         NaN        NaN   \n",
       "2  1506 rows, 7 columns      230.79      186.19      104.40      86.13   \n",
       "3  1506 rows, 7 columns      232.95      187.64      105.06      87.61   \n",
       "4  1506 rows, 7 columns      228.77      185.14      103.49      84.99   \n",
       "5  1506 rows, 7 columns      230.96      186.17      104.32      86.18   \n",
       "6  1506 rows, 7 columns 34966590.97 26633000.00 23356759.47 6809800.00   \n",
       "\n",
       "          25%         75%          max  \n",
       "0         NaN         NaN          NaN  \n",
       "1         NaN         NaN          NaN  \n",
       "2      155.05      319.82       462.69  \n",
       "3      156.96      323.87       464.02  \n",
       "4      153.31      316.88       460.17  \n",
       "5      155.44      319.54       463.24  \n",
       "6 18978600.00 47157225.00 318679900.00  "
      ]
     },
     "execution_count": 4,
     "metadata": {},
     "output_type": "execute_result"
    }
   ],
   "source": [
    "tf.describe_df(acciones)"
   ]
  },
  {
   "cell_type": "code",
   "execution_count": 5,
   "id": "256b29f7",
   "metadata": {},
   "outputs": [],
   "source": [
    "df = acciones.copy()\n",
    "\n",
    "# Aseguramos los tipos de datos\n",
    "df[\"Date\"] = pd.to_datetime(df[\"Date\"])            # datetime64\n",
    "df[\"Ticker\"] = df[\"Ticker\"].astype(str)            # string\n",
    "for col in [\"Open\", \"High\", \"Low\", \"Close\"]:\n",
    "    df[col] = df[col].astype(float)                # float64\n",
    "df[\"Volume\"] = df[\"Volume\"].astype(\"int64\")        # int64"
   ]
  },
  {
   "cell_type": "code",
   "execution_count": 6,
   "id": "308f81a7",
   "metadata": {},
   "outputs": [
    {
     "data": {
      "text/html": [
       "<div>\n",
       "<style scoped>\n",
       "    .dataframe tbody tr th:only-of-type {\n",
       "        vertical-align: middle;\n",
       "    }\n",
       "\n",
       "    .dataframe tbody tr th {\n",
       "        vertical-align: top;\n",
       "    }\n",
       "\n",
       "    .dataframe thead th {\n",
       "        text-align: right;\n",
       "    }\n",
       "</style>\n",
       "<table border=\"1\" class=\"dataframe\">\n",
       "  <thead>\n",
       "    <tr style=\"text-align: right;\">\n",
       "      <th></th>\n",
       "      <th>Column</th>\n",
       "      <th>Data Type</th>\n",
       "      <th>Non-null Count</th>\n",
       "      <th>% Null Values</th>\n",
       "      <th>Unique Values</th>\n",
       "      <th>Shape</th>\n",
       "      <th>mean</th>\n",
       "      <th>median</th>\n",
       "      <th>std</th>\n",
       "      <th>min</th>\n",
       "      <th>25%</th>\n",
       "      <th>75%</th>\n",
       "      <th>max</th>\n",
       "      <th>Min Date</th>\n",
       "      <th>Max Date</th>\n",
       "    </tr>\n",
       "  </thead>\n",
       "  <tbody>\n",
       "    <tr>\n",
       "      <th>0</th>\n",
       "      <td>Date</td>\n",
       "      <td>datetime64[ns]</td>\n",
       "      <td>1506</td>\n",
       "      <td>0.00</td>\n",
       "      <td>502</td>\n",
       "      <td>1506 rows, 7 columns</td>\n",
       "      <td>NaN</td>\n",
       "      <td>NaN</td>\n",
       "      <td>NaN</td>\n",
       "      <td>NaN</td>\n",
       "      <td>NaN</td>\n",
       "      <td>NaN</td>\n",
       "      <td>NaN</td>\n",
       "      <td>2023-01-03</td>\n",
       "      <td>2024-12-31</td>\n",
       "    </tr>\n",
       "    <tr>\n",
       "      <th>1</th>\n",
       "      <td>Ticker</td>\n",
       "      <td>object</td>\n",
       "      <td>1506</td>\n",
       "      <td>0.00</td>\n",
       "      <td>3</td>\n",
       "      <td>1506 rows, 7 columns</td>\n",
       "      <td>NaN</td>\n",
       "      <td>NaN</td>\n",
       "      <td>NaN</td>\n",
       "      <td>NaN</td>\n",
       "      <td>NaN</td>\n",
       "      <td>NaN</td>\n",
       "      <td>NaN</td>\n",
       "      <td>NaT</td>\n",
       "      <td>NaT</td>\n",
       "    </tr>\n",
       "    <tr>\n",
       "      <th>2</th>\n",
       "      <td>Open</td>\n",
       "      <td>float64</td>\n",
       "      <td>1506</td>\n",
       "      <td>0.00</td>\n",
       "      <td>1506</td>\n",
       "      <td>1506 rows, 7 columns</td>\n",
       "      <td>230.79</td>\n",
       "      <td>186.19</td>\n",
       "      <td>104.40</td>\n",
       "      <td>86.13</td>\n",
       "      <td>155.05</td>\n",
       "      <td>319.82</td>\n",
       "      <td>462.69</td>\n",
       "      <td>NaT</td>\n",
       "      <td>NaT</td>\n",
       "    </tr>\n",
       "    <tr>\n",
       "      <th>3</th>\n",
       "      <td>High</td>\n",
       "      <td>float64</td>\n",
       "      <td>1506</td>\n",
       "      <td>0.00</td>\n",
       "      <td>1506</td>\n",
       "      <td>1506 rows, 7 columns</td>\n",
       "      <td>232.95</td>\n",
       "      <td>187.64</td>\n",
       "      <td>105.06</td>\n",
       "      <td>87.61</td>\n",
       "      <td>156.96</td>\n",
       "      <td>323.87</td>\n",
       "      <td>464.02</td>\n",
       "      <td>NaT</td>\n",
       "      <td>NaT</td>\n",
       "    </tr>\n",
       "    <tr>\n",
       "      <th>4</th>\n",
       "      <td>Low</td>\n",
       "      <td>float64</td>\n",
       "      <td>1506</td>\n",
       "      <td>0.00</td>\n",
       "      <td>1506</td>\n",
       "      <td>1506 rows, 7 columns</td>\n",
       "      <td>228.77</td>\n",
       "      <td>185.14</td>\n",
       "      <td>103.49</td>\n",
       "      <td>84.99</td>\n",
       "      <td>153.31</td>\n",
       "      <td>316.88</td>\n",
       "      <td>460.17</td>\n",
       "      <td>NaT</td>\n",
       "      <td>NaT</td>\n",
       "    </tr>\n",
       "    <tr>\n",
       "      <th>5</th>\n",
       "      <td>Close</td>\n",
       "      <td>float64</td>\n",
       "      <td>1506</td>\n",
       "      <td>0.00</td>\n",
       "      <td>1488</td>\n",
       "      <td>1506 rows, 7 columns</td>\n",
       "      <td>230.96</td>\n",
       "      <td>186.17</td>\n",
       "      <td>104.32</td>\n",
       "      <td>86.18</td>\n",
       "      <td>155.44</td>\n",
       "      <td>319.54</td>\n",
       "      <td>463.24</td>\n",
       "      <td>NaT</td>\n",
       "      <td>NaT</td>\n",
       "    </tr>\n",
       "    <tr>\n",
       "      <th>6</th>\n",
       "      <td>Volume</td>\n",
       "      <td>int64</td>\n",
       "      <td>1506</td>\n",
       "      <td>0.00</td>\n",
       "      <td>1506</td>\n",
       "      <td>1506 rows, 7 columns</td>\n",
       "      <td>34966590.97</td>\n",
       "      <td>26633000.00</td>\n",
       "      <td>23356759.47</td>\n",
       "      <td>6809800.00</td>\n",
       "      <td>18978600.00</td>\n",
       "      <td>47157225.00</td>\n",
       "      <td>318679900.00</td>\n",
       "      <td>NaT</td>\n",
       "      <td>NaT</td>\n",
       "    </tr>\n",
       "  </tbody>\n",
       "</table>\n",
       "</div>"
      ],
      "text/plain": [
       "   Column       Data Type  Non-null Count  % Null Values  Unique Values  \\\n",
       "0    Date  datetime64[ns]            1506           0.00            502   \n",
       "1  Ticker          object            1506           0.00              3   \n",
       "2    Open         float64            1506           0.00           1506   \n",
       "3    High         float64            1506           0.00           1506   \n",
       "4     Low         float64            1506           0.00           1506   \n",
       "5   Close         float64            1506           0.00           1488   \n",
       "6  Volume           int64            1506           0.00           1506   \n",
       "\n",
       "                  Shape        mean      median         std        min  \\\n",
       "0  1506 rows, 7 columns         NaN         NaN         NaN        NaN   \n",
       "1  1506 rows, 7 columns         NaN         NaN         NaN        NaN   \n",
       "2  1506 rows, 7 columns      230.79      186.19      104.40      86.13   \n",
       "3  1506 rows, 7 columns      232.95      187.64      105.06      87.61   \n",
       "4  1506 rows, 7 columns      228.77      185.14      103.49      84.99   \n",
       "5  1506 rows, 7 columns      230.96      186.17      104.32      86.18   \n",
       "6  1506 rows, 7 columns 34966590.97 26633000.00 23356759.47 6809800.00   \n",
       "\n",
       "          25%         75%          max   Min Date   Max Date  \n",
       "0         NaN         NaN          NaN 2023-01-03 2024-12-31  \n",
       "1         NaN         NaN          NaN        NaT        NaT  \n",
       "2      155.05      319.82       462.69        NaT        NaT  \n",
       "3      156.96      323.87       464.02        NaT        NaT  \n",
       "4      153.31      316.88       460.17        NaT        NaT  \n",
       "5      155.44      319.54       463.24        NaT        NaT  \n",
       "6 18978600.00 47157225.00 318679900.00        NaT        NaT  "
      ]
     },
     "execution_count": 6,
     "metadata": {},
     "output_type": "execute_result"
    }
   ],
   "source": [
    "tf.describe_df(df)"
   ]
  },
  {
   "cell_type": "markdown",
   "id": "e6349657",
   "metadata": {},
   "source": [
    "---\n",
    "---"
   ]
  },
  {
   "cell_type": "markdown",
   "id": "2c1d1a46",
   "metadata": {},
   "source": [
    "## TÉCNICA GRUPO I (Básicas y populares): Pie chart  \n",
    "\n",
    "**Objetivo**: Mostrar la distribución del volumen medio de trading por empresa."
   ]
  },
  {
   "cell_type": "code",
   "execution_count": 9,
   "id": "2e5edef3",
   "metadata": {},
   "outputs": [
    {
     "data": {
      "application/vnd.plotly.v1+json": {
       "config": {
        "plotlyServerURL": "https://plot.ly"
       },
       "data": [
        {
         "hole": 0.3,
         "hovertemplate": "<b>%{label}</b><br>Volumen medio: %{value:,.0f}<br>%{percent}",
         "labels": [
          "AAPL",
          "GOOG",
          "MSFT"
         ],
         "marker": {
          "line": {
           "color": "#FFFFFF",
           "width": 2
          }
         },
         "textinfo": "label+percent+value",
         "textposition": "auto",
         "type": "pie",
         "values": {
          "bdata": "ZHoYmLm7i0HwL6MgupJ1QaGGtH0eAHdB",
          "dtype": "f8"
         }
        }
       ],
       "layout": {
        "template": {
         "data": {
          "bar": [
           {
            "error_x": {
             "color": "#2a3f5f"
            },
            "error_y": {
             "color": "#2a3f5f"
            },
            "marker": {
             "line": {
              "color": "white",
              "width": 0.5
             },
             "pattern": {
              "fillmode": "overlay",
              "size": 10,
              "solidity": 0.2
             }
            },
            "type": "bar"
           }
          ],
          "barpolar": [
           {
            "marker": {
             "line": {
              "color": "white",
              "width": 0.5
             },
             "pattern": {
              "fillmode": "overlay",
              "size": 10,
              "solidity": 0.2
             }
            },
            "type": "barpolar"
           }
          ],
          "carpet": [
           {
            "aaxis": {
             "endlinecolor": "#2a3f5f",
             "gridcolor": "#C8D4E3",
             "linecolor": "#C8D4E3",
             "minorgridcolor": "#C8D4E3",
             "startlinecolor": "#2a3f5f"
            },
            "baxis": {
             "endlinecolor": "#2a3f5f",
             "gridcolor": "#C8D4E3",
             "linecolor": "#C8D4E3",
             "minorgridcolor": "#C8D4E3",
             "startlinecolor": "#2a3f5f"
            },
            "type": "carpet"
           }
          ],
          "choropleth": [
           {
            "colorbar": {
             "outlinewidth": 0,
             "ticks": ""
            },
            "type": "choropleth"
           }
          ],
          "contour": [
           {
            "colorbar": {
             "outlinewidth": 0,
             "ticks": ""
            },
            "colorscale": [
             [
              0,
              "#0d0887"
             ],
             [
              0.1111111111111111,
              "#46039f"
             ],
             [
              0.2222222222222222,
              "#7201a8"
             ],
             [
              0.3333333333333333,
              "#9c179e"
             ],
             [
              0.4444444444444444,
              "#bd3786"
             ],
             [
              0.5555555555555556,
              "#d8576b"
             ],
             [
              0.6666666666666666,
              "#ed7953"
             ],
             [
              0.7777777777777778,
              "#fb9f3a"
             ],
             [
              0.8888888888888888,
              "#fdca26"
             ],
             [
              1,
              "#f0f921"
             ]
            ],
            "type": "contour"
           }
          ],
          "contourcarpet": [
           {
            "colorbar": {
             "outlinewidth": 0,
             "ticks": ""
            },
            "type": "contourcarpet"
           }
          ],
          "heatmap": [
           {
            "colorbar": {
             "outlinewidth": 0,
             "ticks": ""
            },
            "colorscale": [
             [
              0,
              "#0d0887"
             ],
             [
              0.1111111111111111,
              "#46039f"
             ],
             [
              0.2222222222222222,
              "#7201a8"
             ],
             [
              0.3333333333333333,
              "#9c179e"
             ],
             [
              0.4444444444444444,
              "#bd3786"
             ],
             [
              0.5555555555555556,
              "#d8576b"
             ],
             [
              0.6666666666666666,
              "#ed7953"
             ],
             [
              0.7777777777777778,
              "#fb9f3a"
             ],
             [
              0.8888888888888888,
              "#fdca26"
             ],
             [
              1,
              "#f0f921"
             ]
            ],
            "type": "heatmap"
           }
          ],
          "histogram": [
           {
            "marker": {
             "pattern": {
              "fillmode": "overlay",
              "size": 10,
              "solidity": 0.2
             }
            },
            "type": "histogram"
           }
          ],
          "histogram2d": [
           {
            "colorbar": {
             "outlinewidth": 0,
             "ticks": ""
            },
            "colorscale": [
             [
              0,
              "#0d0887"
             ],
             [
              0.1111111111111111,
              "#46039f"
             ],
             [
              0.2222222222222222,
              "#7201a8"
             ],
             [
              0.3333333333333333,
              "#9c179e"
             ],
             [
              0.4444444444444444,
              "#bd3786"
             ],
             [
              0.5555555555555556,
              "#d8576b"
             ],
             [
              0.6666666666666666,
              "#ed7953"
             ],
             [
              0.7777777777777778,
              "#fb9f3a"
             ],
             [
              0.8888888888888888,
              "#fdca26"
             ],
             [
              1,
              "#f0f921"
             ]
            ],
            "type": "histogram2d"
           }
          ],
          "histogram2dcontour": [
           {
            "colorbar": {
             "outlinewidth": 0,
             "ticks": ""
            },
            "colorscale": [
             [
              0,
              "#0d0887"
             ],
             [
              0.1111111111111111,
              "#46039f"
             ],
             [
              0.2222222222222222,
              "#7201a8"
             ],
             [
              0.3333333333333333,
              "#9c179e"
             ],
             [
              0.4444444444444444,
              "#bd3786"
             ],
             [
              0.5555555555555556,
              "#d8576b"
             ],
             [
              0.6666666666666666,
              "#ed7953"
             ],
             [
              0.7777777777777778,
              "#fb9f3a"
             ],
             [
              0.8888888888888888,
              "#fdca26"
             ],
             [
              1,
              "#f0f921"
             ]
            ],
            "type": "histogram2dcontour"
           }
          ],
          "mesh3d": [
           {
            "colorbar": {
             "outlinewidth": 0,
             "ticks": ""
            },
            "type": "mesh3d"
           }
          ],
          "parcoords": [
           {
            "line": {
             "colorbar": {
              "outlinewidth": 0,
              "ticks": ""
             }
            },
            "type": "parcoords"
           }
          ],
          "pie": [
           {
            "automargin": true,
            "type": "pie"
           }
          ],
          "scatter": [
           {
            "fillpattern": {
             "fillmode": "overlay",
             "size": 10,
             "solidity": 0.2
            },
            "type": "scatter"
           }
          ],
          "scatter3d": [
           {
            "line": {
             "colorbar": {
              "outlinewidth": 0,
              "ticks": ""
             }
            },
            "marker": {
             "colorbar": {
              "outlinewidth": 0,
              "ticks": ""
             }
            },
            "type": "scatter3d"
           }
          ],
          "scattercarpet": [
           {
            "marker": {
             "colorbar": {
              "outlinewidth": 0,
              "ticks": ""
             }
            },
            "type": "scattercarpet"
           }
          ],
          "scattergeo": [
           {
            "marker": {
             "colorbar": {
              "outlinewidth": 0,
              "ticks": ""
             }
            },
            "type": "scattergeo"
           }
          ],
          "scattergl": [
           {
            "marker": {
             "colorbar": {
              "outlinewidth": 0,
              "ticks": ""
             }
            },
            "type": "scattergl"
           }
          ],
          "scattermap": [
           {
            "marker": {
             "colorbar": {
              "outlinewidth": 0,
              "ticks": ""
             }
            },
            "type": "scattermap"
           }
          ],
          "scattermapbox": [
           {
            "marker": {
             "colorbar": {
              "outlinewidth": 0,
              "ticks": ""
             }
            },
            "type": "scattermapbox"
           }
          ],
          "scatterpolar": [
           {
            "marker": {
             "colorbar": {
              "outlinewidth": 0,
              "ticks": ""
             }
            },
            "type": "scatterpolar"
           }
          ],
          "scatterpolargl": [
           {
            "marker": {
             "colorbar": {
              "outlinewidth": 0,
              "ticks": ""
             }
            },
            "type": "scatterpolargl"
           }
          ],
          "scatterternary": [
           {
            "marker": {
             "colorbar": {
              "outlinewidth": 0,
              "ticks": ""
             }
            },
            "type": "scatterternary"
           }
          ],
          "surface": [
           {
            "colorbar": {
             "outlinewidth": 0,
             "ticks": ""
            },
            "colorscale": [
             [
              0,
              "#0d0887"
             ],
             [
              0.1111111111111111,
              "#46039f"
             ],
             [
              0.2222222222222222,
              "#7201a8"
             ],
             [
              0.3333333333333333,
              "#9c179e"
             ],
             [
              0.4444444444444444,
              "#bd3786"
             ],
             [
              0.5555555555555556,
              "#d8576b"
             ],
             [
              0.6666666666666666,
              "#ed7953"
             ],
             [
              0.7777777777777778,
              "#fb9f3a"
             ],
             [
              0.8888888888888888,
              "#fdca26"
             ],
             [
              1,
              "#f0f921"
             ]
            ],
            "type": "surface"
           }
          ],
          "table": [
           {
            "cells": {
             "fill": {
              "color": "#EBF0F8"
             },
             "line": {
              "color": "white"
             }
            },
            "header": {
             "fill": {
              "color": "#C8D4E3"
             },
             "line": {
              "color": "white"
             }
            },
            "type": "table"
           }
          ]
         },
         "layout": {
          "annotationdefaults": {
           "arrowcolor": "#2a3f5f",
           "arrowhead": 0,
           "arrowwidth": 1
          },
          "autotypenumbers": "strict",
          "coloraxis": {
           "colorbar": {
            "outlinewidth": 0,
            "ticks": ""
           }
          },
          "colorscale": {
           "diverging": [
            [
             0,
             "#8e0152"
            ],
            [
             0.1,
             "#c51b7d"
            ],
            [
             0.2,
             "#de77ae"
            ],
            [
             0.3,
             "#f1b6da"
            ],
            [
             0.4,
             "#fde0ef"
            ],
            [
             0.5,
             "#f7f7f7"
            ],
            [
             0.6,
             "#e6f5d0"
            ],
            [
             0.7,
             "#b8e186"
            ],
            [
             0.8,
             "#7fbc41"
            ],
            [
             0.9,
             "#4d9221"
            ],
            [
             1,
             "#276419"
            ]
           ],
           "sequential": [
            [
             0,
             "#0d0887"
            ],
            [
             0.1111111111111111,
             "#46039f"
            ],
            [
             0.2222222222222222,
             "#7201a8"
            ],
            [
             0.3333333333333333,
             "#9c179e"
            ],
            [
             0.4444444444444444,
             "#bd3786"
            ],
            [
             0.5555555555555556,
             "#d8576b"
            ],
            [
             0.6666666666666666,
             "#ed7953"
            ],
            [
             0.7777777777777778,
             "#fb9f3a"
            ],
            [
             0.8888888888888888,
             "#fdca26"
            ],
            [
             1,
             "#f0f921"
            ]
           ],
           "sequentialminus": [
            [
             0,
             "#0d0887"
            ],
            [
             0.1111111111111111,
             "#46039f"
            ],
            [
             0.2222222222222222,
             "#7201a8"
            ],
            [
             0.3333333333333333,
             "#9c179e"
            ],
            [
             0.4444444444444444,
             "#bd3786"
            ],
            [
             0.5555555555555556,
             "#d8576b"
            ],
            [
             0.6666666666666666,
             "#ed7953"
            ],
            [
             0.7777777777777778,
             "#fb9f3a"
            ],
            [
             0.8888888888888888,
             "#fdca26"
            ],
            [
             1,
             "#f0f921"
            ]
           ]
          },
          "colorway": [
           "#636efa",
           "#EF553B",
           "#00cc96",
           "#ab63fa",
           "#FFA15A",
           "#19d3f3",
           "#FF6692",
           "#B6E880",
           "#FF97FF",
           "#FECB52"
          ],
          "font": {
           "color": "#2a3f5f"
          },
          "geo": {
           "bgcolor": "white",
           "lakecolor": "white",
           "landcolor": "white",
           "showlakes": true,
           "showland": true,
           "subunitcolor": "#C8D4E3"
          },
          "hoverlabel": {
           "align": "left"
          },
          "hovermode": "closest",
          "mapbox": {
           "style": "light"
          },
          "paper_bgcolor": "white",
          "plot_bgcolor": "white",
          "polar": {
           "angularaxis": {
            "gridcolor": "#EBF0F8",
            "linecolor": "#EBF0F8",
            "ticks": ""
           },
           "bgcolor": "white",
           "radialaxis": {
            "gridcolor": "#EBF0F8",
            "linecolor": "#EBF0F8",
            "ticks": ""
           }
          },
          "scene": {
           "xaxis": {
            "backgroundcolor": "white",
            "gridcolor": "#DFE8F3",
            "gridwidth": 2,
            "linecolor": "#EBF0F8",
            "showbackground": true,
            "ticks": "",
            "zerolinecolor": "#EBF0F8"
           },
           "yaxis": {
            "backgroundcolor": "white",
            "gridcolor": "#DFE8F3",
            "gridwidth": 2,
            "linecolor": "#EBF0F8",
            "showbackground": true,
            "ticks": "",
            "zerolinecolor": "#EBF0F8"
           },
           "zaxis": {
            "backgroundcolor": "white",
            "gridcolor": "#DFE8F3",
            "gridwidth": 2,
            "linecolor": "#EBF0F8",
            "showbackground": true,
            "ticks": "",
            "zerolinecolor": "#EBF0F8"
           }
          },
          "shapedefaults": {
           "line": {
            "color": "#2a3f5f"
           }
          },
          "ternary": {
           "aaxis": {
            "gridcolor": "#DFE8F3",
            "linecolor": "#A2B1C6",
            "ticks": ""
           },
           "baxis": {
            "gridcolor": "#DFE8F3",
            "linecolor": "#A2B1C6",
            "ticks": ""
           },
           "bgcolor": "white",
           "caxis": {
            "gridcolor": "#DFE8F3",
            "linecolor": "#A2B1C6",
            "ticks": ""
           }
          },
          "title": {
           "x": 0.05
          },
          "xaxis": {
           "automargin": true,
           "gridcolor": "#EBF0F8",
           "linecolor": "#EBF0F8",
           "ticks": "",
           "title": {
            "standoff": 15
           },
           "zerolinecolor": "#EBF0F8",
           "zerolinewidth": 2
          },
          "yaxis": {
           "automargin": true,
           "gridcolor": "#EBF0F8",
           "linecolor": "#EBF0F8",
           "ticks": "",
           "title": {
            "standoff": 15
           },
           "zerolinecolor": "#EBF0F8",
           "zerolinewidth": 2
          }
         }
        },
        "title": {
         "text": "Distribución del volumen medio por empresa"
        }
       }
      }
     },
     "metadata": {},
     "output_type": "display_data"
    },
    {
     "ename": "ValueError",
     "evalue": "\nImage export using the \"kaleido\" engine requires the kaleido package,\nwhich can be installed using pip:\n    $ pip install -U kaleido\n",
     "output_type": "error",
     "traceback": [
      "\u001b[31m---------------------------------------------------------------------------\u001b[39m",
      "\u001b[31mValueError\u001b[39m                                Traceback (most recent call last)",
      "\u001b[36mCell\u001b[39m\u001b[36m \u001b[39m\u001b[32mIn[9]\u001b[39m\u001b[32m, line 34\u001b[39m\n\u001b[32m     31\u001b[39m fig.write_html(\u001b[33mr\u001b[39m\u001b[33m\"\u001b[39m\u001b[33m../Visualizaciones/pie_chart.html\u001b[39m\u001b[33m\"\u001b[39m)\n\u001b[32m     33\u001b[39m \u001b[38;5;66;03m# Guardar también como PNG\u001b[39;00m\n\u001b[32m---> \u001b[39m\u001b[32m34\u001b[39m \u001b[43mfig\u001b[49m\u001b[43m.\u001b[49m\u001b[43mwrite_image\u001b[49m\u001b[43m(\u001b[49m\u001b[33;43mr\u001b[39;49m\u001b[33;43m\"\u001b[39;49m\u001b[33;43m../Visualizaciones/pie_chart.png\u001b[39;49m\u001b[33;43m\"\u001b[39;49m\u001b[43m,\u001b[49m\u001b[43m \u001b[49m\u001b[43mwidth\u001b[49m\u001b[43m=\u001b[49m\u001b[32;43m1200\u001b[39;49m\u001b[43m,\u001b[49m\u001b[43m \u001b[49m\u001b[43mheight\u001b[49m\u001b[43m=\u001b[49m\u001b[32;43m600\u001b[39;49m\u001b[43m)\u001b[49m\n",
      "\u001b[36mFile \u001b[39m\u001b[32mc:\\Users\\jubeda2\\AppData\\Local\\Programs\\Python\\Python313\\Lib\\site-packages\\plotly\\basedatatypes.py:3827\u001b[39m, in \u001b[36mBaseFigure.write_image\u001b[39m\u001b[34m(self, *args, **kwargs)\u001b[39m\n\u001b[32m   3767\u001b[39m \u001b[38;5;250m\u001b[39m\u001b[33;03m\"\"\"\u001b[39;00m\n\u001b[32m   3768\u001b[39m \u001b[33;03mConvert a figure to a static image and write it to a file or writeable\u001b[39;00m\n\u001b[32m   3769\u001b[39m \u001b[33;03mobject\u001b[39;00m\n\u001b[32m   (...)\u001b[39m\u001b[32m   3823\u001b[39m \u001b[33;03mNone\u001b[39;00m\n\u001b[32m   3824\u001b[39m \u001b[33;03m\"\"\"\u001b[39;00m\n\u001b[32m   3825\u001b[39m \u001b[38;5;28;01mimport\u001b[39;00m\u001b[38;5;250m \u001b[39m\u001b[34;01mplotly\u001b[39;00m\u001b[34;01m.\u001b[39;00m\u001b[34;01mio\u001b[39;00m\u001b[38;5;250m \u001b[39m\u001b[38;5;28;01mas\u001b[39;00m\u001b[38;5;250m \u001b[39m\u001b[34;01mpio\u001b[39;00m\n\u001b[32m-> \u001b[39m\u001b[32m3827\u001b[39m \u001b[38;5;28;01mreturn\u001b[39;00m \u001b[43mpio\u001b[49m\u001b[43m.\u001b[49m\u001b[43mwrite_image\u001b[49m\u001b[43m(\u001b[49m\u001b[38;5;28;43mself\u001b[39;49m\u001b[43m,\u001b[49m\u001b[43m \u001b[49m\u001b[43m*\u001b[49m\u001b[43margs\u001b[49m\u001b[43m,\u001b[49m\u001b[43m \u001b[49m\u001b[43m*\u001b[49m\u001b[43m*\u001b[49m\u001b[43mkwargs\u001b[49m\u001b[43m)\u001b[49m\n",
      "\u001b[36mFile \u001b[39m\u001b[32mc:\\Users\\jubeda2\\AppData\\Local\\Programs\\Python\\Python313\\Lib\\site-packages\\plotly\\io\\_kaleido.py:266\u001b[39m, in \u001b[36mwrite_image\u001b[39m\u001b[34m(fig, file, format, scale, width, height, validate, engine)\u001b[39m\n\u001b[32m    250\u001b[39m             \u001b[38;5;28;01mraise\u001b[39;00m \u001b[38;5;167;01mValueError\u001b[39;00m(\n\u001b[32m    251\u001b[39m \u001b[38;5;250m                \u001b[39m\u001b[33;03m\"\"\"\u001b[39;00m\n\u001b[32m    252\u001b[39m \u001b[33;03mCannot infer image type from output path '{file}'.\u001b[39;00m\n\u001b[32m   (...)\u001b[39m\u001b[32m    260\u001b[39m                 )\n\u001b[32m    261\u001b[39m             )\n\u001b[32m    263\u001b[39m     \u001b[38;5;66;03m# Request image\u001b[39;00m\n\u001b[32m    264\u001b[39m     \u001b[38;5;66;03m# -------------\u001b[39;00m\n\u001b[32m    265\u001b[39m     \u001b[38;5;66;03m# Do this first so we don't create a file if image conversion fails\u001b[39;00m\n\u001b[32m--> \u001b[39m\u001b[32m266\u001b[39m     img_data = \u001b[43mto_image\u001b[49m\u001b[43m(\u001b[49m\n\u001b[32m    267\u001b[39m \u001b[43m        \u001b[49m\u001b[43mfig\u001b[49m\u001b[43m,\u001b[49m\n\u001b[32m    268\u001b[39m \u001b[43m        \u001b[49m\u001b[38;5;28;43mformat\u001b[39;49m\u001b[43m=\u001b[49m\u001b[38;5;28;43mformat\u001b[39;49m\u001b[43m,\u001b[49m\n\u001b[32m    269\u001b[39m \u001b[43m        \u001b[49m\u001b[43mscale\u001b[49m\u001b[43m=\u001b[49m\u001b[43mscale\u001b[49m\u001b[43m,\u001b[49m\n\u001b[32m    270\u001b[39m \u001b[43m        \u001b[49m\u001b[43mwidth\u001b[49m\u001b[43m=\u001b[49m\u001b[43mwidth\u001b[49m\u001b[43m,\u001b[49m\n\u001b[32m    271\u001b[39m \u001b[43m        \u001b[49m\u001b[43mheight\u001b[49m\u001b[43m=\u001b[49m\u001b[43mheight\u001b[49m\u001b[43m,\u001b[49m\n\u001b[32m    272\u001b[39m \u001b[43m        \u001b[49m\u001b[43mvalidate\u001b[49m\u001b[43m=\u001b[49m\u001b[43mvalidate\u001b[49m\u001b[43m,\u001b[49m\n\u001b[32m    273\u001b[39m \u001b[43m        \u001b[49m\u001b[43mengine\u001b[49m\u001b[43m=\u001b[49m\u001b[43mengine\u001b[49m\u001b[43m,\u001b[49m\n\u001b[32m    274\u001b[39m \u001b[43m    \u001b[49m\u001b[43m)\u001b[49m\n\u001b[32m    276\u001b[39m     \u001b[38;5;66;03m# Open file\u001b[39;00m\n\u001b[32m    277\u001b[39m     \u001b[38;5;66;03m# ---------\u001b[39;00m\n\u001b[32m    278\u001b[39m     \u001b[38;5;28;01mif\u001b[39;00m path \u001b[38;5;129;01mis\u001b[39;00m \u001b[38;5;28;01mNone\u001b[39;00m:\n\u001b[32m    279\u001b[39m         \u001b[38;5;66;03m# We previously failed to make sense of `file` as a pathlib object.\u001b[39;00m\n\u001b[32m    280\u001b[39m         \u001b[38;5;66;03m# Attempt to write to `file` as an open file descriptor.\u001b[39;00m\n",
      "\u001b[36mFile \u001b[39m\u001b[32mc:\\Users\\jubeda2\\AppData\\Local\\Programs\\Python\\Python313\\Lib\\site-packages\\plotly\\io\\_kaleido.py:132\u001b[39m, in \u001b[36mto_image\u001b[39m\u001b[34m(fig, format, width, height, scale, validate, engine)\u001b[39m\n\u001b[32m    130\u001b[39m     \u001b[38;5;66;03m# Raise informative error message if Kaleido is not installed\u001b[39;00m\n\u001b[32m    131\u001b[39m     \u001b[38;5;28;01mif\u001b[39;00m scope \u001b[38;5;129;01mis\u001b[39;00m \u001b[38;5;28;01mNone\u001b[39;00m:\n\u001b[32m--> \u001b[39m\u001b[32m132\u001b[39m         \u001b[38;5;28;01mraise\u001b[39;00m \u001b[38;5;167;01mValueError\u001b[39;00m(\n\u001b[32m    133\u001b[39m \u001b[38;5;250m            \u001b[39m\u001b[33;03m\"\"\"\u001b[39;00m\n\u001b[32m    134\u001b[39m \u001b[33;03mImage export using the \"kaleido\" engine requires the kaleido package,\u001b[39;00m\n\u001b[32m    135\u001b[39m \u001b[33;03mwhich can be installed using pip:\u001b[39;00m\n\u001b[32m    136\u001b[39m \u001b[33;03m    $ pip install -U kaleido\u001b[39;00m\n\u001b[32m    137\u001b[39m \u001b[33;03m\"\"\"\u001b[39;00m\n\u001b[32m    138\u001b[39m         )\n\u001b[32m    140\u001b[39m     \u001b[38;5;66;03m# Validate figure\u001b[39;00m\n\u001b[32m    141\u001b[39m     \u001b[38;5;66;03m# ---------------\u001b[39;00m\n\u001b[32m    142\u001b[39m     fig_dict = validate_coerce_fig_to_dict(fig, validate)\n",
      "\u001b[31mValueError\u001b[39m: \nImage export using the \"kaleido\" engine requires the kaleido package,\nwhich can be installed using pip:\n    $ pip install -U kaleido\n"
     ]
    }
   ],
   "source": [
    "# ==================================================\n",
    "# PIE CHART — Distribución del volumen medio por empresa\n",
    "# ==================================================\n",
    "\n",
    "# Calcular volumen medio por ticker\n",
    "volumen_medio = df.groupby(\"Ticker\")[\"Volume\"].mean().reset_index()\n",
    "\n",
    "# Crear gráfico de pastel tipo donut\n",
    "fig = go.Figure(\n",
    "    data=[go.Pie(\n",
    "        labels=volumen_medio[\"Ticker\"],\n",
    "        values=volumen_medio[\"Volume\"],\n",
    "        textinfo=\"label+percent+value\",\n",
    "        hovertemplate=\"<b>%{label}</b><br>Volumen medio: %{value:,.0f}<br>%{percent}\",\n",
    "        textposition=\"auto\",\n",
    "        # Comentario: usar hole=0.3 para crear un donut chart más moderno\n",
    "        hole=0.3,\n",
    "        marker=dict(line=dict(color=\"#FFFFFF\", width=2))\n",
    "    )]\n",
    ")\n",
    "\n",
    "fig.update_layout(\n",
    "    title=\"Distribución del volumen medio por empresa\",\n",
    "    template=\"plotly_white\",\n",
    ")\n",
    "\n",
    "# Mostrar\n",
    "fig.show()\n",
    "\n",
    "# Guardar como HTML (ya lo tienes)\n",
    "fig.write_html(r\"../Visualizaciones/pie_chart.html\")\n",
    "\n",
    "# Guardar también como PNG\n",
    "fig.write_image(r\"../Visualizaciones/pie_chart.png\", width=1200, height=600)\n"
   ]
  },
  {
   "cell_type": "markdown",
   "id": "40e03c2e",
   "metadata": {},
   "source": [
    "---\n",
    "---"
   ]
  },
  {
   "cell_type": "markdown",
   "id": "0d375bdd",
   "metadata": {},
   "source": [
    "## TÉCNICA GRUPO II (Habituales y específicas): Candlestick Chart  \n",
    "\n",
    "**Objetivo**: Mostrar la evolución temporal de precios OHLC por empresa.\n",
    "\n",
    "Incluye hover detallado, media móvil y rangeslider temporal."
   ]
  },
  {
   "cell_type": "code",
   "execution_count": null,
   "id": "47af5658",
   "metadata": {},
   "outputs": [
    {
     "data": {
      "application/vnd.plotly.v1+json": {
       "config": {
        "plotlyServerURL": "https://plot.ly"
       },
       "data": [
        {
         "close": {
          "bdata": "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",
          "dtype": "f8"
         },
         "decreasing": {
          "line": {
           "color": "#EF553B"
          }
         },
         "high": {
          "bdata": "8I3YvosiYEAM+v/vubdfQLQUzueOf19Aqe2US0wPYEAfwm3Zv3FgQDpnmv7nLWBAV8QEmed0YECHR/UpkoxgQBg+f8VloWBAKX6+ci7sYECgFJLG1RVhQJwJLXpdy2BAxtv3yDcDYUBDAeyYdaphQKvWAjpppWFAU3ExEGCOYUCsWVk2zsdhQJlJ/KTWJWJA8+g2vdPwYUAf0KUNpcphQCsUwlBGEmJA+azl/HqiYkDCfp8jH2ZjQGMOjSsR32JAhsoALEciY0C51sdzxA1jQLGCzDDhBWNAlqVWGdKuYkBBID5ZGgtjQFBsZ/ed+2JAdyW0OkoyY0Bn1bKUhUxjQGqTw4hI42JAqS2Jwo6tYkDCojaY5IJiQDy5yeA3j2JAAI853KorYkAzvUMCPmpiQGM8lhdmZ2JAUZ2PcO4sYkAnFO/ZfxxiQGgMV3+Np2JAfz5hkJJLY0Bu9DZh1QNjQCG3Tesi8mJAkMpVdfMTY0BwTqo9LqJiQCrE996052JARPACluzvYkCG5gq2LutiQI2/XUehUGNAK9K+mnpZY0AYxXI0nHtjQPXNL8+KrWNAMTV/5CIEZEAsugJ0ffFjQJeGZds/y2NAWKx5yNbYY0DtiSepyJBjQIpm1g2w4WNAbLUgc5AOZEDS5QwXhV5kQJywLq9Jh2RAHpIxs6uYZEBjF/LRGWBkQA2Fi4VBXWRAAAAAwKgAZECBakSkFgtkQLLjpkCbAWRA3FMGns13ZEChhmmbPIhkQMxBrX7YamRA2bWvIK+qZECq6AUIY8JkQM02oK44uWRAA7ROWViMZEBbzdSRe3FkQD/aYpTrh2RASMRNlF5nZEBQav4CB89kQE0LVrrL92RA4e94AcIKZUAQLyW9mAdlQHKH3FicGWVAvzpwov2eZED/qmj2bYRlQNWgDDE1dmVAoZd6LmlsZUA5Ml+g5XtlQFhwbAmYjWVAVR5lLXSEZUBkGNawjWllQIeHBoVWZ2VAmBQGjrFgZUCS98kSzKllQD/vbu4wzmVAvfLoRAaZZUC1gl737m5lQM1M5lCNUGVAb/M93GN/ZUDcsyDjkbplQKSgexh5IGZAAOYiyN0rZkBpn73JO0RmQDCxVHfEeGZAbQHjSBbdZkBWkE7cO0RmQAu5tam6ZmZAuDag1wRbZkD08pEQAodmQHEklfWKu2ZAUIL/L8XDZkCpgEL5XctmQEy1v+TFDmdAv0auvaUdZ0DN8s1VewFnQJAbDmul62ZAbVDH2osfZ0DimfeRry9nQLckXW4xP2dAQK/oSvRJZ0AARlF9vXlnQEHnG7sef2dAa+cspa4KaECB6yThsfdnQLdhUFY222dAKsbeA9W8Z0AcnhW5ZtFnQF9oYX6WfGdA9SWCdcBmZ0BraO0ltLJnQO1JvVyQomdAhUE0dD+iZ0CsTOPKngVoQPU7E4LvBWhAJpAny1uBaECnwCYPqUloQKqzC5UwGmhA9wgve0oYaECfi4SeagloQC2/AJFkL2hAD4XVM8NgaEAqnaZNuU5oQExCFyJLSmhALojrP+NRaEBEOZ3U1SBoQLNyakTox2dAIOG+nP0pZ0BczPlyfaNmQNBMvQL7SGZAUiGUDN5dZkC975vOK1hmQHyTFaxlHGZAF91S2U0+ZkCSdvAwpjdmQIIkmVXcGWZAyx1ztzj5ZUDqIChn2axlQG9JjlR9zWVA+nYSvpv+ZUBv0MF0P3lmQJ16gbD8amZA1Cou9zAtZkDESjg301pmQBckPGVo42ZAdeVXe+RAZ0CNm2pMI2lnQDnPzVJ9gmdAq5sq4GOEZ0AVtfq9lGBnQJKqW3lnD2ZAgjVnzrtPZkBIsR6OolFmQBpoNIk/TGZAC8A69pDyZUB/e9kkisxlQJ3d8fk22WVA5JtGFXs0ZkBROEkgZzxmQJ9PbxefPmZAkV5NreDSZUDEHSZImOtlQDyJcucb6GVA3e/OigSwZUDjvfuakWtlQNP7auWPS2VA4IuKE4VsZUAw8ppLf5NlQKC7dmNEfmVAbmyvS6WQZUAbMl7X8LdlQDPz1aRuCGZAjQyE+wUqZkCYG+9wQT9mQOhZ0wZgQ2ZAtxnHWkiSZkD5PDQCSoVmQEhEvkT5KmZAxyNaFQ8WZkCIG0R8cPtlQFSbIuKtA2ZA3ANbSv22ZUBdRX6+ToplQChlaZmIf2VA5mqJ4TNsZUCpf1nX9jZlQCeQt5JG6mRAjnalEk8wZUBZB7arwCdlQKBlH3dHkWVAVjhREMcBZkAs348dW+NlQM3MorsQNmZAkBrPW3OVZkDAqWsgdbVmQMd+rl6wymZA8PW9bh4gZ0AL/J7I+w5nQNEi6gv8UGdAbnNkJhd9Z0DOCE5Ia6tnQGYw0+sDmWdAb0YTXZDJZ0Cj13I6ML1nQONNdxbu6WdAd1iR6oOpZ0CxbKWaN6JnQPSfofs5r2dAKxKpj0bPZ0BexoptHJdnQJ8JRF51vmdAwEoZPIuOZ0DHehMakxhoQPy3zFD/I2hAwzFy65wraEBQUUL+BktoQIgS+k2z+2dARWcJsLoiaECrXd+/zopoQN1K82Y2vmhAaBkyC4CXaECGsH0bVl9oQEteCXB9aWhAvskjHqeAaEBjtHMwnW1oQNMTRsWfOGhAR4X7WmQIaEBPxrctBPxnQMK/XDnTIGhA2DBuBJMYaEDIfxaOdFtnQOjDlCU5CmdAhND3eLGxZkAMFjO2OKdmQGfpmb9WAWdAImMIEA/zZkDsR9UuuRpnQDZDMpdZL2dAmhymGoMlZ0COAC1s0dZmQCddbI6drGZAemPw7KpxZ0AGUKpN1cpnQJtGSNcVNmhAZ905TGlDaEAuP3g0Z1doQPWMQrPpU2hAeWOqcf8jaEAbjjEtxNJnQLWWJqgSxmdAfWZir+8wZ0D1aIYvLSxnQJyWB/c7OGdAjDaApih1Z0AhLgnwD3dnQEYVWBVGrmdAefLIOFx+Z0AqB/0JVZRnQFfNErhkamdAuOVWKTwcZ0CrxndFoQZnQOXlylOW5WZApKy3QwbxZkDb6FsPI6RmQGlMLpXAsmZAH1Cf6YT0ZkDyx5CvD/dmQCb9X0yfrmZA1xdQJ3rTZkCA7ORUD7pmQKDAbPKVqGZA6f47L8VnZkCvhGw9cPRlQC6i8voGWmVAr2WHTJxAZUB1+zMUaDBlQCVRM+fEjmVAYq1ky1+kZUDEoLjFQJllQHqU882QfmVAnglAXCaiZUAAAACAdGxlQOSl/ZIsDmZATmNNyznrZUAAAACgrCxmQG//wCkvB2ZAYrRM5h16ZUASqLG12VZlQCwS6x5URmVAEE2Vb5eLZUD+g5VxEGBlQPq7+J3tQGVAFxHDaz4EZUBH1Q930S5lQOhQ2S83VmVA2mCm0JolZUDlGZyxy/9kQNS+ak3BG2VAwtA3/Ez8ZEDYLcMXsMZlQKe97WfTImZAODN1PtzrZUBh0sDLrJBlQAHoxlfdLWVAodidywDuZECb7NC61aZkQC0uS28owmRAAjv6fHy7ZECes1Ql+QJlQAAVJhKYLGVAUS4HmclDZUCEd3c6zNhlQPXY2g/Bt2VAQmv3s1BvZUArMYh434VlQIgWgI9VNWdA3c1ZkF/cZkDaB0w7nfJmQLbQmJl4uGZAyktVHv3qZkCUx985oABnQCWwryaTQGdA4FM2qMBmZ0D/YrdwhLFnQBfBQK7Vv2dAeVxKl5u2Z0AovOEO7NlnQKhhVj+x82dAcAN3aY72Z0Bi1j7uprxnQAl13VJKr2dAc4tfRUj8Z0AwT1nka+RnQIaexrUx4mdA8S7HFpruZ0AdysdEmDtoQAdDc+sXRmhA7OHKU1x4aEC0Kl1somtoQCyHiiGieWhACvgdNxaFaECOwJgmyL5pQPEI2BSmXWtA4M6lFePvakCfbofInr1qQKI/elvhNWtAjchVArMra0Cmb5M2CKBqQCRMUktEVWpA7Ef9dglvakCRstSvCkVqQFCeILnBs2pAZP5TDcHPakBD6pPsQNpqQHhiev4QCGtAarXeKWBja0ABAABAmYhrQEQe3el9JGxAk0cpdAhRbEANX5ijWIJsQAcsF+Ns92xALAkgBXnhbED80iYibelsQBZGzwx1e21AeLf/TepcbUBHCdik4sNsQANuHQxvo2xA2UlSqKAvbEBLa/Vlzk5sQK2wQfAUNGxADE50bP/va0AGEsgwVHJrQF0ud2MPR2tAAKDg5wNBa0DBa4zjyGFrQJynirDR0GtAUEhnDtHla0AVOagOcwlsQG9diDl9iGpA3yjSndEYakCGMNhl8YxqQGW74nXCnmpAbm/MitfwakDxo0Scx09rQJe2w1iWm2tA509W6eW/a0BSKI53ywlsQM09WmbvOGxA5BBw9C0ebEDv7xC0w0NsQCPfa4qQXWxAGmFdCghpbEA14UqBNWVsQC9bcrRER2xAUjKvoUZ5bEAWQ3kccplsQNP76nfp+mxATrI/X6WqbEAxhxy0DX5sQKsHFFUVmGtAuEerW+8NbEAQ5BWESgZsQAWzltbWh2tAj2OAIoeOa0A286Euz8FrQBuAYCZ20GtADvPgbhHga0B145z41gZrQH9JVHOl/GpAQn9ll7S1a0A1pbISLJhsQGyrCI1TAG1AN/S1CWOMbEDxSDmcM4lsQE6hJxaWR2xAM2huryBubEAcutm4nY5sQAEAAOB1/WxAR1R/tMGSbEDVTC98IkpsQKv15zxMOGxAyFYKljNebEAeidOznxRsQCk7+YfcHWxANTXIJ/GVbEBCuAqr+o1sQHDjSuoci2xAtF6TDgLVbEDM9ZqdeYxtQJb/4hhu4WxAv95y3IgYbUDqu0uYv2JtQIt0V/UWeG1AL9yf9gVkbUCCEm6In0FtQGCQPAMGuGxAEBcI0HcEbUC38v1GkDRtQBu7CrTSJ21AWTF2PG4MbUC2liR9fZhsQIraZ2fLCWxACDVoBkG4a0D4FG6GM91rQEYn4l66IGxAIIHwMWFabEB3Vb6cPHtsQJHF9wbaHGxA+5j+FlgZbEAwY7zJJDtsQKWJL+rugWxAMzPb/MBDbEC+XYXIrJ1sQMFuHAURq2xAywIQrbujbEAMUfo5EatsQMjNRF7svGxA0+753JgNbUB0FZk4k1dtQBgo6JlmW21ACCZEVwCfbUAWTe/5Bf5tQLrw+S/XPG5AMFbUX+NnbkDQI4xomXVuQHM7FyF4eG5A9oXujLHLbkDHVNifn+puQDH0BPs1PW9AVOeWBYb7bkC3PNrCDw1vQG8woWW0T29A1MSD29Odb0Al0Y03LaxvQGfAKXV5Y29AuRmaeCLDb0BvLQld3NdvQI5Y/Pq+FHBAoFr0+eAycECz8CngjhxwQDrYGRROk29AiryYP0qMb0A=",
          "dtype": "f8"
         },
         "increasing": {
          "line": {
           "color": "#00CC96"
          }
         },
         "low": {
          "bdata": "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",
          "dtype": "f8"
         },
         "name": "AAPL",
         "open": {
          "bdata": "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",
          "dtype": "f8"
         },
         "type": "candlestick",
         "x": [
          "2023-01-03T00:00:00.000000000",
          "2023-01-04T00:00:00.000000000",
          "2023-01-05T00:00:00.000000000",
          "2023-01-06T00:00:00.000000000",
          "2023-01-09T00:00:00.000000000",
          "2023-01-10T00:00:00.000000000",
          "2023-01-11T00:00:00.000000000",
          "2023-01-12T00:00:00.000000000",
          "2023-01-13T00:00:00.000000000",
          "2023-01-17T00:00:00.000000000",
          "2023-01-18T00:00:00.000000000",
          "2023-01-19T00:00:00.000000000",
          "2023-01-20T00:00:00.000000000",
          "2023-01-23T00:00:00.000000000",
          "2023-01-24T00:00:00.000000000",
          "2023-01-25T00:00:00.000000000",
          "2023-01-26T00:00:00.000000000",
          "2023-01-27T00:00:00.000000000",
          "2023-01-30T00:00:00.000000000",
          "2023-01-31T00:00:00.000000000",
          "2023-02-01T00:00:00.000000000",
          "2023-02-02T00:00:00.000000000",
          "2023-02-03T00:00:00.000000000",
          "2023-02-06T00:00:00.000000000",
          "2023-02-07T00:00:00.000000000",
          "2023-02-08T00:00:00.000000000",
          "2023-02-09T00:00:00.000000000",
          "2023-02-10T00:00:00.000000000",
          "2023-02-13T00:00:00.000000000",
          "2023-02-14T00:00:00.000000000",
          "2023-02-15T00:00:00.000000000",
          "2023-02-16T00:00:00.000000000",
          "2023-02-17T00:00:00.000000000",
          "2023-02-21T00:00:00.000000000",
          "2023-02-22T00:00:00.000000000",
          "2023-02-23T00:00:00.000000000",
          "2023-02-24T00:00:00.000000000",
          "2023-02-27T00:00:00.000000000",
          "2023-02-28T00:00:00.000000000",
          "2023-03-01T00:00:00.000000000",
          "2023-03-02T00:00:00.000000000",
          "2023-03-03T00:00:00.000000000",
          "2023-03-06T00:00:00.000000000",
          "2023-03-07T00:00:00.000000000",
          "2023-03-08T00:00:00.000000000",
          "2023-03-09T00:00:00.000000000",
          "2023-03-10T00:00:00.000000000",
          "2023-03-13T00:00:00.000000000",
          "2023-03-14T00:00:00.000000000",
          "2023-03-15T00:00:00.000000000",
          "2023-03-16T00:00:00.000000000",
          "2023-03-17T00:00:00.000000000",
          "2023-03-20T00:00:00.000000000",
          "2023-03-21T00:00:00.000000000",
          "2023-03-22T00:00:00.000000000",
          "2023-03-23T00:00:00.000000000",
          "2023-03-24T00:00:00.000000000",
          "2023-03-27T00:00:00.000000000",
          "2023-03-28T00:00:00.000000000",
          "2023-03-29T00:00:00.000000000",
          "2023-03-30T00:00:00.000000000",
          "2023-03-31T00:00:00.000000000",
          "2023-04-03T00:00:00.000000000",
          "2023-04-04T00:00:00.000000000",
          "2023-04-05T00:00:00.000000000",
          "2023-04-06T00:00:00.000000000",
          "2023-04-10T00:00:00.000000000",
          "2023-04-11T00:00:00.000000000",
          "2023-04-12T00:00:00.000000000",
          "2023-04-13T00:00:00.000000000",
          "2023-04-14T00:00:00.000000000",
          "2023-04-17T00:00:00.000000000",
          "2023-04-18T00:00:00.000000000",
          "2023-04-19T00:00:00.000000000",
          "2023-04-20T00:00:00.000000000",
          "2023-04-21T00:00:00.000000000",
          "2023-04-24T00:00:00.000000000",
          "2023-04-25T00:00:00.000000000",
          "2023-04-26T00:00:00.000000000",
          "2023-04-27T00:00:00.000000000",
          "2023-04-28T00:00:00.000000000",
          "2023-05-01T00:00:00.000000000",
          "2023-05-02T00:00:00.000000000",
          "2023-05-03T00:00:00.000000000",
          "2023-05-04T00:00:00.000000000",
          "2023-05-05T00:00:00.000000000",
          "2023-05-08T00:00:00.000000000",
          "2023-05-09T00:00:00.000000000",
          "2023-05-10T00:00:00.000000000",
          "2023-05-11T00:00:00.000000000",
          "2023-05-12T00:00:00.000000000",
          "2023-05-15T00:00:00.000000000",
          "2023-05-16T00:00:00.000000000",
          "2023-05-17T00:00:00.000000000",
          "2023-05-18T00:00:00.000000000",
          "2023-05-19T00:00:00.000000000",
          "2023-05-22T00:00:00.000000000",
          "2023-05-23T00:00:00.000000000",
          "2023-05-24T00:00:00.000000000",
          "2023-05-25T00:00:00.000000000",
          "2023-05-26T00:00:00.000000000",
          "2023-05-30T00:00:00.000000000",
          "2023-05-31T00:00:00.000000000",
          "2023-06-01T00:00:00.000000000",
          "2023-06-02T00:00:00.000000000",
          "2023-06-05T00:00:00.000000000",
          "2023-06-06T00:00:00.000000000",
          "2023-06-07T00:00:00.000000000",
          "2023-06-08T00:00:00.000000000",
          "2023-06-09T00:00:00.000000000",
          "2023-06-12T00:00:00.000000000",
          "2023-06-13T00:00:00.000000000",
          "2023-06-14T00:00:00.000000000",
          "2023-06-15T00:00:00.000000000",
          "2023-06-16T00:00:00.000000000",
          "2023-06-20T00:00:00.000000000",
          "2023-06-21T00:00:00.000000000",
          "2023-06-22T00:00:00.000000000",
          "2023-06-23T00:00:00.000000000",
          "2023-06-26T00:00:00.000000000",
          "2023-06-27T00:00:00.000000000",
          "2023-06-28T00:00:00.000000000",
          "2023-06-29T00:00:00.000000000",
          "2023-06-30T00:00:00.000000000",
          "2023-07-03T00:00:00.000000000",
          "2023-07-05T00:00:00.000000000",
          "2023-07-06T00:00:00.000000000",
          "2023-07-07T00:00:00.000000000",
          "2023-07-10T00:00:00.000000000",
          "2023-07-11T00:00:00.000000000",
          "2023-07-12T00:00:00.000000000",
          "2023-07-13T00:00:00.000000000",
          "2023-07-14T00:00:00.000000000",
          "2023-07-17T00:00:00.000000000",
          "2023-07-18T00:00:00.000000000",
          "2023-07-19T00:00:00.000000000",
          "2023-07-20T00:00:00.000000000",
          "2023-07-21T00:00:00.000000000",
          "2023-07-24T00:00:00.000000000",
          "2023-07-25T00:00:00.000000000",
          "2023-07-26T00:00:00.000000000",
          "2023-07-27T00:00:00.000000000",
          "2023-07-28T00:00:00.000000000",
          "2023-07-31T00:00:00.000000000",
          "2023-08-01T00:00:00.000000000",
          "2023-08-02T00:00:00.000000000",
          "2023-08-03T00:00:00.000000000",
          "2023-08-04T00:00:00.000000000",
          "2023-08-07T00:00:00.000000000",
          "2023-08-08T00:00:00.000000000",
          "2023-08-09T00:00:00.000000000",
          "2023-08-10T00:00:00.000000000",
          "2023-08-11T00:00:00.000000000",
          "2023-08-14T00:00:00.000000000",
          "2023-08-15T00:00:00.000000000",
          "2023-08-16T00:00:00.000000000",
          "2023-08-17T00:00:00.000000000",
          "2023-08-18T00:00:00.000000000",
          "2023-08-21T00:00:00.000000000",
          "2023-08-22T00:00:00.000000000",
          "2023-08-23T00:00:00.000000000",
          "2023-08-24T00:00:00.000000000",
          "2023-08-25T00:00:00.000000000",
          "2023-08-28T00:00:00.000000000",
          "2023-08-29T00:00:00.000000000",
          "2023-08-30T00:00:00.000000000",
          "2023-08-31T00:00:00.000000000",
          "2023-09-01T00:00:00.000000000",
          "2023-09-05T00:00:00.000000000",
          "2023-09-06T00:00:00.000000000",
          "2023-09-07T00:00:00.000000000",
          "2023-09-08T00:00:00.000000000",
          "2023-09-11T00:00:00.000000000",
          "2023-09-12T00:00:00.000000000",
          "2023-09-13T00:00:00.000000000",
          "2023-09-14T00:00:00.000000000",
          "2023-09-15T00:00:00.000000000",
          "2023-09-18T00:00:00.000000000",
          "2023-09-19T00:00:00.000000000",
          "2023-09-20T00:00:00.000000000",
          "2023-09-21T00:00:00.000000000",
          "2023-09-22T00:00:00.000000000",
          "2023-09-25T00:00:00.000000000",
          "2023-09-26T00:00:00.000000000",
          "2023-09-27T00:00:00.000000000",
          "2023-09-28T00:00:00.000000000",
          "2023-09-29T00:00:00.000000000",
          "2023-10-02T00:00:00.000000000",
          "2023-10-03T00:00:00.000000000",
          "2023-10-04T00:00:00.000000000",
          "2023-10-05T00:00:00.000000000",
          "2023-10-06T00:00:00.000000000",
          "2023-10-09T00:00:00.000000000",
          "2023-10-10T00:00:00.000000000",
          "2023-10-11T00:00:00.000000000",
          "2023-10-12T00:00:00.000000000",
          "2023-10-13T00:00:00.000000000",
          "2023-10-16T00:00:00.000000000",
          "2023-10-17T00:00:00.000000000",
          "2023-10-18T00:00:00.000000000",
          "2023-10-19T00:00:00.000000000",
          "2023-10-20T00:00:00.000000000",
          "2023-10-23T00:00:00.000000000",
          "2023-10-24T00:00:00.000000000",
          "2023-10-25T00:00:00.000000000",
          "2023-10-26T00:00:00.000000000",
          "2023-10-27T00:00:00.000000000",
          "2023-10-30T00:00:00.000000000",
          "2023-10-31T00:00:00.000000000",
          "2023-11-01T00:00:00.000000000",
          "2023-11-02T00:00:00.000000000",
          "2023-11-03T00:00:00.000000000",
          "2023-11-06T00:00:00.000000000",
          "2023-11-07T00:00:00.000000000",
          "2023-11-08T00:00:00.000000000",
          "2023-11-09T00:00:00.000000000",
          "2023-11-10T00:00:00.000000000",
          "2023-11-13T00:00:00.000000000",
          "2023-11-14T00:00:00.000000000",
          "2023-11-15T00:00:00.000000000",
          "2023-11-16T00:00:00.000000000",
          "2023-11-17T00:00:00.000000000",
          "2023-11-20T00:00:00.000000000",
          "2023-11-21T00:00:00.000000000",
          "2023-11-22T00:00:00.000000000",
          "2023-11-24T00:00:00.000000000",
          "2023-11-27T00:00:00.000000000",
          "2023-11-28T00:00:00.000000000",
          "2023-11-29T00:00:00.000000000",
          "2023-11-30T00:00:00.000000000",
          "2023-12-01T00:00:00.000000000",
          "2023-12-04T00:00:00.000000000",
          "2023-12-05T00:00:00.000000000",
          "2023-12-06T00:00:00.000000000",
          "2023-12-07T00:00:00.000000000",
          "2023-12-08T00:00:00.000000000",
          "2023-12-11T00:00:00.000000000",
          "2023-12-12T00:00:00.000000000",
          "2023-12-13T00:00:00.000000000",
          "2023-12-14T00:00:00.000000000",
          "2023-12-15T00:00:00.000000000",
          "2023-12-18T00:00:00.000000000",
          "2023-12-19T00:00:00.000000000",
          "2023-12-20T00:00:00.000000000",
          "2023-12-21T00:00:00.000000000",
          "2023-12-22T00:00:00.000000000",
          "2023-12-26T00:00:00.000000000",
          "2023-12-27T00:00:00.000000000",
          "2023-12-28T00:00:00.000000000",
          "2023-12-29T00:00:00.000000000",
          "2024-01-02T00:00:00.000000000",
          "2024-01-03T00:00:00.000000000",
          "2024-01-04T00:00:00.000000000",
          "2024-01-05T00:00:00.000000000",
          "2024-01-08T00:00:00.000000000",
          "2024-01-09T00:00:00.000000000",
          "2024-01-10T00:00:00.000000000",
          "2024-01-11T00:00:00.000000000",
          "2024-01-12T00:00:00.000000000",
          "2024-01-16T00:00:00.000000000",
          "2024-01-17T00:00:00.000000000",
          "2024-01-18T00:00:00.000000000",
          "2024-01-19T00:00:00.000000000",
          "2024-01-22T00:00:00.000000000",
          "2024-01-23T00:00:00.000000000",
          "2024-01-24T00:00:00.000000000",
          "2024-01-25T00:00:00.000000000",
          "2024-01-26T00:00:00.000000000",
          "2024-01-29T00:00:00.000000000",
          "2024-01-30T00:00:00.000000000",
          "2024-01-31T00:00:00.000000000",
          "2024-02-01T00:00:00.000000000",
          "2024-02-02T00:00:00.000000000",
          "2024-02-05T00:00:00.000000000",
          "2024-02-06T00:00:00.000000000",
          "2024-02-07T00:00:00.000000000",
          "2024-02-08T00:00:00.000000000",
          "2024-02-09T00:00:00.000000000",
          "2024-02-12T00:00:00.000000000",
          "2024-02-13T00:00:00.000000000",
          "2024-02-14T00:00:00.000000000",
          "2024-02-15T00:00:00.000000000",
          "2024-02-16T00:00:00.000000000",
          "2024-02-20T00:00:00.000000000",
          "2024-02-21T00:00:00.000000000",
          "2024-02-22T00:00:00.000000000",
          "2024-02-23T00:00:00.000000000",
          "2024-02-26T00:00:00.000000000",
          "2024-02-27T00:00:00.000000000",
          "2024-02-28T00:00:00.000000000",
          "2024-02-29T00:00:00.000000000",
          "2024-03-01T00:00:00.000000000",
          "2024-03-04T00:00:00.000000000",
          "2024-03-05T00:00:00.000000000",
          "2024-03-06T00:00:00.000000000",
          "2024-03-07T00:00:00.000000000",
          "2024-03-08T00:00:00.000000000",
          "2024-03-11T00:00:00.000000000",
          "2024-03-12T00:00:00.000000000",
          "2024-03-13T00:00:00.000000000",
          "2024-03-14T00:00:00.000000000",
          "2024-03-15T00:00:00.000000000",
          "2024-03-18T00:00:00.000000000",
          "2024-03-19T00:00:00.000000000",
          "2024-03-20T00:00:00.000000000",
          "2024-03-21T00:00:00.000000000",
          "2024-03-22T00:00:00.000000000",
          "2024-03-25T00:00:00.000000000",
          "2024-03-26T00:00:00.000000000",
          "2024-03-27T00:00:00.000000000",
          "2024-03-28T00:00:00.000000000",
          "2024-04-01T00:00:00.000000000",
          "2024-04-02T00:00:00.000000000",
          "2024-04-03T00:00:00.000000000",
          "2024-04-04T00:00:00.000000000",
          "2024-04-05T00:00:00.000000000",
          "2024-04-08T00:00:00.000000000",
          "2024-04-09T00:00:00.000000000",
          "2024-04-10T00:00:00.000000000",
          "2024-04-11T00:00:00.000000000",
          "2024-04-12T00:00:00.000000000",
          "2024-04-15T00:00:00.000000000",
          "2024-04-16T00:00:00.000000000",
          "2024-04-17T00:00:00.000000000",
          "2024-04-18T00:00:00.000000000",
          "2024-04-19T00:00:00.000000000",
          "2024-04-22T00:00:00.000000000",
          "2024-04-23T00:00:00.000000000",
          "2024-04-24T00:00:00.000000000",
          "2024-04-25T00:00:00.000000000",
          "2024-04-26T00:00:00.000000000",
          "2024-04-29T00:00:00.000000000",
          "2024-04-30T00:00:00.000000000",
          "2024-05-01T00:00:00.000000000",
          "2024-05-02T00:00:00.000000000",
          "2024-05-03T00:00:00.000000000",
          "2024-05-06T00:00:00.000000000",
          "2024-05-07T00:00:00.000000000",
          "2024-05-08T00:00:00.000000000",
          "2024-05-09T00:00:00.000000000",
          "2024-05-10T00:00:00.000000000",
          "2024-05-13T00:00:00.000000000",
          "2024-05-14T00:00:00.000000000",
          "2024-05-15T00:00:00.000000000",
          "2024-05-16T00:00:00.000000000",
          "2024-05-17T00:00:00.000000000",
          "2024-05-20T00:00:00.000000000",
          "2024-05-21T00:00:00.000000000",
          "2024-05-22T00:00:00.000000000",
          "2024-05-23T00:00:00.000000000",
          "2024-05-24T00:00:00.000000000",
          "2024-05-28T00:00:00.000000000",
          "2024-05-29T00:00:00.000000000",
          "2024-05-30T00:00:00.000000000",
          "2024-05-31T00:00:00.000000000",
          "2024-06-03T00:00:00.000000000",
          "2024-06-04T00:00:00.000000000",
          "2024-06-05T00:00:00.000000000",
          "2024-06-06T00:00:00.000000000",
          "2024-06-07T00:00:00.000000000",
          "2024-06-10T00:00:00.000000000",
          "2024-06-11T00:00:00.000000000",
          "2024-06-12T00:00:00.000000000",
          "2024-06-13T00:00:00.000000000",
          "2024-06-14T00:00:00.000000000",
          "2024-06-17T00:00:00.000000000",
          "2024-06-18T00:00:00.000000000",
          "2024-06-20T00:00:00.000000000",
          "2024-06-21T00:00:00.000000000",
          "2024-06-24T00:00:00.000000000",
          "2024-06-25T00:00:00.000000000",
          "2024-06-26T00:00:00.000000000",
          "2024-06-27T00:00:00.000000000",
          "2024-06-28T00:00:00.000000000",
          "2024-07-01T00:00:00.000000000",
          "2024-07-02T00:00:00.000000000",
          "2024-07-03T00:00:00.000000000",
          "2024-07-05T00:00:00.000000000",
          "2024-07-08T00:00:00.000000000",
          "2024-07-09T00:00:00.000000000",
          "2024-07-10T00:00:00.000000000",
          "2024-07-11T00:00:00.000000000",
          "2024-07-12T00:00:00.000000000",
          "2024-07-15T00:00:00.000000000",
          "2024-07-16T00:00:00.000000000",
          "2024-07-17T00:00:00.000000000",
          "2024-07-18T00:00:00.000000000",
          "2024-07-19T00:00:00.000000000",
          "2024-07-22T00:00:00.000000000",
          "2024-07-23T00:00:00.000000000",
          "2024-07-24T00:00:00.000000000",
          "2024-07-25T00:00:00.000000000",
          "2024-07-26T00:00:00.000000000",
          "2024-07-29T00:00:00.000000000",
          "2024-07-30T00:00:00.000000000",
          "2024-07-31T00:00:00.000000000",
          "2024-08-01T00:00:00.000000000",
          "2024-08-02T00:00:00.000000000",
          "2024-08-05T00:00:00.000000000",
          "2024-08-06T00:00:00.000000000",
          "2024-08-07T00:00:00.000000000",
          "2024-08-08T00:00:00.000000000",
          "2024-08-09T00:00:00.000000000",
          "2024-08-12T00:00:00.000000000",
          "2024-08-13T00:00:00.000000000",
          "2024-08-14T00:00:00.000000000",
          "2024-08-15T00:00:00.000000000",
          "2024-08-16T00:00:00.000000000",
          "2024-08-19T00:00:00.000000000",
          "2024-08-20T00:00:00.000000000",
          "2024-08-21T00:00:00.000000000",
          "2024-08-22T00:00:00.000000000",
          "2024-08-23T00:00:00.000000000",
          "2024-08-26T00:00:00.000000000",
          "2024-08-27T00:00:00.000000000",
          "2024-08-28T00:00:00.000000000",
          "2024-08-29T00:00:00.000000000",
          "2024-08-30T00:00:00.000000000",
          "2024-09-03T00:00:00.000000000",
          "2024-09-04T00:00:00.000000000",
          "2024-09-05T00:00:00.000000000",
          "2024-09-06T00:00:00.000000000",
          "2024-09-09T00:00:00.000000000",
          "2024-09-10T00:00:00.000000000",
          "2024-09-11T00:00:00.000000000",
          "2024-09-12T00:00:00.000000000",
          "2024-09-13T00:00:00.000000000",
          "2024-09-16T00:00:00.000000000",
          "2024-09-17T00:00:00.000000000",
          "2024-09-18T00:00:00.000000000",
          "2024-09-19T00:00:00.000000000",
          "2024-09-20T00:00:00.000000000",
          "2024-09-23T00:00:00.000000000",
          "2024-09-24T00:00:00.000000000",
          "2024-09-25T00:00:00.000000000",
          "2024-09-26T00:00:00.000000000",
          "2024-09-27T00:00:00.000000000",
          "2024-09-30T00:00:00.000000000",
          "2024-10-01T00:00:00.000000000",
          "2024-10-02T00:00:00.000000000",
          "2024-10-03T00:00:00.000000000",
          "2024-10-04T00:00:00.000000000",
          "2024-10-07T00:00:00.000000000",
          "2024-10-08T00:00:00.000000000",
          "2024-10-09T00:00:00.000000000",
          "2024-10-10T00:00:00.000000000",
          "2024-10-11T00:00:00.000000000",
          "2024-10-14T00:00:00.000000000",
          "2024-10-15T00:00:00.000000000",
          "2024-10-16T00:00:00.000000000",
          "2024-10-17T00:00:00.000000000",
          "2024-10-18T00:00:00.000000000",
          "2024-10-21T00:00:00.000000000",
          "2024-10-22T00:00:00.000000000",
          "2024-10-23T00:00:00.000000000",
          "2024-10-24T00:00:00.000000000",
          "2024-10-25T00:00:00.000000000",
          "2024-10-28T00:00:00.000000000",
          "2024-10-29T00:00:00.000000000",
          "2024-10-30T00:00:00.000000000",
          "2024-10-31T00:00:00.000000000",
          "2024-11-01T00:00:00.000000000",
          "2024-11-04T00:00:00.000000000",
          "2024-11-05T00:00:00.000000000",
          "2024-11-06T00:00:00.000000000",
          "2024-11-07T00:00:00.000000000",
          "2024-11-08T00:00:00.000000000",
          "2024-11-11T00:00:00.000000000",
          "2024-11-12T00:00:00.000000000",
          "2024-11-13T00:00:00.000000000",
          "2024-11-14T00:00:00.000000000",
          "2024-11-15T00:00:00.000000000",
          "2024-11-18T00:00:00.000000000",
          "2024-11-19T00:00:00.000000000",
          "2024-11-20T00:00:00.000000000",
          "2024-11-21T00:00:00.000000000",
          "2024-11-22T00:00:00.000000000",
          "2024-11-25T00:00:00.000000000",
          "2024-11-26T00:00:00.000000000",
          "2024-11-27T00:00:00.000000000",
          "2024-11-29T00:00:00.000000000",
          "2024-12-02T00:00:00.000000000",
          "2024-12-03T00:00:00.000000000",
          "2024-12-04T00:00:00.000000000",
          "2024-12-05T00:00:00.000000000",
          "2024-12-06T00:00:00.000000000",
          "2024-12-09T00:00:00.000000000",
          "2024-12-10T00:00:00.000000000",
          "2024-12-11T00:00:00.000000000",
          "2024-12-12T00:00:00.000000000",
          "2024-12-13T00:00:00.000000000",
          "2024-12-16T00:00:00.000000000",
          "2024-12-17T00:00:00.000000000",
          "2024-12-18T00:00:00.000000000",
          "2024-12-19T00:00:00.000000000",
          "2024-12-20T00:00:00.000000000",
          "2024-12-23T00:00:00.000000000",
          "2024-12-24T00:00:00.000000000",
          "2024-12-26T00:00:00.000000000",
          "2024-12-27T00:00:00.000000000",
          "2024-12-30T00:00:00.000000000",
          "2024-12-31T00:00:00.000000000"
         ]
        },
        {
         "close": {
          "bdata": "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",
          "dtype": "f8"
         },
         "decreasing": {
          "line": {
           "color": "#EF553B"
          }
         },
         "high": {
          "bdata": "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",
          "dtype": "f8"
         },
         "increasing": {
          "line": {
           "color": "#00CC96"
          }
         },
         "low": {
          "bdata": "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",
          "dtype": "f8"
         },
         "name": "MSFT",
         "open": {
          "bdata": "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",
          "dtype": "f8"
         },
         "type": "candlestick",
         "x": [
          "2023-01-03T00:00:00.000000000",
          "2023-01-04T00:00:00.000000000",
          "2023-01-05T00:00:00.000000000",
          "2023-01-06T00:00:00.000000000",
          "2023-01-09T00:00:00.000000000",
          "2023-01-10T00:00:00.000000000",
          "2023-01-11T00:00:00.000000000",
          "2023-01-12T00:00:00.000000000",
          "2023-01-13T00:00:00.000000000",
          "2023-01-17T00:00:00.000000000",
          "2023-01-18T00:00:00.000000000",
          "2023-01-19T00:00:00.000000000",
          "2023-01-20T00:00:00.000000000",
          "2023-01-23T00:00:00.000000000",
          "2023-01-24T00:00:00.000000000",
          "2023-01-25T00:00:00.000000000",
          "2023-01-26T00:00:00.000000000",
          "2023-01-27T00:00:00.000000000",
          "2023-01-30T00:00:00.000000000",
          "2023-01-31T00:00:00.000000000",
          "2023-02-01T00:00:00.000000000",
          "2023-02-02T00:00:00.000000000",
          "2023-02-03T00:00:00.000000000",
          "2023-02-06T00:00:00.000000000",
          "2023-02-07T00:00:00.000000000",
          "2023-02-08T00:00:00.000000000",
          "2023-02-09T00:00:00.000000000",
          "2023-02-10T00:00:00.000000000",
          "2023-02-13T00:00:00.000000000",
          "2023-02-14T00:00:00.000000000",
          "2023-02-15T00:00:00.000000000",
          "2023-02-16T00:00:00.000000000",
          "2023-02-17T00:00:00.000000000",
          "2023-02-21T00:00:00.000000000",
          "2023-02-22T00:00:00.000000000",
          "2023-02-23T00:00:00.000000000",
          "2023-02-24T00:00:00.000000000",
          "2023-02-27T00:00:00.000000000",
          "2023-02-28T00:00:00.000000000",
          "2023-03-01T00:00:00.000000000",
          "2023-03-02T00:00:00.000000000",
          "2023-03-03T00:00:00.000000000",
          "2023-03-06T00:00:00.000000000",
          "2023-03-07T00:00:00.000000000",
          "2023-03-08T00:00:00.000000000",
          "2023-03-09T00:00:00.000000000",
          "2023-03-10T00:00:00.000000000",
          "2023-03-13T00:00:00.000000000",
          "2023-03-14T00:00:00.000000000",
          "2023-03-15T00:00:00.000000000",
          "2023-03-16T00:00:00.000000000",
          "2023-03-17T00:00:00.000000000",
          "2023-03-20T00:00:00.000000000",
          "2023-03-21T00:00:00.000000000",
          "2023-03-22T00:00:00.000000000",
          "2023-03-23T00:00:00.000000000",
          "2023-03-24T00:00:00.000000000",
          "2023-03-27T00:00:00.000000000",
          "2023-03-28T00:00:00.000000000",
          "2023-03-29T00:00:00.000000000",
          "2023-03-30T00:00:00.000000000",
          "2023-03-31T00:00:00.000000000",
          "2023-04-03T00:00:00.000000000",
          "2023-04-04T00:00:00.000000000",
          "2023-04-05T00:00:00.000000000",
          "2023-04-06T00:00:00.000000000",
          "2023-04-10T00:00:00.000000000",
          "2023-04-11T00:00:00.000000000",
          "2023-04-12T00:00:00.000000000",
          "2023-04-13T00:00:00.000000000",
          "2023-04-14T00:00:00.000000000",
          "2023-04-17T00:00:00.000000000",
          "2023-04-18T00:00:00.000000000",
          "2023-04-19T00:00:00.000000000",
          "2023-04-20T00:00:00.000000000",
          "2023-04-21T00:00:00.000000000",
          "2023-04-24T00:00:00.000000000",
          "2023-04-25T00:00:00.000000000",
          "2023-04-26T00:00:00.000000000",
          "2023-04-27T00:00:00.000000000",
          "2023-04-28T00:00:00.000000000",
          "2023-05-01T00:00:00.000000000",
          "2023-05-02T00:00:00.000000000",
          "2023-05-03T00:00:00.000000000",
          "2023-05-04T00:00:00.000000000",
          "2023-05-05T00:00:00.000000000",
          "2023-05-08T00:00:00.000000000",
          "2023-05-09T00:00:00.000000000",
          "2023-05-10T00:00:00.000000000",
          "2023-05-11T00:00:00.000000000",
          "2023-05-12T00:00:00.000000000",
          "2023-05-15T00:00:00.000000000",
          "2023-05-16T00:00:00.000000000",
          "2023-05-17T00:00:00.000000000",
          "2023-05-18T00:00:00.000000000",
          "2023-05-19T00:00:00.000000000",
          "2023-05-22T00:00:00.000000000",
          "2023-05-23T00:00:00.000000000",
          "2023-05-24T00:00:00.000000000",
          "2023-05-25T00:00:00.000000000",
          "2023-05-26T00:00:00.000000000",
          "2023-05-30T00:00:00.000000000",
          "2023-05-31T00:00:00.000000000",
          "2023-06-01T00:00:00.000000000",
          "2023-06-02T00:00:00.000000000",
          "2023-06-05T00:00:00.000000000",
          "2023-06-06T00:00:00.000000000",
          "2023-06-07T00:00:00.000000000",
          "2023-06-08T00:00:00.000000000",
          "2023-06-09T00:00:00.000000000",
          "2023-06-12T00:00:00.000000000",
          "2023-06-13T00:00:00.000000000",
          "2023-06-14T00:00:00.000000000",
          "2023-06-15T00:00:00.000000000",
          "2023-06-16T00:00:00.000000000",
          "2023-06-20T00:00:00.000000000",
          "2023-06-21T00:00:00.000000000",
          "2023-06-22T00:00:00.000000000",
          "2023-06-23T00:00:00.000000000",
          "2023-06-26T00:00:00.000000000",
          "2023-06-27T00:00:00.000000000",
          "2023-06-28T00:00:00.000000000",
          "2023-06-29T00:00:00.000000000",
          "2023-06-30T00:00:00.000000000",
          "2023-07-03T00:00:00.000000000",
          "2023-07-05T00:00:00.000000000",
          "2023-07-06T00:00:00.000000000",
          "2023-07-07T00:00:00.000000000",
          "2023-07-10T00:00:00.000000000",
          "2023-07-11T00:00:00.000000000",
          "2023-07-12T00:00:00.000000000",
          "2023-07-13T00:00:00.000000000",
          "2023-07-14T00:00:00.000000000",
          "2023-07-17T00:00:00.000000000",
          "2023-07-18T00:00:00.000000000",
          "2023-07-19T00:00:00.000000000",
          "2023-07-20T00:00:00.000000000",
          "2023-07-21T00:00:00.000000000",
          "2023-07-24T00:00:00.000000000",
          "2023-07-25T00:00:00.000000000",
          "2023-07-26T00:00:00.000000000",
          "2023-07-27T00:00:00.000000000",
          "2023-07-28T00:00:00.000000000",
          "2023-07-31T00:00:00.000000000",
          "2023-08-01T00:00:00.000000000",
          "2023-08-02T00:00:00.000000000",
          "2023-08-03T00:00:00.000000000",
          "2023-08-04T00:00:00.000000000",
          "2023-08-07T00:00:00.000000000",
          "2023-08-08T00:00:00.000000000",
          "2023-08-09T00:00:00.000000000",
          "2023-08-10T00:00:00.000000000",
          "2023-08-11T00:00:00.000000000",
          "2023-08-14T00:00:00.000000000",
          "2023-08-15T00:00:00.000000000",
          "2023-08-16T00:00:00.000000000",
          "2023-08-17T00:00:00.000000000",
          "2023-08-18T00:00:00.000000000",
          "2023-08-21T00:00:00.000000000",
          "2023-08-22T00:00:00.000000000",
          "2023-08-23T00:00:00.000000000",
          "2023-08-24T00:00:00.000000000",
          "2023-08-25T00:00:00.000000000",
          "2023-08-28T00:00:00.000000000",
          "2023-08-29T00:00:00.000000000",
          "2023-08-30T00:00:00.000000000",
          "2023-08-31T00:00:00.000000000",
          "2023-09-01T00:00:00.000000000",
          "2023-09-05T00:00:00.000000000",
          "2023-09-06T00:00:00.000000000",
          "2023-09-07T00:00:00.000000000",
          "2023-09-08T00:00:00.000000000",
          "2023-09-11T00:00:00.000000000",
          "2023-09-12T00:00:00.000000000",
          "2023-09-13T00:00:00.000000000",
          "2023-09-14T00:00:00.000000000",
          "2023-09-15T00:00:00.000000000",
          "2023-09-18T00:00:00.000000000",
          "2023-09-19T00:00:00.000000000",
          "2023-09-20T00:00:00.000000000",
          "2023-09-21T00:00:00.000000000",
          "2023-09-22T00:00:00.000000000",
          "2023-09-25T00:00:00.000000000",
          "2023-09-26T00:00:00.000000000",
          "2023-09-27T00:00:00.000000000",
          "2023-09-28T00:00:00.000000000",
          "2023-09-29T00:00:00.000000000",
          "2023-10-02T00:00:00.000000000",
          "2023-10-03T00:00:00.000000000",
          "2023-10-04T00:00:00.000000000",
          "2023-10-05T00:00:00.000000000",
          "2023-10-06T00:00:00.000000000",
          "2023-10-09T00:00:00.000000000",
          "2023-10-10T00:00:00.000000000",
          "2023-10-11T00:00:00.000000000",
          "2023-10-12T00:00:00.000000000",
          "2023-10-13T00:00:00.000000000",
          "2023-10-16T00:00:00.000000000",
          "2023-10-17T00:00:00.000000000",
          "2023-10-18T00:00:00.000000000",
          "2023-10-19T00:00:00.000000000",
          "2023-10-20T00:00:00.000000000",
          "2023-10-23T00:00:00.000000000",
          "2023-10-24T00:00:00.000000000",
          "2023-10-25T00:00:00.000000000",
          "2023-10-26T00:00:00.000000000",
          "2023-10-27T00:00:00.000000000",
          "2023-10-30T00:00:00.000000000",
          "2023-10-31T00:00:00.000000000",
          "2023-11-01T00:00:00.000000000",
          "2023-11-02T00:00:00.000000000",
          "2023-11-03T00:00:00.000000000",
          "2023-11-06T00:00:00.000000000",
          "2023-11-07T00:00:00.000000000",
          "2023-11-08T00:00:00.000000000",
          "2023-11-09T00:00:00.000000000",
          "2023-11-10T00:00:00.000000000",
          "2023-11-13T00:00:00.000000000",
          "2023-11-14T00:00:00.000000000",
          "2023-11-15T00:00:00.000000000",
          "2023-11-16T00:00:00.000000000",
          "2023-11-17T00:00:00.000000000",
          "2023-11-20T00:00:00.000000000",
          "2023-11-21T00:00:00.000000000",
          "2023-11-22T00:00:00.000000000",
          "2023-11-24T00:00:00.000000000",
          "2023-11-27T00:00:00.000000000",
          "2023-11-28T00:00:00.000000000",
          "2023-11-29T00:00:00.000000000",
          "2023-11-30T00:00:00.000000000",
          "2023-12-01T00:00:00.000000000",
          "2023-12-04T00:00:00.000000000",
          "2023-12-05T00:00:00.000000000",
          "2023-12-06T00:00:00.000000000",
          "2023-12-07T00:00:00.000000000",
          "2023-12-08T00:00:00.000000000",
          "2023-12-11T00:00:00.000000000",
          "2023-12-12T00:00:00.000000000",
          "2023-12-13T00:00:00.000000000",
          "2023-12-14T00:00:00.000000000",
          "2023-12-15T00:00:00.000000000",
          "2023-12-18T00:00:00.000000000",
          "2023-12-19T00:00:00.000000000",
          "2023-12-20T00:00:00.000000000",
          "2023-12-21T00:00:00.000000000",
          "2023-12-22T00:00:00.000000000",
          "2023-12-26T00:00:00.000000000",
          "2023-12-27T00:00:00.000000000",
          "2023-12-28T00:00:00.000000000",
          "2023-12-29T00:00:00.000000000",
          "2024-01-02T00:00:00.000000000",
          "2024-01-03T00:00:00.000000000",
          "2024-01-04T00:00:00.000000000",
          "2024-01-05T00:00:00.000000000",
          "2024-01-08T00:00:00.000000000",
          "2024-01-09T00:00:00.000000000",
          "2024-01-10T00:00:00.000000000",
          "2024-01-11T00:00:00.000000000",
          "2024-01-12T00:00:00.000000000",
          "2024-01-16T00:00:00.000000000",
          "2024-01-17T00:00:00.000000000",
          "2024-01-18T00:00:00.000000000",
          "2024-01-19T00:00:00.000000000",
          "2024-01-22T00:00:00.000000000",
          "2024-01-23T00:00:00.000000000",
          "2024-01-24T00:00:00.000000000",
          "2024-01-25T00:00:00.000000000",
          "2024-01-26T00:00:00.000000000",
          "2024-01-29T00:00:00.000000000",
          "2024-01-30T00:00:00.000000000",
          "2024-01-31T00:00:00.000000000",
          "2024-02-01T00:00:00.000000000",
          "2024-02-02T00:00:00.000000000",
          "2024-02-05T00:00:00.000000000",
          "2024-02-06T00:00:00.000000000",
          "2024-02-07T00:00:00.000000000",
          "2024-02-08T00:00:00.000000000",
          "2024-02-09T00:00:00.000000000",
          "2024-02-12T00:00:00.000000000",
          "2024-02-13T00:00:00.000000000",
          "2024-02-14T00:00:00.000000000",
          "2024-02-15T00:00:00.000000000",
          "2024-02-16T00:00:00.000000000",
          "2024-02-20T00:00:00.000000000",
          "2024-02-21T00:00:00.000000000",
          "2024-02-22T00:00:00.000000000",
          "2024-02-23T00:00:00.000000000",
          "2024-02-26T00:00:00.000000000",
          "2024-02-27T00:00:00.000000000",
          "2024-02-28T00:00:00.000000000",
          "2024-02-29T00:00:00.000000000",
          "2024-03-01T00:00:00.000000000",
          "2024-03-04T00:00:00.000000000",
          "2024-03-05T00:00:00.000000000",
          "2024-03-06T00:00:00.000000000",
          "2024-03-07T00:00:00.000000000",
          "2024-03-08T00:00:00.000000000",
          "2024-03-11T00:00:00.000000000",
          "2024-03-12T00:00:00.000000000",
          "2024-03-13T00:00:00.000000000",
          "2024-03-14T00:00:00.000000000",
          "2024-03-15T00:00:00.000000000",
          "2024-03-18T00:00:00.000000000",
          "2024-03-19T00:00:00.000000000",
          "2024-03-20T00:00:00.000000000",
          "2024-03-21T00:00:00.000000000",
          "2024-03-22T00:00:00.000000000",
          "2024-03-25T00:00:00.000000000",
          "2024-03-26T00:00:00.000000000",
          "2024-03-27T00:00:00.000000000",
          "2024-03-28T00:00:00.000000000",
          "2024-04-01T00:00:00.000000000",
          "2024-04-02T00:00:00.000000000",
          "2024-04-03T00:00:00.000000000",
          "2024-04-04T00:00:00.000000000",
          "2024-04-05T00:00:00.000000000",
          "2024-04-08T00:00:00.000000000",
          "2024-04-09T00:00:00.000000000",
          "2024-04-10T00:00:00.000000000",
          "2024-04-11T00:00:00.000000000",
          "2024-04-12T00:00:00.000000000",
          "2024-04-15T00:00:00.000000000",
          "2024-04-16T00:00:00.000000000",
          "2024-04-17T00:00:00.000000000",
          "2024-04-18T00:00:00.000000000",
          "2024-04-19T00:00:00.000000000",
          "2024-04-22T00:00:00.000000000",
          "2024-04-23T00:00:00.000000000",
          "2024-04-24T00:00:00.000000000",
          "2024-04-25T00:00:00.000000000",
          "2024-04-26T00:00:00.000000000",
          "2024-04-29T00:00:00.000000000",
          "2024-04-30T00:00:00.000000000",
          "2024-05-01T00:00:00.000000000",
          "2024-05-02T00:00:00.000000000",
          "2024-05-03T00:00:00.000000000",
          "2024-05-06T00:00:00.000000000",
          "2024-05-07T00:00:00.000000000",
          "2024-05-08T00:00:00.000000000",
          "2024-05-09T00:00:00.000000000",
          "2024-05-10T00:00:00.000000000",
          "2024-05-13T00:00:00.000000000",
          "2024-05-14T00:00:00.000000000",
          "2024-05-15T00:00:00.000000000",
          "2024-05-16T00:00:00.000000000",
          "2024-05-17T00:00:00.000000000",
          "2024-05-20T00:00:00.000000000",
          "2024-05-21T00:00:00.000000000",
          "2024-05-22T00:00:00.000000000",
          "2024-05-23T00:00:00.000000000",
          "2024-05-24T00:00:00.000000000",
          "2024-05-28T00:00:00.000000000",
          "2024-05-29T00:00:00.000000000",
          "2024-05-30T00:00:00.000000000",
          "2024-05-31T00:00:00.000000000",
          "2024-06-03T00:00:00.000000000",
          "2024-06-04T00:00:00.000000000",
          "2024-06-05T00:00:00.000000000",
          "2024-06-06T00:00:00.000000000",
          "2024-06-07T00:00:00.000000000",
          "2024-06-10T00:00:00.000000000",
          "2024-06-11T00:00:00.000000000",
          "2024-06-12T00:00:00.000000000",
          "2024-06-13T00:00:00.000000000",
          "2024-06-14T00:00:00.000000000",
          "2024-06-17T00:00:00.000000000",
          "2024-06-18T00:00:00.000000000",
          "2024-06-20T00:00:00.000000000",
          "2024-06-21T00:00:00.000000000",
          "2024-06-24T00:00:00.000000000",
          "2024-06-25T00:00:00.000000000",
          "2024-06-26T00:00:00.000000000",
          "2024-06-27T00:00:00.000000000",
          "2024-06-28T00:00:00.000000000",
          "2024-07-01T00:00:00.000000000",
          "2024-07-02T00:00:00.000000000",
          "2024-07-03T00:00:00.000000000",
          "2024-07-05T00:00:00.000000000",
          "2024-07-08T00:00:00.000000000",
          "2024-07-09T00:00:00.000000000",
          "2024-07-10T00:00:00.000000000",
          "2024-07-11T00:00:00.000000000",
          "2024-07-12T00:00:00.000000000",
          "2024-07-15T00:00:00.000000000",
          "2024-07-16T00:00:00.000000000",
          "2024-07-17T00:00:00.000000000",
          "2024-07-18T00:00:00.000000000",
          "2024-07-19T00:00:00.000000000",
          "2024-07-22T00:00:00.000000000",
          "2024-07-23T00:00:00.000000000",
          "2024-07-24T00:00:00.000000000",
          "2024-07-25T00:00:00.000000000",
          "2024-07-26T00:00:00.000000000",
          "2024-07-29T00:00:00.000000000",
          "2024-07-30T00:00:00.000000000",
          "2024-07-31T00:00:00.000000000",
          "2024-08-01T00:00:00.000000000",
          "2024-08-02T00:00:00.000000000",
          "2024-08-05T00:00:00.000000000",
          "2024-08-06T00:00:00.000000000",
          "2024-08-07T00:00:00.000000000",
          "2024-08-08T00:00:00.000000000",
          "2024-08-09T00:00:00.000000000",
          "2024-08-12T00:00:00.000000000",
          "2024-08-13T00:00:00.000000000",
          "2024-08-14T00:00:00.000000000",
          "2024-08-15T00:00:00.000000000",
          "2024-08-16T00:00:00.000000000",
          "2024-08-19T00:00:00.000000000",
          "2024-08-20T00:00:00.000000000",
          "2024-08-21T00:00:00.000000000",
          "2024-08-22T00:00:00.000000000",
          "2024-08-23T00:00:00.000000000",
          "2024-08-26T00:00:00.000000000",
          "2024-08-27T00:00:00.000000000",
          "2024-08-28T00:00:00.000000000",
          "2024-08-29T00:00:00.000000000",
          "2024-08-30T00:00:00.000000000",
          "2024-09-03T00:00:00.000000000",
          "2024-09-04T00:00:00.000000000",
          "2024-09-05T00:00:00.000000000",
          "2024-09-06T00:00:00.000000000",
          "2024-09-09T00:00:00.000000000",
          "2024-09-10T00:00:00.000000000",
          "2024-09-11T00:00:00.000000000",
          "2024-09-12T00:00:00.000000000",
          "2024-09-13T00:00:00.000000000",
          "2024-09-16T00:00:00.000000000",
          "2024-09-17T00:00:00.000000000",
          "2024-09-18T00:00:00.000000000",
          "2024-09-19T00:00:00.000000000",
          "2024-09-20T00:00:00.000000000",
          "2024-09-23T00:00:00.000000000",
          "2024-09-24T00:00:00.000000000",
          "2024-09-25T00:00:00.000000000",
          "2024-09-26T00:00:00.000000000",
          "2024-09-27T00:00:00.000000000",
          "2024-09-30T00:00:00.000000000",
          "2024-10-01T00:00:00.000000000",
          "2024-10-02T00:00:00.000000000",
          "2024-10-03T00:00:00.000000000",
          "2024-10-04T00:00:00.000000000",
          "2024-10-07T00:00:00.000000000",
          "2024-10-08T00:00:00.000000000",
          "2024-10-09T00:00:00.000000000",
          "2024-10-10T00:00:00.000000000",
          "2024-10-11T00:00:00.000000000",
          "2024-10-14T00:00:00.000000000",
          "2024-10-15T00:00:00.000000000",
          "2024-10-16T00:00:00.000000000",
          "2024-10-17T00:00:00.000000000",
          "2024-10-18T00:00:00.000000000",
          "2024-10-21T00:00:00.000000000",
          "2024-10-22T00:00:00.000000000",
          "2024-10-23T00:00:00.000000000",
          "2024-10-24T00:00:00.000000000",
          "2024-10-25T00:00:00.000000000",
          "2024-10-28T00:00:00.000000000",
          "2024-10-29T00:00:00.000000000",
          "2024-10-30T00:00:00.000000000",
          "2024-10-31T00:00:00.000000000",
          "2024-11-01T00:00:00.000000000",
          "2024-11-04T00:00:00.000000000",
          "2024-11-05T00:00:00.000000000",
          "2024-11-06T00:00:00.000000000",
          "2024-11-07T00:00:00.000000000",
          "2024-11-08T00:00:00.000000000",
          "2024-11-11T00:00:00.000000000",
          "2024-11-12T00:00:00.000000000",
          "2024-11-13T00:00:00.000000000",
          "2024-11-14T00:00:00.000000000",
          "2024-11-15T00:00:00.000000000",
          "2024-11-18T00:00:00.000000000",
          "2024-11-19T00:00:00.000000000",
          "2024-11-20T00:00:00.000000000",
          "2024-11-21T00:00:00.000000000",
          "2024-11-22T00:00:00.000000000",
          "2024-11-25T00:00:00.000000000",
          "2024-11-26T00:00:00.000000000",
          "2024-11-27T00:00:00.000000000",
          "2024-11-29T00:00:00.000000000",
          "2024-12-02T00:00:00.000000000",
          "2024-12-03T00:00:00.000000000",
          "2024-12-04T00:00:00.000000000",
          "2024-12-05T00:00:00.000000000",
          "2024-12-06T00:00:00.000000000",
          "2024-12-09T00:00:00.000000000",
          "2024-12-10T00:00:00.000000000",
          "2024-12-11T00:00:00.000000000",
          "2024-12-12T00:00:00.000000000",
          "2024-12-13T00:00:00.000000000",
          "2024-12-16T00:00:00.000000000",
          "2024-12-17T00:00:00.000000000",
          "2024-12-18T00:00:00.000000000",
          "2024-12-19T00:00:00.000000000",
          "2024-12-20T00:00:00.000000000",
          "2024-12-23T00:00:00.000000000",
          "2024-12-24T00:00:00.000000000",
          "2024-12-26T00:00:00.000000000",
          "2024-12-27T00:00:00.000000000",
          "2024-12-30T00:00:00.000000000",
          "2024-12-31T00:00:00.000000000"
         ]
        },
        {
         "close": {
          "bdata": "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",
          "dtype": "f8"
         },
         "decreasing": {
          "line": {
           "color": "#EF553B"
          }
         },
         "high": {
          "bdata": "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",
          "dtype": "f8"
         },
         "increasing": {
          "line": {
           "color": "#00CC96"
          }
         },
         "low": {
          "bdata": "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",
          "dtype": "f8"
         },
         "name": "GOOG",
         "open": {
          "bdata": "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",
          "dtype": "f8"
         },
         "type": "candlestick",
         "x": [
          "2023-01-03T00:00:00.000000000",
          "2023-01-04T00:00:00.000000000",
          "2023-01-05T00:00:00.000000000",
          "2023-01-06T00:00:00.000000000",
          "2023-01-09T00:00:00.000000000",
          "2023-01-10T00:00:00.000000000",
          "2023-01-11T00:00:00.000000000",
          "2023-01-12T00:00:00.000000000",
          "2023-01-13T00:00:00.000000000",
          "2023-01-17T00:00:00.000000000",
          "2023-01-18T00:00:00.000000000",
          "2023-01-19T00:00:00.000000000",
          "2023-01-20T00:00:00.000000000",
          "2023-01-23T00:00:00.000000000",
          "2023-01-24T00:00:00.000000000",
          "2023-01-25T00:00:00.000000000",
          "2023-01-26T00:00:00.000000000",
          "2023-01-27T00:00:00.000000000",
          "2023-01-30T00:00:00.000000000",
          "2023-01-31T00:00:00.000000000",
          "2023-02-01T00:00:00.000000000",
          "2023-02-02T00:00:00.000000000",
          "2023-02-03T00:00:00.000000000",
          "2023-02-06T00:00:00.000000000",
          "2023-02-07T00:00:00.000000000",
          "2023-02-08T00:00:00.000000000",
          "2023-02-09T00:00:00.000000000",
          "2023-02-10T00:00:00.000000000",
          "2023-02-13T00:00:00.000000000",
          "2023-02-14T00:00:00.000000000",
          "2023-02-15T00:00:00.000000000",
          "2023-02-16T00:00:00.000000000",
          "2023-02-17T00:00:00.000000000",
          "2023-02-21T00:00:00.000000000",
          "2023-02-22T00:00:00.000000000",
          "2023-02-23T00:00:00.000000000",
          "2023-02-24T00:00:00.000000000",
          "2023-02-27T00:00:00.000000000",
          "2023-02-28T00:00:00.000000000",
          "2023-03-01T00:00:00.000000000",
          "2023-03-02T00:00:00.000000000",
          "2023-03-03T00:00:00.000000000",
          "2023-03-06T00:00:00.000000000",
          "2023-03-07T00:00:00.000000000",
          "2023-03-08T00:00:00.000000000",
          "2023-03-09T00:00:00.000000000",
          "2023-03-10T00:00:00.000000000",
          "2023-03-13T00:00:00.000000000",
          "2023-03-14T00:00:00.000000000",
          "2023-03-15T00:00:00.000000000",
          "2023-03-16T00:00:00.000000000",
          "2023-03-17T00:00:00.000000000",
          "2023-03-20T00:00:00.000000000",
          "2023-03-21T00:00:00.000000000",
          "2023-03-22T00:00:00.000000000",
          "2023-03-23T00:00:00.000000000",
          "2023-03-24T00:00:00.000000000",
          "2023-03-27T00:00:00.000000000",
          "2023-03-28T00:00:00.000000000",
          "2023-03-29T00:00:00.000000000",
          "2023-03-30T00:00:00.000000000",
          "2023-03-31T00:00:00.000000000",
          "2023-04-03T00:00:00.000000000",
          "2023-04-04T00:00:00.000000000",
          "2023-04-05T00:00:00.000000000",
          "2023-04-06T00:00:00.000000000",
          "2023-04-10T00:00:00.000000000",
          "2023-04-11T00:00:00.000000000",
          "2023-04-12T00:00:00.000000000",
          "2023-04-13T00:00:00.000000000",
          "2023-04-14T00:00:00.000000000",
          "2023-04-17T00:00:00.000000000",
          "2023-04-18T00:00:00.000000000",
          "2023-04-19T00:00:00.000000000",
          "2023-04-20T00:00:00.000000000",
          "2023-04-21T00:00:00.000000000",
          "2023-04-24T00:00:00.000000000",
          "2023-04-25T00:00:00.000000000",
          "2023-04-26T00:00:00.000000000",
          "2023-04-27T00:00:00.000000000",
          "2023-04-28T00:00:00.000000000",
          "2023-05-01T00:00:00.000000000",
          "2023-05-02T00:00:00.000000000",
          "2023-05-03T00:00:00.000000000",
          "2023-05-04T00:00:00.000000000",
          "2023-05-05T00:00:00.000000000",
          "2023-05-08T00:00:00.000000000",
          "2023-05-09T00:00:00.000000000",
          "2023-05-10T00:00:00.000000000",
          "2023-05-11T00:00:00.000000000",
          "2023-05-12T00:00:00.000000000",
          "2023-05-15T00:00:00.000000000",
          "2023-05-16T00:00:00.000000000",
          "2023-05-17T00:00:00.000000000",
          "2023-05-18T00:00:00.000000000",
          "2023-05-19T00:00:00.000000000",
          "2023-05-22T00:00:00.000000000",
          "2023-05-23T00:00:00.000000000",
          "2023-05-24T00:00:00.000000000",
          "2023-05-25T00:00:00.000000000",
          "2023-05-26T00:00:00.000000000",
          "2023-05-30T00:00:00.000000000",
          "2023-05-31T00:00:00.000000000",
          "2023-06-01T00:00:00.000000000",
          "2023-06-02T00:00:00.000000000",
          "2023-06-05T00:00:00.000000000",
          "2023-06-06T00:00:00.000000000",
          "2023-06-07T00:00:00.000000000",
          "2023-06-08T00:00:00.000000000",
          "2023-06-09T00:00:00.000000000",
          "2023-06-12T00:00:00.000000000",
          "2023-06-13T00:00:00.000000000",
          "2023-06-14T00:00:00.000000000",
          "2023-06-15T00:00:00.000000000",
          "2023-06-16T00:00:00.000000000",
          "2023-06-20T00:00:00.000000000",
          "2023-06-21T00:00:00.000000000",
          "2023-06-22T00:00:00.000000000",
          "2023-06-23T00:00:00.000000000",
          "2023-06-26T00:00:00.000000000",
          "2023-06-27T00:00:00.000000000",
          "2023-06-28T00:00:00.000000000",
          "2023-06-29T00:00:00.000000000",
          "2023-06-30T00:00:00.000000000",
          "2023-07-03T00:00:00.000000000",
          "2023-07-05T00:00:00.000000000",
          "2023-07-06T00:00:00.000000000",
          "2023-07-07T00:00:00.000000000",
          "2023-07-10T00:00:00.000000000",
          "2023-07-11T00:00:00.000000000",
          "2023-07-12T00:00:00.000000000",
          "2023-07-13T00:00:00.000000000",
          "2023-07-14T00:00:00.000000000",
          "2023-07-17T00:00:00.000000000",
          "2023-07-18T00:00:00.000000000",
          "2023-07-19T00:00:00.000000000",
          "2023-07-20T00:00:00.000000000",
          "2023-07-21T00:00:00.000000000",
          "2023-07-24T00:00:00.000000000",
          "2023-07-25T00:00:00.000000000",
          "2023-07-26T00:00:00.000000000",
          "2023-07-27T00:00:00.000000000",
          "2023-07-28T00:00:00.000000000",
          "2023-07-31T00:00:00.000000000",
          "2023-08-01T00:00:00.000000000",
          "2023-08-02T00:00:00.000000000",
          "2023-08-03T00:00:00.000000000",
          "2023-08-04T00:00:00.000000000",
          "2023-08-07T00:00:00.000000000",
          "2023-08-08T00:00:00.000000000",
          "2023-08-09T00:00:00.000000000",
          "2023-08-10T00:00:00.000000000",
          "2023-08-11T00:00:00.000000000",
          "2023-08-14T00:00:00.000000000",
          "2023-08-15T00:00:00.000000000",
          "2023-08-16T00:00:00.000000000",
          "2023-08-17T00:00:00.000000000",
          "2023-08-18T00:00:00.000000000",
          "2023-08-21T00:00:00.000000000",
          "2023-08-22T00:00:00.000000000",
          "2023-08-23T00:00:00.000000000",
          "2023-08-24T00:00:00.000000000",
          "2023-08-25T00:00:00.000000000",
          "2023-08-28T00:00:00.000000000",
          "2023-08-29T00:00:00.000000000",
          "2023-08-30T00:00:00.000000000",
          "2023-08-31T00:00:00.000000000",
          "2023-09-01T00:00:00.000000000",
          "2023-09-05T00:00:00.000000000",
          "2023-09-06T00:00:00.000000000",
          "2023-09-07T00:00:00.000000000",
          "2023-09-08T00:00:00.000000000",
          "2023-09-11T00:00:00.000000000",
          "2023-09-12T00:00:00.000000000",
          "2023-09-13T00:00:00.000000000",
          "2023-09-14T00:00:00.000000000",
          "2023-09-15T00:00:00.000000000",
          "2023-09-18T00:00:00.000000000",
          "2023-09-19T00:00:00.000000000",
          "2023-09-20T00:00:00.000000000",
          "2023-09-21T00:00:00.000000000",
          "2023-09-22T00:00:00.000000000",
          "2023-09-25T00:00:00.000000000",
          "2023-09-26T00:00:00.000000000",
          "2023-09-27T00:00:00.000000000",
          "2023-09-28T00:00:00.000000000",
          "2023-09-29T00:00:00.000000000",
          "2023-10-02T00:00:00.000000000",
          "2023-10-03T00:00:00.000000000",
          "2023-10-04T00:00:00.000000000",
          "2023-10-05T00:00:00.000000000",
          "2023-10-06T00:00:00.000000000",
          "2023-10-09T00:00:00.000000000",
          "2023-10-10T00:00:00.000000000",
          "2023-10-11T00:00:00.000000000",
          "2023-10-12T00:00:00.000000000",
          "2023-10-13T00:00:00.000000000",
          "2023-10-16T00:00:00.000000000",
          "2023-10-17T00:00:00.000000000",
          "2023-10-18T00:00:00.000000000",
          "2023-10-19T00:00:00.000000000",
          "2023-10-20T00:00:00.000000000",
          "2023-10-23T00:00:00.000000000",
          "2023-10-24T00:00:00.000000000",
          "2023-10-25T00:00:00.000000000",
          "2023-10-26T00:00:00.000000000",
          "2023-10-27T00:00:00.000000000",
          "2023-10-30T00:00:00.000000000",
          "2023-10-31T00:00:00.000000000",
          "2023-11-01T00:00:00.000000000",
          "2023-11-02T00:00:00.000000000",
          "2023-11-03T00:00:00.000000000",
          "2023-11-06T00:00:00.000000000",
          "2023-11-07T00:00:00.000000000",
          "2023-11-08T00:00:00.000000000",
          "2023-11-09T00:00:00.000000000",
          "2023-11-10T00:00:00.000000000",
          "2023-11-13T00:00:00.000000000",
          "2023-11-14T00:00:00.000000000",
          "2023-11-15T00:00:00.000000000",
          "2023-11-16T00:00:00.000000000",
          "2023-11-17T00:00:00.000000000",
          "2023-11-20T00:00:00.000000000",
          "2023-11-21T00:00:00.000000000",
          "2023-11-22T00:00:00.000000000",
          "2023-11-24T00:00:00.000000000",
          "2023-11-27T00:00:00.000000000",
          "2023-11-28T00:00:00.000000000",
          "2023-11-29T00:00:00.000000000",
          "2023-11-30T00:00:00.000000000",
          "2023-12-01T00:00:00.000000000",
          "2023-12-04T00:00:00.000000000",
          "2023-12-05T00:00:00.000000000",
          "2023-12-06T00:00:00.000000000",
          "2023-12-07T00:00:00.000000000",
          "2023-12-08T00:00:00.000000000",
          "2023-12-11T00:00:00.000000000",
          "2023-12-12T00:00:00.000000000",
          "2023-12-13T00:00:00.000000000",
          "2023-12-14T00:00:00.000000000",
          "2023-12-15T00:00:00.000000000",
          "2023-12-18T00:00:00.000000000",
          "2023-12-19T00:00:00.000000000",
          "2023-12-20T00:00:00.000000000",
          "2023-12-21T00:00:00.000000000",
          "2023-12-22T00:00:00.000000000",
          "2023-12-26T00:00:00.000000000",
          "2023-12-27T00:00:00.000000000",
          "2023-12-28T00:00:00.000000000",
          "2023-12-29T00:00:00.000000000",
          "2024-01-02T00:00:00.000000000",
          "2024-01-03T00:00:00.000000000",
          "2024-01-04T00:00:00.000000000",
          "2024-01-05T00:00:00.000000000",
          "2024-01-08T00:00:00.000000000",
          "2024-01-09T00:00:00.000000000",
          "2024-01-10T00:00:00.000000000",
          "2024-01-11T00:00:00.000000000",
          "2024-01-12T00:00:00.000000000",
          "2024-01-16T00:00:00.000000000",
          "2024-01-17T00:00:00.000000000",
          "2024-01-18T00:00:00.000000000",
          "2024-01-19T00:00:00.000000000",
          "2024-01-22T00:00:00.000000000",
          "2024-01-23T00:00:00.000000000",
          "2024-01-24T00:00:00.000000000",
          "2024-01-25T00:00:00.000000000",
          "2024-01-26T00:00:00.000000000",
          "2024-01-29T00:00:00.000000000",
          "2024-01-30T00:00:00.000000000",
          "2024-01-31T00:00:00.000000000",
          "2024-02-01T00:00:00.000000000",
          "2024-02-02T00:00:00.000000000",
          "2024-02-05T00:00:00.000000000",
          "2024-02-06T00:00:00.000000000",
          "2024-02-07T00:00:00.000000000",
          "2024-02-08T00:00:00.000000000",
          "2024-02-09T00:00:00.000000000",
          "2024-02-12T00:00:00.000000000",
          "2024-02-13T00:00:00.000000000",
          "2024-02-14T00:00:00.000000000",
          "2024-02-15T00:00:00.000000000",
          "2024-02-16T00:00:00.000000000",
          "2024-02-20T00:00:00.000000000",
          "2024-02-21T00:00:00.000000000",
          "2024-02-22T00:00:00.000000000",
          "2024-02-23T00:00:00.000000000",
          "2024-02-26T00:00:00.000000000",
          "2024-02-27T00:00:00.000000000",
          "2024-02-28T00:00:00.000000000",
          "2024-02-29T00:00:00.000000000",
          "2024-03-01T00:00:00.000000000",
          "2024-03-04T00:00:00.000000000",
          "2024-03-05T00:00:00.000000000",
          "2024-03-06T00:00:00.000000000",
          "2024-03-07T00:00:00.000000000",
          "2024-03-08T00:00:00.000000000",
          "2024-03-11T00:00:00.000000000",
          "2024-03-12T00:00:00.000000000",
          "2024-03-13T00:00:00.000000000",
          "2024-03-14T00:00:00.000000000",
          "2024-03-15T00:00:00.000000000",
          "2024-03-18T00:00:00.000000000",
          "2024-03-19T00:00:00.000000000",
          "2024-03-20T00:00:00.000000000",
          "2024-03-21T00:00:00.000000000",
          "2024-03-22T00:00:00.000000000",
          "2024-03-25T00:00:00.000000000",
          "2024-03-26T00:00:00.000000000",
          "2024-03-27T00:00:00.000000000",
          "2024-03-28T00:00:00.000000000",
          "2024-04-01T00:00:00.000000000",
          "2024-04-02T00:00:00.000000000",
          "2024-04-03T00:00:00.000000000",
          "2024-04-04T00:00:00.000000000",
          "2024-04-05T00:00:00.000000000",
          "2024-04-08T00:00:00.000000000",
          "2024-04-09T00:00:00.000000000",
          "2024-04-10T00:00:00.000000000",
          "2024-04-11T00:00:00.000000000",
          "2024-04-12T00:00:00.000000000",
          "2024-04-15T00:00:00.000000000",
          "2024-04-16T00:00:00.000000000",
          "2024-04-17T00:00:00.000000000",
          "2024-04-18T00:00:00.000000000",
          "2024-04-19T00:00:00.000000000",
          "2024-04-22T00:00:00.000000000",
          "2024-04-23T00:00:00.000000000",
          "2024-04-24T00:00:00.000000000",
          "2024-04-25T00:00:00.000000000",
          "2024-04-26T00:00:00.000000000",
          "2024-04-29T00:00:00.000000000",
          "2024-04-30T00:00:00.000000000",
          "2024-05-01T00:00:00.000000000",
          "2024-05-02T00:00:00.000000000",
          "2024-05-03T00:00:00.000000000",
          "2024-05-06T00:00:00.000000000",
          "2024-05-07T00:00:00.000000000",
          "2024-05-08T00:00:00.000000000",
          "2024-05-09T00:00:00.000000000",
          "2024-05-10T00:00:00.000000000",
          "2024-05-13T00:00:00.000000000",
          "2024-05-14T00:00:00.000000000",
          "2024-05-15T00:00:00.000000000",
          "2024-05-16T00:00:00.000000000",
          "2024-05-17T00:00:00.000000000",
          "2024-05-20T00:00:00.000000000",
          "2024-05-21T00:00:00.000000000",
          "2024-05-22T00:00:00.000000000",
          "2024-05-23T00:00:00.000000000",
          "2024-05-24T00:00:00.000000000",
          "2024-05-28T00:00:00.000000000",
          "2024-05-29T00:00:00.000000000",
          "2024-05-30T00:00:00.000000000",
          "2024-05-31T00:00:00.000000000",
          "2024-06-03T00:00:00.000000000",
          "2024-06-04T00:00:00.000000000",
          "2024-06-05T00:00:00.000000000",
          "2024-06-06T00:00:00.000000000",
          "2024-06-07T00:00:00.000000000",
          "2024-06-10T00:00:00.000000000",
          "2024-06-11T00:00:00.000000000",
          "2024-06-12T00:00:00.000000000",
          "2024-06-13T00:00:00.000000000",
          "2024-06-14T00:00:00.000000000",
          "2024-06-17T00:00:00.000000000",
          "2024-06-18T00:00:00.000000000",
          "2024-06-20T00:00:00.000000000",
          "2024-06-21T00:00:00.000000000",
          "2024-06-24T00:00:00.000000000",
          "2024-06-25T00:00:00.000000000",
          "2024-06-26T00:00:00.000000000",
          "2024-06-27T00:00:00.000000000",
          "2024-06-28T00:00:00.000000000",
          "2024-07-01T00:00:00.000000000",
          "2024-07-02T00:00:00.000000000",
          "2024-07-03T00:00:00.000000000",
          "2024-07-05T00:00:00.000000000",
          "2024-07-08T00:00:00.000000000",
          "2024-07-09T00:00:00.000000000",
          "2024-07-10T00:00:00.000000000",
          "2024-07-11T00:00:00.000000000",
          "2024-07-12T00:00:00.000000000",
          "2024-07-15T00:00:00.000000000",
          "2024-07-16T00:00:00.000000000",
          "2024-07-17T00:00:00.000000000",
          "2024-07-18T00:00:00.000000000",
          "2024-07-19T00:00:00.000000000",
          "2024-07-22T00:00:00.000000000",
          "2024-07-23T00:00:00.000000000",
          "2024-07-24T00:00:00.000000000",
          "2024-07-25T00:00:00.000000000",
          "2024-07-26T00:00:00.000000000",
          "2024-07-29T00:00:00.000000000",
          "2024-07-30T00:00:00.000000000",
          "2024-07-31T00:00:00.000000000",
          "2024-08-01T00:00:00.000000000",
          "2024-08-02T00:00:00.000000000",
          "2024-08-05T00:00:00.000000000",
          "2024-08-06T00:00:00.000000000",
          "2024-08-07T00:00:00.000000000",
          "2024-08-08T00:00:00.000000000",
          "2024-08-09T00:00:00.000000000",
          "2024-08-12T00:00:00.000000000",
          "2024-08-13T00:00:00.000000000",
          "2024-08-14T00:00:00.000000000",
          "2024-08-15T00:00:00.000000000",
          "2024-08-16T00:00:00.000000000",
          "2024-08-19T00:00:00.000000000",
          "2024-08-20T00:00:00.000000000",
          "2024-08-21T00:00:00.000000000",
          "2024-08-22T00:00:00.000000000",
          "2024-08-23T00:00:00.000000000",
          "2024-08-26T00:00:00.000000000",
          "2024-08-27T00:00:00.000000000",
          "2024-08-28T00:00:00.000000000",
          "2024-08-29T00:00:00.000000000",
          "2024-08-30T00:00:00.000000000",
          "2024-09-03T00:00:00.000000000",
          "2024-09-04T00:00:00.000000000",
          "2024-09-05T00:00:00.000000000",
          "2024-09-06T00:00:00.000000000",
          "2024-09-09T00:00:00.000000000",
          "2024-09-10T00:00:00.000000000",
          "2024-09-11T00:00:00.000000000",
          "2024-09-12T00:00:00.000000000",
          "2024-09-13T00:00:00.000000000",
          "2024-09-16T00:00:00.000000000",
          "2024-09-17T00:00:00.000000000",
          "2024-09-18T00:00:00.000000000",
          "2024-09-19T00:00:00.000000000",
          "2024-09-20T00:00:00.000000000",
          "2024-09-23T00:00:00.000000000",
          "2024-09-24T00:00:00.000000000",
          "2024-09-25T00:00:00.000000000",
          "2024-09-26T00:00:00.000000000",
          "2024-09-27T00:00:00.000000000",
          "2024-09-30T00:00:00.000000000",
          "2024-10-01T00:00:00.000000000",
          "2024-10-02T00:00:00.000000000",
          "2024-10-03T00:00:00.000000000",
          "2024-10-04T00:00:00.000000000",
          "2024-10-07T00:00:00.000000000",
          "2024-10-08T00:00:00.000000000",
          "2024-10-09T00:00:00.000000000",
          "2024-10-10T00:00:00.000000000",
          "2024-10-11T00:00:00.000000000",
          "2024-10-14T00:00:00.000000000",
          "2024-10-15T00:00:00.000000000",
          "2024-10-16T00:00:00.000000000",
          "2024-10-17T00:00:00.000000000",
          "2024-10-18T00:00:00.000000000",
          "2024-10-21T00:00:00.000000000",
          "2024-10-22T00:00:00.000000000",
          "2024-10-23T00:00:00.000000000",
          "2024-10-24T00:00:00.000000000",
          "2024-10-25T00:00:00.000000000",
          "2024-10-28T00:00:00.000000000",
          "2024-10-29T00:00:00.000000000",
          "2024-10-30T00:00:00.000000000",
          "2024-10-31T00:00:00.000000000",
          "2024-11-01T00:00:00.000000000",
          "2024-11-04T00:00:00.000000000",
          "2024-11-05T00:00:00.000000000",
          "2024-11-06T00:00:00.000000000",
          "2024-11-07T00:00:00.000000000",
          "2024-11-08T00:00:00.000000000",
          "2024-11-11T00:00:00.000000000",
          "2024-11-12T00:00:00.000000000",
          "2024-11-13T00:00:00.000000000",
          "2024-11-14T00:00:00.000000000",
          "2024-11-15T00:00:00.000000000",
          "2024-11-18T00:00:00.000000000",
          "2024-11-19T00:00:00.000000000",
          "2024-11-20T00:00:00.000000000",
          "2024-11-21T00:00:00.000000000",
          "2024-11-22T00:00:00.000000000",
          "2024-11-25T00:00:00.000000000",
          "2024-11-26T00:00:00.000000000",
          "2024-11-27T00:00:00.000000000",
          "2024-11-29T00:00:00.000000000",
          "2024-12-02T00:00:00.000000000",
          "2024-12-03T00:00:00.000000000",
          "2024-12-04T00:00:00.000000000",
          "2024-12-05T00:00:00.000000000",
          "2024-12-06T00:00:00.000000000",
          "2024-12-09T00:00:00.000000000",
          "2024-12-10T00:00:00.000000000",
          "2024-12-11T00:00:00.000000000",
          "2024-12-12T00:00:00.000000000",
          "2024-12-13T00:00:00.000000000",
          "2024-12-16T00:00:00.000000000",
          "2024-12-17T00:00:00.000000000",
          "2024-12-18T00:00:00.000000000",
          "2024-12-19T00:00:00.000000000",
          "2024-12-20T00:00:00.000000000",
          "2024-12-23T00:00:00.000000000",
          "2024-12-24T00:00:00.000000000",
          "2024-12-26T00:00:00.000000000",
          "2024-12-27T00:00:00.000000000",
          "2024-12-30T00:00:00.000000000",
          "2024-12-31T00:00:00.000000000"
         ]
        },
        {
         "line": {
          "dash": "dot",
          "width": 1.5
         },
         "mode": "lines",
         "name": "SMA 20 - AAPL",
         "type": "scatter",
         "x": [
          "2023-01-03T00:00:00.000000000",
          "2023-01-04T00:00:00.000000000",
          "2023-01-05T00:00:00.000000000",
          "2023-01-06T00:00:00.000000000",
          "2023-01-09T00:00:00.000000000",
          "2023-01-10T00:00:00.000000000",
          "2023-01-11T00:00:00.000000000",
          "2023-01-12T00:00:00.000000000",
          "2023-01-13T00:00:00.000000000",
          "2023-01-17T00:00:00.000000000",
          "2023-01-18T00:00:00.000000000",
          "2023-01-19T00:00:00.000000000",
          "2023-01-20T00:00:00.000000000",
          "2023-01-23T00:00:00.000000000",
          "2023-01-24T00:00:00.000000000",
          "2023-01-25T00:00:00.000000000",
          "2023-01-26T00:00:00.000000000",
          "2023-01-27T00:00:00.000000000",
          "2023-01-30T00:00:00.000000000",
          "2023-01-31T00:00:00.000000000",
          "2023-02-01T00:00:00.000000000",
          "2023-02-02T00:00:00.000000000",
          "2023-02-03T00:00:00.000000000",
          "2023-02-06T00:00:00.000000000",
          "2023-02-07T00:00:00.000000000",
          "2023-02-08T00:00:00.000000000",
          "2023-02-09T00:00:00.000000000",
          "2023-02-10T00:00:00.000000000",
          "2023-02-13T00:00:00.000000000",
          "2023-02-14T00:00:00.000000000",
          "2023-02-15T00:00:00.000000000",
          "2023-02-16T00:00:00.000000000",
          "2023-02-17T00:00:00.000000000",
          "2023-02-21T00:00:00.000000000",
          "2023-02-22T00:00:00.000000000",
          "2023-02-23T00:00:00.000000000",
          "2023-02-24T00:00:00.000000000",
          "2023-02-27T00:00:00.000000000",
          "2023-02-28T00:00:00.000000000",
          "2023-03-01T00:00:00.000000000",
          "2023-03-02T00:00:00.000000000",
          "2023-03-03T00:00:00.000000000",
          "2023-03-06T00:00:00.000000000",
          "2023-03-07T00:00:00.000000000",
          "2023-03-08T00:00:00.000000000",
          "2023-03-09T00:00:00.000000000",
          "2023-03-10T00:00:00.000000000",
          "2023-03-13T00:00:00.000000000",
          "2023-03-14T00:00:00.000000000",
          "2023-03-15T00:00:00.000000000",
          "2023-03-16T00:00:00.000000000",
          "2023-03-17T00:00:00.000000000",
          "2023-03-20T00:00:00.000000000",
          "2023-03-21T00:00:00.000000000",
          "2023-03-22T00:00:00.000000000",
          "2023-03-23T00:00:00.000000000",
          "2023-03-24T00:00:00.000000000",
          "2023-03-27T00:00:00.000000000",
          "2023-03-28T00:00:00.000000000",
          "2023-03-29T00:00:00.000000000",
          "2023-03-30T00:00:00.000000000",
          "2023-03-31T00:00:00.000000000",
          "2023-04-03T00:00:00.000000000",
          "2023-04-04T00:00:00.000000000",
          "2023-04-05T00:00:00.000000000",
          "2023-04-06T00:00:00.000000000",
          "2023-04-10T00:00:00.000000000",
          "2023-04-11T00:00:00.000000000",
          "2023-04-12T00:00:00.000000000",
          "2023-04-13T00:00:00.000000000",
          "2023-04-14T00:00:00.000000000",
          "2023-04-17T00:00:00.000000000",
          "2023-04-18T00:00:00.000000000",
          "2023-04-19T00:00:00.000000000",
          "2023-04-20T00:00:00.000000000",
          "2023-04-21T00:00:00.000000000",
          "2023-04-24T00:00:00.000000000",
          "2023-04-25T00:00:00.000000000",
          "2023-04-26T00:00:00.000000000",
          "2023-04-27T00:00:00.000000000",
          "2023-04-28T00:00:00.000000000",
          "2023-05-01T00:00:00.000000000",
          "2023-05-02T00:00:00.000000000",
          "2023-05-03T00:00:00.000000000",
          "2023-05-04T00:00:00.000000000",
          "2023-05-05T00:00:00.000000000",
          "2023-05-08T00:00:00.000000000",
          "2023-05-09T00:00:00.000000000",
          "2023-05-10T00:00:00.000000000",
          "2023-05-11T00:00:00.000000000",
          "2023-05-12T00:00:00.000000000",
          "2023-05-15T00:00:00.000000000",
          "2023-05-16T00:00:00.000000000",
          "2023-05-17T00:00:00.000000000",
          "2023-05-18T00:00:00.000000000",
          "2023-05-19T00:00:00.000000000",
          "2023-05-22T00:00:00.000000000",
          "2023-05-23T00:00:00.000000000",
          "2023-05-24T00:00:00.000000000",
          "2023-05-25T00:00:00.000000000",
          "2023-05-26T00:00:00.000000000",
          "2023-05-30T00:00:00.000000000",
          "2023-05-31T00:00:00.000000000",
          "2023-06-01T00:00:00.000000000",
          "2023-06-02T00:00:00.000000000",
          "2023-06-05T00:00:00.000000000",
          "2023-06-06T00:00:00.000000000",
          "2023-06-07T00:00:00.000000000",
          "2023-06-08T00:00:00.000000000",
          "2023-06-09T00:00:00.000000000",
          "2023-06-12T00:00:00.000000000",
          "2023-06-13T00:00:00.000000000",
          "2023-06-14T00:00:00.000000000",
          "2023-06-15T00:00:00.000000000",
          "2023-06-16T00:00:00.000000000",
          "2023-06-20T00:00:00.000000000",
          "2023-06-21T00:00:00.000000000",
          "2023-06-22T00:00:00.000000000",
          "2023-06-23T00:00:00.000000000",
          "2023-06-26T00:00:00.000000000",
          "2023-06-27T00:00:00.000000000",
          "2023-06-28T00:00:00.000000000",
          "2023-06-29T00:00:00.000000000",
          "2023-06-30T00:00:00.000000000",
          "2023-07-03T00:00:00.000000000",
          "2023-07-05T00:00:00.000000000",
          "2023-07-06T00:00:00.000000000",
          "2023-07-07T00:00:00.000000000",
          "2023-07-10T00:00:00.000000000",
          "2023-07-11T00:00:00.000000000",
          "2023-07-12T00:00:00.000000000",
          "2023-07-13T00:00:00.000000000",
          "2023-07-14T00:00:00.000000000",
          "2023-07-17T00:00:00.000000000",
          "2023-07-18T00:00:00.000000000",
          "2023-07-19T00:00:00.000000000",
          "2023-07-20T00:00:00.000000000",
          "2023-07-21T00:00:00.000000000",
          "2023-07-24T00:00:00.000000000",
          "2023-07-25T00:00:00.000000000",
          "2023-07-26T00:00:00.000000000",
          "2023-07-27T00:00:00.000000000",
          "2023-07-28T00:00:00.000000000",
          "2023-07-31T00:00:00.000000000",
          "2023-08-01T00:00:00.000000000",
          "2023-08-02T00:00:00.000000000",
          "2023-08-03T00:00:00.000000000",
          "2023-08-04T00:00:00.000000000",
          "2023-08-07T00:00:00.000000000",
          "2023-08-08T00:00:00.000000000",
          "2023-08-09T00:00:00.000000000",
          "2023-08-10T00:00:00.000000000",
          "2023-08-11T00:00:00.000000000",
          "2023-08-14T00:00:00.000000000",
          "2023-08-15T00:00:00.000000000",
          "2023-08-16T00:00:00.000000000",
          "2023-08-17T00:00:00.000000000",
          "2023-08-18T00:00:00.000000000",
          "2023-08-21T00:00:00.000000000",
          "2023-08-22T00:00:00.000000000",
          "2023-08-23T00:00:00.000000000",
          "2023-08-24T00:00:00.000000000",
          "2023-08-25T00:00:00.000000000",
          "2023-08-28T00:00:00.000000000",
          "2023-08-29T00:00:00.000000000",
          "2023-08-30T00:00:00.000000000",
          "2023-08-31T00:00:00.000000000",
          "2023-09-01T00:00:00.000000000",
          "2023-09-05T00:00:00.000000000",
          "2023-09-06T00:00:00.000000000",
          "2023-09-07T00:00:00.000000000",
          "2023-09-08T00:00:00.000000000",
          "2023-09-11T00:00:00.000000000",
          "2023-09-12T00:00:00.000000000",
          "2023-09-13T00:00:00.000000000",
          "2023-09-14T00:00:00.000000000",
          "2023-09-15T00:00:00.000000000",
          "2023-09-18T00:00:00.000000000",
          "2023-09-19T00:00:00.000000000",
          "2023-09-20T00:00:00.000000000",
          "2023-09-21T00:00:00.000000000",
          "2023-09-22T00:00:00.000000000",
          "2023-09-25T00:00:00.000000000",
          "2023-09-26T00:00:00.000000000",
          "2023-09-27T00:00:00.000000000",
          "2023-09-28T00:00:00.000000000",
          "2023-09-29T00:00:00.000000000",
          "2023-10-02T00:00:00.000000000",
          "2023-10-03T00:00:00.000000000",
          "2023-10-04T00:00:00.000000000",
          "2023-10-05T00:00:00.000000000",
          "2023-10-06T00:00:00.000000000",
          "2023-10-09T00:00:00.000000000",
          "2023-10-10T00:00:00.000000000",
          "2023-10-11T00:00:00.000000000",
          "2023-10-12T00:00:00.000000000",
          "2023-10-13T00:00:00.000000000",
          "2023-10-16T00:00:00.000000000",
          "2023-10-17T00:00:00.000000000",
          "2023-10-18T00:00:00.000000000",
          "2023-10-19T00:00:00.000000000",
          "2023-10-20T00:00:00.000000000",
          "2023-10-23T00:00:00.000000000",
          "2023-10-24T00:00:00.000000000",
          "2023-10-25T00:00:00.000000000",
          "2023-10-26T00:00:00.000000000",
          "2023-10-27T00:00:00.000000000",
          "2023-10-30T00:00:00.000000000",
          "2023-10-31T00:00:00.000000000",
          "2023-11-01T00:00:00.000000000",
          "2023-11-02T00:00:00.000000000",
          "2023-11-03T00:00:00.000000000",
          "2023-11-06T00:00:00.000000000",
          "2023-11-07T00:00:00.000000000",
          "2023-11-08T00:00:00.000000000",
          "2023-11-09T00:00:00.000000000",
          "2023-11-10T00:00:00.000000000",
          "2023-11-13T00:00:00.000000000",
          "2023-11-14T00:00:00.000000000",
          "2023-11-15T00:00:00.000000000",
          "2023-11-16T00:00:00.000000000",
          "2023-11-17T00:00:00.000000000",
          "2023-11-20T00:00:00.000000000",
          "2023-11-21T00:00:00.000000000",
          "2023-11-22T00:00:00.000000000",
          "2023-11-24T00:00:00.000000000",
          "2023-11-27T00:00:00.000000000",
          "2023-11-28T00:00:00.000000000",
          "2023-11-29T00:00:00.000000000",
          "2023-11-30T00:00:00.000000000",
          "2023-12-01T00:00:00.000000000",
          "2023-12-04T00:00:00.000000000",
          "2023-12-05T00:00:00.000000000",
          "2023-12-06T00:00:00.000000000",
          "2023-12-07T00:00:00.000000000",
          "2023-12-08T00:00:00.000000000",
          "2023-12-11T00:00:00.000000000",
          "2023-12-12T00:00:00.000000000",
          "2023-12-13T00:00:00.000000000",
          "2023-12-14T00:00:00.000000000",
          "2023-12-15T00:00:00.000000000",
          "2023-12-18T00:00:00.000000000",
          "2023-12-19T00:00:00.000000000",
          "2023-12-20T00:00:00.000000000",
          "2023-12-21T00:00:00.000000000",
          "2023-12-22T00:00:00.000000000",
          "2023-12-26T00:00:00.000000000",
          "2023-12-27T00:00:00.000000000",
          "2023-12-28T00:00:00.000000000",
          "2023-12-29T00:00:00.000000000",
          "2024-01-02T00:00:00.000000000",
          "2024-01-03T00:00:00.000000000",
          "2024-01-04T00:00:00.000000000",
          "2024-01-05T00:00:00.000000000",
          "2024-01-08T00:00:00.000000000",
          "2024-01-09T00:00:00.000000000",
          "2024-01-10T00:00:00.000000000",
          "2024-01-11T00:00:00.000000000",
          "2024-01-12T00:00:00.000000000",
          "2024-01-16T00:00:00.000000000",
          "2024-01-17T00:00:00.000000000",
          "2024-01-18T00:00:00.000000000",
          "2024-01-19T00:00:00.000000000",
          "2024-01-22T00:00:00.000000000",
          "2024-01-23T00:00:00.000000000",
          "2024-01-24T00:00:00.000000000",
          "2024-01-25T00:00:00.000000000",
          "2024-01-26T00:00:00.000000000",
          "2024-01-29T00:00:00.000000000",
          "2024-01-30T00:00:00.000000000",
          "2024-01-31T00:00:00.000000000",
          "2024-02-01T00:00:00.000000000",
          "2024-02-02T00:00:00.000000000",
          "2024-02-05T00:00:00.000000000",
          "2024-02-06T00:00:00.000000000",
          "2024-02-07T00:00:00.000000000",
          "2024-02-08T00:00:00.000000000",
          "2024-02-09T00:00:00.000000000",
          "2024-02-12T00:00:00.000000000",
          "2024-02-13T00:00:00.000000000",
          "2024-02-14T00:00:00.000000000",
          "2024-02-15T00:00:00.000000000",
          "2024-02-16T00:00:00.000000000",
          "2024-02-20T00:00:00.000000000",
          "2024-02-21T00:00:00.000000000",
          "2024-02-22T00:00:00.000000000",
          "2024-02-23T00:00:00.000000000",
          "2024-02-26T00:00:00.000000000",
          "2024-02-27T00:00:00.000000000",
          "2024-02-28T00:00:00.000000000",
          "2024-02-29T00:00:00.000000000",
          "2024-03-01T00:00:00.000000000",
          "2024-03-04T00:00:00.000000000",
          "2024-03-05T00:00:00.000000000",
          "2024-03-06T00:00:00.000000000",
          "2024-03-07T00:00:00.000000000",
          "2024-03-08T00:00:00.000000000",
          "2024-03-11T00:00:00.000000000",
          "2024-03-12T00:00:00.000000000",
          "2024-03-13T00:00:00.000000000",
          "2024-03-14T00:00:00.000000000",
          "2024-03-15T00:00:00.000000000",
          "2024-03-18T00:00:00.000000000",
          "2024-03-19T00:00:00.000000000",
          "2024-03-20T00:00:00.000000000",
          "2024-03-21T00:00:00.000000000",
          "2024-03-22T00:00:00.000000000",
          "2024-03-25T00:00:00.000000000",
          "2024-03-26T00:00:00.000000000",
          "2024-03-27T00:00:00.000000000",
          "2024-03-28T00:00:00.000000000",
          "2024-04-01T00:00:00.000000000",
          "2024-04-02T00:00:00.000000000",
          "2024-04-03T00:00:00.000000000",
          "2024-04-04T00:00:00.000000000",
          "2024-04-05T00:00:00.000000000",
          "2024-04-08T00:00:00.000000000",
          "2024-04-09T00:00:00.000000000",
          "2024-04-10T00:00:00.000000000",
          "2024-04-11T00:00:00.000000000",
          "2024-04-12T00:00:00.000000000",
          "2024-04-15T00:00:00.000000000",
          "2024-04-16T00:00:00.000000000",
          "2024-04-17T00:00:00.000000000",
          "2024-04-18T00:00:00.000000000",
          "2024-04-19T00:00:00.000000000",
          "2024-04-22T00:00:00.000000000",
          "2024-04-23T00:00:00.000000000",
          "2024-04-24T00:00:00.000000000",
          "2024-04-25T00:00:00.000000000",
          "2024-04-26T00:00:00.000000000",
          "2024-04-29T00:00:00.000000000",
          "2024-04-30T00:00:00.000000000",
          "2024-05-01T00:00:00.000000000",
          "2024-05-02T00:00:00.000000000",
          "2024-05-03T00:00:00.000000000",
          "2024-05-06T00:00:00.000000000",
          "2024-05-07T00:00:00.000000000",
          "2024-05-08T00:00:00.000000000",
          "2024-05-09T00:00:00.000000000",
          "2024-05-10T00:00:00.000000000",
          "2024-05-13T00:00:00.000000000",
          "2024-05-14T00:00:00.000000000",
          "2024-05-15T00:00:00.000000000",
          "2024-05-16T00:00:00.000000000",
          "2024-05-17T00:00:00.000000000",
          "2024-05-20T00:00:00.000000000",
          "2024-05-21T00:00:00.000000000",
          "2024-05-22T00:00:00.000000000",
          "2024-05-23T00:00:00.000000000",
          "2024-05-24T00:00:00.000000000",
          "2024-05-28T00:00:00.000000000",
          "2024-05-29T00:00:00.000000000",
          "2024-05-30T00:00:00.000000000",
          "2024-05-31T00:00:00.000000000",
          "2024-06-03T00:00:00.000000000",
          "2024-06-04T00:00:00.000000000",
          "2024-06-05T00:00:00.000000000",
          "2024-06-06T00:00:00.000000000",
          "2024-06-07T00:00:00.000000000",
          "2024-06-10T00:00:00.000000000",
          "2024-06-11T00:00:00.000000000",
          "2024-06-12T00:00:00.000000000",
          "2024-06-13T00:00:00.000000000",
          "2024-06-14T00:00:00.000000000",
          "2024-06-17T00:00:00.000000000",
          "2024-06-18T00:00:00.000000000",
          "2024-06-20T00:00:00.000000000",
          "2024-06-21T00:00:00.000000000",
          "2024-06-24T00:00:00.000000000",
          "2024-06-25T00:00:00.000000000",
          "2024-06-26T00:00:00.000000000",
          "2024-06-27T00:00:00.000000000",
          "2024-06-28T00:00:00.000000000",
          "2024-07-01T00:00:00.000000000",
          "2024-07-02T00:00:00.000000000",
          "2024-07-03T00:00:00.000000000",
          "2024-07-05T00:00:00.000000000",
          "2024-07-08T00:00:00.000000000",
          "2024-07-09T00:00:00.000000000",
          "2024-07-10T00:00:00.000000000",
          "2024-07-11T00:00:00.000000000",
          "2024-07-12T00:00:00.000000000",
          "2024-07-15T00:00:00.000000000",
          "2024-07-16T00:00:00.000000000",
          "2024-07-17T00:00:00.000000000",
          "2024-07-18T00:00:00.000000000",
          "2024-07-19T00:00:00.000000000",
          "2024-07-22T00:00:00.000000000",
          "2024-07-23T00:00:00.000000000",
          "2024-07-24T00:00:00.000000000",
          "2024-07-25T00:00:00.000000000",
          "2024-07-26T00:00:00.000000000",
          "2024-07-29T00:00:00.000000000",
          "2024-07-30T00:00:00.000000000",
          "2024-07-31T00:00:00.000000000",
          "2024-08-01T00:00:00.000000000",
          "2024-08-02T00:00:00.000000000",
          "2024-08-05T00:00:00.000000000",
          "2024-08-06T00:00:00.000000000",
          "2024-08-07T00:00:00.000000000",
          "2024-08-08T00:00:00.000000000",
          "2024-08-09T00:00:00.000000000",
          "2024-08-12T00:00:00.000000000",
          "2024-08-13T00:00:00.000000000",
          "2024-08-14T00:00:00.000000000",
          "2024-08-15T00:00:00.000000000",
          "2024-08-16T00:00:00.000000000",
          "2024-08-19T00:00:00.000000000",
          "2024-08-20T00:00:00.000000000",
          "2024-08-21T00:00:00.000000000",
          "2024-08-22T00:00:00.000000000",
          "2024-08-23T00:00:00.000000000",
          "2024-08-26T00:00:00.000000000",
          "2024-08-27T00:00:00.000000000",
          "2024-08-28T00:00:00.000000000",
          "2024-08-29T00:00:00.000000000",
          "2024-08-30T00:00:00.000000000",
          "2024-09-03T00:00:00.000000000",
          "2024-09-04T00:00:00.000000000",
          "2024-09-05T00:00:00.000000000",
          "2024-09-06T00:00:00.000000000",
          "2024-09-09T00:00:00.000000000",
          "2024-09-10T00:00:00.000000000",
          "2024-09-11T00:00:00.000000000",
          "2024-09-12T00:00:00.000000000",
          "2024-09-13T00:00:00.000000000",
          "2024-09-16T00:00:00.000000000",
          "2024-09-17T00:00:00.000000000",
          "2024-09-18T00:00:00.000000000",
          "2024-09-19T00:00:00.000000000",
          "2024-09-20T00:00:00.000000000",
          "2024-09-23T00:00:00.000000000",
          "2024-09-24T00:00:00.000000000",
          "2024-09-25T00:00:00.000000000",
          "2024-09-26T00:00:00.000000000",
          "2024-09-27T00:00:00.000000000",
          "2024-09-30T00:00:00.000000000",
          "2024-10-01T00:00:00.000000000",
          "2024-10-02T00:00:00.000000000",
          "2024-10-03T00:00:00.000000000",
          "2024-10-04T00:00:00.000000000",
          "2024-10-07T00:00:00.000000000",
          "2024-10-08T00:00:00.000000000",
          "2024-10-09T00:00:00.000000000",
          "2024-10-10T00:00:00.000000000",
          "2024-10-11T00:00:00.000000000",
          "2024-10-14T00:00:00.000000000",
          "2024-10-15T00:00:00.000000000",
          "2024-10-16T00:00:00.000000000",
          "2024-10-17T00:00:00.000000000",
          "2024-10-18T00:00:00.000000000",
          "2024-10-21T00:00:00.000000000",
          "2024-10-22T00:00:00.000000000",
          "2024-10-23T00:00:00.000000000",
          "2024-10-24T00:00:00.000000000",
          "2024-10-25T00:00:00.000000000",
          "2024-10-28T00:00:00.000000000",
          "2024-10-29T00:00:00.000000000",
          "2024-10-30T00:00:00.000000000",
          "2024-10-31T00:00:00.000000000",
          "2024-11-01T00:00:00.000000000",
          "2024-11-04T00:00:00.000000000",
          "2024-11-05T00:00:00.000000000",
          "2024-11-06T00:00:00.000000000",
          "2024-11-07T00:00:00.000000000",
          "2024-11-08T00:00:00.000000000",
          "2024-11-11T00:00:00.000000000",
          "2024-11-12T00:00:00.000000000",
          "2024-11-13T00:00:00.000000000",
          "2024-11-14T00:00:00.000000000",
          "2024-11-15T00:00:00.000000000",
          "2024-11-18T00:00:00.000000000",
          "2024-11-19T00:00:00.000000000",
          "2024-11-20T00:00:00.000000000",
          "2024-11-21T00:00:00.000000000",
          "2024-11-22T00:00:00.000000000",
          "2024-11-25T00:00:00.000000000",
          "2024-11-26T00:00:00.000000000",
          "2024-11-27T00:00:00.000000000",
          "2024-11-29T00:00:00.000000000",
          "2024-12-02T00:00:00.000000000",
          "2024-12-03T00:00:00.000000000",
          "2024-12-04T00:00:00.000000000",
          "2024-12-05T00:00:00.000000000",
          "2024-12-06T00:00:00.000000000",
          "2024-12-09T00:00:00.000000000",
          "2024-12-10T00:00:00.000000000",
          "2024-12-11T00:00:00.000000000",
          "2024-12-12T00:00:00.000000000",
          "2024-12-13T00:00:00.000000000",
          "2024-12-16T00:00:00.000000000",
          "2024-12-17T00:00:00.000000000",
          "2024-12-18T00:00:00.000000000",
          "2024-12-19T00:00:00.000000000",
          "2024-12-20T00:00:00.000000000",
          "2024-12-23T00:00:00.000000000",
          "2024-12-24T00:00:00.000000000",
          "2024-12-26T00:00:00.000000000",
          "2024-12-27T00:00:00.000000000",
          "2024-12-30T00:00:00.000000000",
          "2024-12-31T00:00:00.000000000"
         ],
         "y": {
          "bdata": "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",
          "dtype": "f8"
         }
        },
        {
         "line": {
          "dash": "dot",
          "width": 1.5
         },
         "mode": "lines",
         "name": "SMA 20 - MSFT",
         "type": "scatter",
         "x": [
          "2023-01-03T00:00:00.000000000",
          "2023-01-04T00:00:00.000000000",
          "2023-01-05T00:00:00.000000000",
          "2023-01-06T00:00:00.000000000",
          "2023-01-09T00:00:00.000000000",
          "2023-01-10T00:00:00.000000000",
          "2023-01-11T00:00:00.000000000",
          "2023-01-12T00:00:00.000000000",
          "2023-01-13T00:00:00.000000000",
          "2023-01-17T00:00:00.000000000",
          "2023-01-18T00:00:00.000000000",
          "2023-01-19T00:00:00.000000000",
          "2023-01-20T00:00:00.000000000",
          "2023-01-23T00:00:00.000000000",
          "2023-01-24T00:00:00.000000000",
          "2023-01-25T00:00:00.000000000",
          "2023-01-26T00:00:00.000000000",
          "2023-01-27T00:00:00.000000000",
          "2023-01-30T00:00:00.000000000",
          "2023-01-31T00:00:00.000000000",
          "2023-02-01T00:00:00.000000000",
          "2023-02-02T00:00:00.000000000",
          "2023-02-03T00:00:00.000000000",
          "2023-02-06T00:00:00.000000000",
          "2023-02-07T00:00:00.000000000",
          "2023-02-08T00:00:00.000000000",
          "2023-02-09T00:00:00.000000000",
          "2023-02-10T00:00:00.000000000",
          "2023-02-13T00:00:00.000000000",
          "2023-02-14T00:00:00.000000000",
          "2023-02-15T00:00:00.000000000",
          "2023-02-16T00:00:00.000000000",
          "2023-02-17T00:00:00.000000000",
          "2023-02-21T00:00:00.000000000",
          "2023-02-22T00:00:00.000000000",
          "2023-02-23T00:00:00.000000000",
          "2023-02-24T00:00:00.000000000",
          "2023-02-27T00:00:00.000000000",
          "2023-02-28T00:00:00.000000000",
          "2023-03-01T00:00:00.000000000",
          "2023-03-02T00:00:00.000000000",
          "2023-03-03T00:00:00.000000000",
          "2023-03-06T00:00:00.000000000",
          "2023-03-07T00:00:00.000000000",
          "2023-03-08T00:00:00.000000000",
          "2023-03-09T00:00:00.000000000",
          "2023-03-10T00:00:00.000000000",
          "2023-03-13T00:00:00.000000000",
          "2023-03-14T00:00:00.000000000",
          "2023-03-15T00:00:00.000000000",
          "2023-03-16T00:00:00.000000000",
          "2023-03-17T00:00:00.000000000",
          "2023-03-20T00:00:00.000000000",
          "2023-03-21T00:00:00.000000000",
          "2023-03-22T00:00:00.000000000",
          "2023-03-23T00:00:00.000000000",
          "2023-03-24T00:00:00.000000000",
          "2023-03-27T00:00:00.000000000",
          "2023-03-28T00:00:00.000000000",
          "2023-03-29T00:00:00.000000000",
          "2023-03-30T00:00:00.000000000",
          "2023-03-31T00:00:00.000000000",
          "2023-04-03T00:00:00.000000000",
          "2023-04-04T00:00:00.000000000",
          "2023-04-05T00:00:00.000000000",
          "2023-04-06T00:00:00.000000000",
          "2023-04-10T00:00:00.000000000",
          "2023-04-11T00:00:00.000000000",
          "2023-04-12T00:00:00.000000000",
          "2023-04-13T00:00:00.000000000",
          "2023-04-14T00:00:00.000000000",
          "2023-04-17T00:00:00.000000000",
          "2023-04-18T00:00:00.000000000",
          "2023-04-19T00:00:00.000000000",
          "2023-04-20T00:00:00.000000000",
          "2023-04-21T00:00:00.000000000",
          "2023-04-24T00:00:00.000000000",
          "2023-04-25T00:00:00.000000000",
          "2023-04-26T00:00:00.000000000",
          "2023-04-27T00:00:00.000000000",
          "2023-04-28T00:00:00.000000000",
          "2023-05-01T00:00:00.000000000",
          "2023-05-02T00:00:00.000000000",
          "2023-05-03T00:00:00.000000000",
          "2023-05-04T00:00:00.000000000",
          "2023-05-05T00:00:00.000000000",
          "2023-05-08T00:00:00.000000000",
          "2023-05-09T00:00:00.000000000",
          "2023-05-10T00:00:00.000000000",
          "2023-05-11T00:00:00.000000000",
          "2023-05-12T00:00:00.000000000",
          "2023-05-15T00:00:00.000000000",
          "2023-05-16T00:00:00.000000000",
          "2023-05-17T00:00:00.000000000",
          "2023-05-18T00:00:00.000000000",
          "2023-05-19T00:00:00.000000000",
          "2023-05-22T00:00:00.000000000",
          "2023-05-23T00:00:00.000000000",
          "2023-05-24T00:00:00.000000000",
          "2023-05-25T00:00:00.000000000",
          "2023-05-26T00:00:00.000000000",
          "2023-05-30T00:00:00.000000000",
          "2023-05-31T00:00:00.000000000",
          "2023-06-01T00:00:00.000000000",
          "2023-06-02T00:00:00.000000000",
          "2023-06-05T00:00:00.000000000",
          "2023-06-06T00:00:00.000000000",
          "2023-06-07T00:00:00.000000000",
          "2023-06-08T00:00:00.000000000",
          "2023-06-09T00:00:00.000000000",
          "2023-06-12T00:00:00.000000000",
          "2023-06-13T00:00:00.000000000",
          "2023-06-14T00:00:00.000000000",
          "2023-06-15T00:00:00.000000000",
          "2023-06-16T00:00:00.000000000",
          "2023-06-20T00:00:00.000000000",
          "2023-06-21T00:00:00.000000000",
          "2023-06-22T00:00:00.000000000",
          "2023-06-23T00:00:00.000000000",
          "2023-06-26T00:00:00.000000000",
          "2023-06-27T00:00:00.000000000",
          "2023-06-28T00:00:00.000000000",
          "2023-06-29T00:00:00.000000000",
          "2023-06-30T00:00:00.000000000",
          "2023-07-03T00:00:00.000000000",
          "2023-07-05T00:00:00.000000000",
          "2023-07-06T00:00:00.000000000",
          "2023-07-07T00:00:00.000000000",
          "2023-07-10T00:00:00.000000000",
          "2023-07-11T00:00:00.000000000",
          "2023-07-12T00:00:00.000000000",
          "2023-07-13T00:00:00.000000000",
          "2023-07-14T00:00:00.000000000",
          "2023-07-17T00:00:00.000000000",
          "2023-07-18T00:00:00.000000000",
          "2023-07-19T00:00:00.000000000",
          "2023-07-20T00:00:00.000000000",
          "2023-07-21T00:00:00.000000000",
          "2023-07-24T00:00:00.000000000",
          "2023-07-25T00:00:00.000000000",
          "2023-07-26T00:00:00.000000000",
          "2023-07-27T00:00:00.000000000",
          "2023-07-28T00:00:00.000000000",
          "2023-07-31T00:00:00.000000000",
          "2023-08-01T00:00:00.000000000",
          "2023-08-02T00:00:00.000000000",
          "2023-08-03T00:00:00.000000000",
          "2023-08-04T00:00:00.000000000",
          "2023-08-07T00:00:00.000000000",
          "2023-08-08T00:00:00.000000000",
          "2023-08-09T00:00:00.000000000",
          "2023-08-10T00:00:00.000000000",
          "2023-08-11T00:00:00.000000000",
          "2023-08-14T00:00:00.000000000",
          "2023-08-15T00:00:00.000000000",
          "2023-08-16T00:00:00.000000000",
          "2023-08-17T00:00:00.000000000",
          "2023-08-18T00:00:00.000000000",
          "2023-08-21T00:00:00.000000000",
          "2023-08-22T00:00:00.000000000",
          "2023-08-23T00:00:00.000000000",
          "2023-08-24T00:00:00.000000000",
          "2023-08-25T00:00:00.000000000",
          "2023-08-28T00:00:00.000000000",
          "2023-08-29T00:00:00.000000000",
          "2023-08-30T00:00:00.000000000",
          "2023-08-31T00:00:00.000000000",
          "2023-09-01T00:00:00.000000000",
          "2023-09-05T00:00:00.000000000",
          "2023-09-06T00:00:00.000000000",
          "2023-09-07T00:00:00.000000000",
          "2023-09-08T00:00:00.000000000",
          "2023-09-11T00:00:00.000000000",
          "2023-09-12T00:00:00.000000000",
          "2023-09-13T00:00:00.000000000",
          "2023-09-14T00:00:00.000000000",
          "2023-09-15T00:00:00.000000000",
          "2023-09-18T00:00:00.000000000",
          "2023-09-19T00:00:00.000000000",
          "2023-09-20T00:00:00.000000000",
          "2023-09-21T00:00:00.000000000",
          "2023-09-22T00:00:00.000000000",
          "2023-09-25T00:00:00.000000000",
          "2023-09-26T00:00:00.000000000",
          "2023-09-27T00:00:00.000000000",
          "2023-09-28T00:00:00.000000000",
          "2023-09-29T00:00:00.000000000",
          "2023-10-02T00:00:00.000000000",
          "2023-10-03T00:00:00.000000000",
          "2023-10-04T00:00:00.000000000",
          "2023-10-05T00:00:00.000000000",
          "2023-10-06T00:00:00.000000000",
          "2023-10-09T00:00:00.000000000",
          "2023-10-10T00:00:00.000000000",
          "2023-10-11T00:00:00.000000000",
          "2023-10-12T00:00:00.000000000",
          "2023-10-13T00:00:00.000000000",
          "2023-10-16T00:00:00.000000000",
          "2023-10-17T00:00:00.000000000",
          "2023-10-18T00:00:00.000000000",
          "2023-10-19T00:00:00.000000000",
          "2023-10-20T00:00:00.000000000",
          "2023-10-23T00:00:00.000000000",
          "2023-10-24T00:00:00.000000000",
          "2023-10-25T00:00:00.000000000",
          "2023-10-26T00:00:00.000000000",
          "2023-10-27T00:00:00.000000000",
          "2023-10-30T00:00:00.000000000",
          "2023-10-31T00:00:00.000000000",
          "2023-11-01T00:00:00.000000000",
          "2023-11-02T00:00:00.000000000",
          "2023-11-03T00:00:00.000000000",
          "2023-11-06T00:00:00.000000000",
          "2023-11-07T00:00:00.000000000",
          "2023-11-08T00:00:00.000000000",
          "2023-11-09T00:00:00.000000000",
          "2023-11-10T00:00:00.000000000",
          "2023-11-13T00:00:00.000000000",
          "2023-11-14T00:00:00.000000000",
          "2023-11-15T00:00:00.000000000",
          "2023-11-16T00:00:00.000000000",
          "2023-11-17T00:00:00.000000000",
          "2023-11-20T00:00:00.000000000",
          "2023-11-21T00:00:00.000000000",
          "2023-11-22T00:00:00.000000000",
          "2023-11-24T00:00:00.000000000",
          "2023-11-27T00:00:00.000000000",
          "2023-11-28T00:00:00.000000000",
          "2023-11-29T00:00:00.000000000",
          "2023-11-30T00:00:00.000000000",
          "2023-12-01T00:00:00.000000000",
          "2023-12-04T00:00:00.000000000",
          "2023-12-05T00:00:00.000000000",
          "2023-12-06T00:00:00.000000000",
          "2023-12-07T00:00:00.000000000",
          "2023-12-08T00:00:00.000000000",
          "2023-12-11T00:00:00.000000000",
          "2023-12-12T00:00:00.000000000",
          "2023-12-13T00:00:00.000000000",
          "2023-12-14T00:00:00.000000000",
          "2023-12-15T00:00:00.000000000",
          "2023-12-18T00:00:00.000000000",
          "2023-12-19T00:00:00.000000000",
          "2023-12-20T00:00:00.000000000",
          "2023-12-21T00:00:00.000000000",
          "2023-12-22T00:00:00.000000000",
          "2023-12-26T00:00:00.000000000",
          "2023-12-27T00:00:00.000000000",
          "2023-12-28T00:00:00.000000000",
          "2023-12-29T00:00:00.000000000",
          "2024-01-02T00:00:00.000000000",
          "2024-01-03T00:00:00.000000000",
          "2024-01-04T00:00:00.000000000",
          "2024-01-05T00:00:00.000000000",
          "2024-01-08T00:00:00.000000000",
          "2024-01-09T00:00:00.000000000",
          "2024-01-10T00:00:00.000000000",
          "2024-01-11T00:00:00.000000000",
          "2024-01-12T00:00:00.000000000",
          "2024-01-16T00:00:00.000000000",
          "2024-01-17T00:00:00.000000000",
          "2024-01-18T00:00:00.000000000",
          "2024-01-19T00:00:00.000000000",
          "2024-01-22T00:00:00.000000000",
          "2024-01-23T00:00:00.000000000",
          "2024-01-24T00:00:00.000000000",
          "2024-01-25T00:00:00.000000000",
          "2024-01-26T00:00:00.000000000",
          "2024-01-29T00:00:00.000000000",
          "2024-01-30T00:00:00.000000000",
          "2024-01-31T00:00:00.000000000",
          "2024-02-01T00:00:00.000000000",
          "2024-02-02T00:00:00.000000000",
          "2024-02-05T00:00:00.000000000",
          "2024-02-06T00:00:00.000000000",
          "2024-02-07T00:00:00.000000000",
          "2024-02-08T00:00:00.000000000",
          "2024-02-09T00:00:00.000000000",
          "2024-02-12T00:00:00.000000000",
          "2024-02-13T00:00:00.000000000",
          "2024-02-14T00:00:00.000000000",
          "2024-02-15T00:00:00.000000000",
          "2024-02-16T00:00:00.000000000",
          "2024-02-20T00:00:00.000000000",
          "2024-02-21T00:00:00.000000000",
          "2024-02-22T00:00:00.000000000",
          "2024-02-23T00:00:00.000000000",
          "2024-02-26T00:00:00.000000000",
          "2024-02-27T00:00:00.000000000",
          "2024-02-28T00:00:00.000000000",
          "2024-02-29T00:00:00.000000000",
          "2024-03-01T00:00:00.000000000",
          "2024-03-04T00:00:00.000000000",
          "2024-03-05T00:00:00.000000000",
          "2024-03-06T00:00:00.000000000",
          "2024-03-07T00:00:00.000000000",
          "2024-03-08T00:00:00.000000000",
          "2024-03-11T00:00:00.000000000",
          "2024-03-12T00:00:00.000000000",
          "2024-03-13T00:00:00.000000000",
          "2024-03-14T00:00:00.000000000",
          "2024-03-15T00:00:00.000000000",
          "2024-03-18T00:00:00.000000000",
          "2024-03-19T00:00:00.000000000",
          "2024-03-20T00:00:00.000000000",
          "2024-03-21T00:00:00.000000000",
          "2024-03-22T00:00:00.000000000",
          "2024-03-25T00:00:00.000000000",
          "2024-03-26T00:00:00.000000000",
          "2024-03-27T00:00:00.000000000",
          "2024-03-28T00:00:00.000000000",
          "2024-04-01T00:00:00.000000000",
          "2024-04-02T00:00:00.000000000",
          "2024-04-03T00:00:00.000000000",
          "2024-04-04T00:00:00.000000000",
          "2024-04-05T00:00:00.000000000",
          "2024-04-08T00:00:00.000000000",
          "2024-04-09T00:00:00.000000000",
          "2024-04-10T00:00:00.000000000",
          "2024-04-11T00:00:00.000000000",
          "2024-04-12T00:00:00.000000000",
          "2024-04-15T00:00:00.000000000",
          "2024-04-16T00:00:00.000000000",
          "2024-04-17T00:00:00.000000000",
          "2024-04-18T00:00:00.000000000",
          "2024-04-19T00:00:00.000000000",
          "2024-04-22T00:00:00.000000000",
          "2024-04-23T00:00:00.000000000",
          "2024-04-24T00:00:00.000000000",
          "2024-04-25T00:00:00.000000000",
          "2024-04-26T00:00:00.000000000",
          "2024-04-29T00:00:00.000000000",
          "2024-04-30T00:00:00.000000000",
          "2024-05-01T00:00:00.000000000",
          "2024-05-02T00:00:00.000000000",
          "2024-05-03T00:00:00.000000000",
          "2024-05-06T00:00:00.000000000",
          "2024-05-07T00:00:00.000000000",
          "2024-05-08T00:00:00.000000000",
          "2024-05-09T00:00:00.000000000",
          "2024-05-10T00:00:00.000000000",
          "2024-05-13T00:00:00.000000000",
          "2024-05-14T00:00:00.000000000",
          "2024-05-15T00:00:00.000000000",
          "2024-05-16T00:00:00.000000000",
          "2024-05-17T00:00:00.000000000",
          "2024-05-20T00:00:00.000000000",
          "2024-05-21T00:00:00.000000000",
          "2024-05-22T00:00:00.000000000",
          "2024-05-23T00:00:00.000000000",
          "2024-05-24T00:00:00.000000000",
          "2024-05-28T00:00:00.000000000",
          "2024-05-29T00:00:00.000000000",
          "2024-05-30T00:00:00.000000000",
          "2024-05-31T00:00:00.000000000",
          "2024-06-03T00:00:00.000000000",
          "2024-06-04T00:00:00.000000000",
          "2024-06-05T00:00:00.000000000",
          "2024-06-06T00:00:00.000000000",
          "2024-06-07T00:00:00.000000000",
          "2024-06-10T00:00:00.000000000",
          "2024-06-11T00:00:00.000000000",
          "2024-06-12T00:00:00.000000000",
          "2024-06-13T00:00:00.000000000",
          "2024-06-14T00:00:00.000000000",
          "2024-06-17T00:00:00.000000000",
          "2024-06-18T00:00:00.000000000",
          "2024-06-20T00:00:00.000000000",
          "2024-06-21T00:00:00.000000000",
          "2024-06-24T00:00:00.000000000",
          "2024-06-25T00:00:00.000000000",
          "2024-06-26T00:00:00.000000000",
          "2024-06-27T00:00:00.000000000",
          "2024-06-28T00:00:00.000000000",
          "2024-07-01T00:00:00.000000000",
          "2024-07-02T00:00:00.000000000",
          "2024-07-03T00:00:00.000000000",
          "2024-07-05T00:00:00.000000000",
          "2024-07-08T00:00:00.000000000",
          "2024-07-09T00:00:00.000000000",
          "2024-07-10T00:00:00.000000000",
          "2024-07-11T00:00:00.000000000",
          "2024-07-12T00:00:00.000000000",
          "2024-07-15T00:00:00.000000000",
          "2024-07-16T00:00:00.000000000",
          "2024-07-17T00:00:00.000000000",
          "2024-07-18T00:00:00.000000000",
          "2024-07-19T00:00:00.000000000",
          "2024-07-22T00:00:00.000000000",
          "2024-07-23T00:00:00.000000000",
          "2024-07-24T00:00:00.000000000",
          "2024-07-25T00:00:00.000000000",
          "2024-07-26T00:00:00.000000000",
          "2024-07-29T00:00:00.000000000",
          "2024-07-30T00:00:00.000000000",
          "2024-07-31T00:00:00.000000000",
          "2024-08-01T00:00:00.000000000",
          "2024-08-02T00:00:00.000000000",
          "2024-08-05T00:00:00.000000000",
          "2024-08-06T00:00:00.000000000",
          "2024-08-07T00:00:00.000000000",
          "2024-08-08T00:00:00.000000000",
          "2024-08-09T00:00:00.000000000",
          "2024-08-12T00:00:00.000000000",
          "2024-08-13T00:00:00.000000000",
          "2024-08-14T00:00:00.000000000",
          "2024-08-15T00:00:00.000000000",
          "2024-08-16T00:00:00.000000000",
          "2024-08-19T00:00:00.000000000",
          "2024-08-20T00:00:00.000000000",
          "2024-08-21T00:00:00.000000000",
          "2024-08-22T00:00:00.000000000",
          "2024-08-23T00:00:00.000000000",
          "2024-08-26T00:00:00.000000000",
          "2024-08-27T00:00:00.000000000",
          "2024-08-28T00:00:00.000000000",
          "2024-08-29T00:00:00.000000000",
          "2024-08-30T00:00:00.000000000",
          "2024-09-03T00:00:00.000000000",
          "2024-09-04T00:00:00.000000000",
          "2024-09-05T00:00:00.000000000",
          "2024-09-06T00:00:00.000000000",
          "2024-09-09T00:00:00.000000000",
          "2024-09-10T00:00:00.000000000",
          "2024-09-11T00:00:00.000000000",
          "2024-09-12T00:00:00.000000000",
          "2024-09-13T00:00:00.000000000",
          "2024-09-16T00:00:00.000000000",
          "2024-09-17T00:00:00.000000000",
          "2024-09-18T00:00:00.000000000",
          "2024-09-19T00:00:00.000000000",
          "2024-09-20T00:00:00.000000000",
          "2024-09-23T00:00:00.000000000",
          "2024-09-24T00:00:00.000000000",
          "2024-09-25T00:00:00.000000000",
          "2024-09-26T00:00:00.000000000",
          "2024-09-27T00:00:00.000000000",
          "2024-09-30T00:00:00.000000000",
          "2024-10-01T00:00:00.000000000",
          "2024-10-02T00:00:00.000000000",
          "2024-10-03T00:00:00.000000000",
          "2024-10-04T00:00:00.000000000",
          "2024-10-07T00:00:00.000000000",
          "2024-10-08T00:00:00.000000000",
          "2024-10-09T00:00:00.000000000",
          "2024-10-10T00:00:00.000000000",
          "2024-10-11T00:00:00.000000000",
          "2024-10-14T00:00:00.000000000",
          "2024-10-15T00:00:00.000000000",
          "2024-10-16T00:00:00.000000000",
          "2024-10-17T00:00:00.000000000",
          "2024-10-18T00:00:00.000000000",
          "2024-10-21T00:00:00.000000000",
          "2024-10-22T00:00:00.000000000",
          "2024-10-23T00:00:00.000000000",
          "2024-10-24T00:00:00.000000000",
          "2024-10-25T00:00:00.000000000",
          "2024-10-28T00:00:00.000000000",
          "2024-10-29T00:00:00.000000000",
          "2024-10-30T00:00:00.000000000",
          "2024-10-31T00:00:00.000000000",
          "2024-11-01T00:00:00.000000000",
          "2024-11-04T00:00:00.000000000",
          "2024-11-05T00:00:00.000000000",
          "2024-11-06T00:00:00.000000000",
          "2024-11-07T00:00:00.000000000",
          "2024-11-08T00:00:00.000000000",
          "2024-11-11T00:00:00.000000000",
          "2024-11-12T00:00:00.000000000",
          "2024-11-13T00:00:00.000000000",
          "2024-11-14T00:00:00.000000000",
          "2024-11-15T00:00:00.000000000",
          "2024-11-18T00:00:00.000000000",
          "2024-11-19T00:00:00.000000000",
          "2024-11-20T00:00:00.000000000",
          "2024-11-21T00:00:00.000000000",
          "2024-11-22T00:00:00.000000000",
          "2024-11-25T00:00:00.000000000",
          "2024-11-26T00:00:00.000000000",
          "2024-11-27T00:00:00.000000000",
          "2024-11-29T00:00:00.000000000",
          "2024-12-02T00:00:00.000000000",
          "2024-12-03T00:00:00.000000000",
          "2024-12-04T00:00:00.000000000",
          "2024-12-05T00:00:00.000000000",
          "2024-12-06T00:00:00.000000000",
          "2024-12-09T00:00:00.000000000",
          "2024-12-10T00:00:00.000000000",
          "2024-12-11T00:00:00.000000000",
          "2024-12-12T00:00:00.000000000",
          "2024-12-13T00:00:00.000000000",
          "2024-12-16T00:00:00.000000000",
          "2024-12-17T00:00:00.000000000",
          "2024-12-18T00:00:00.000000000",
          "2024-12-19T00:00:00.000000000",
          "2024-12-20T00:00:00.000000000",
          "2024-12-23T00:00:00.000000000",
          "2024-12-24T00:00:00.000000000",
          "2024-12-26T00:00:00.000000000",
          "2024-12-27T00:00:00.000000000",
          "2024-12-30T00:00:00.000000000",
          "2024-12-31T00:00:00.000000000"
         ],
         "y": {
          "bdata": "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",
          "dtype": "f8"
         }
        },
        {
         "line": {
          "dash": "dot",
          "width": 1.5
         },
         "mode": "lines",
         "name": "SMA 20 - GOOG",
         "type": "scatter",
         "x": [
          "2023-01-03T00:00:00.000000000",
          "2023-01-04T00:00:00.000000000",
          "2023-01-05T00:00:00.000000000",
          "2023-01-06T00:00:00.000000000",
          "2023-01-09T00:00:00.000000000",
          "2023-01-10T00:00:00.000000000",
          "2023-01-11T00:00:00.000000000",
          "2023-01-12T00:00:00.000000000",
          "2023-01-13T00:00:00.000000000",
          "2023-01-17T00:00:00.000000000",
          "2023-01-18T00:00:00.000000000",
          "2023-01-19T00:00:00.000000000",
          "2023-01-20T00:00:00.000000000",
          "2023-01-23T00:00:00.000000000",
          "2023-01-24T00:00:00.000000000",
          "2023-01-25T00:00:00.000000000",
          "2023-01-26T00:00:00.000000000",
          "2023-01-27T00:00:00.000000000",
          "2023-01-30T00:00:00.000000000",
          "2023-01-31T00:00:00.000000000",
          "2023-02-01T00:00:00.000000000",
          "2023-02-02T00:00:00.000000000",
          "2023-02-03T00:00:00.000000000",
          "2023-02-06T00:00:00.000000000",
          "2023-02-07T00:00:00.000000000",
          "2023-02-08T00:00:00.000000000",
          "2023-02-09T00:00:00.000000000",
          "2023-02-10T00:00:00.000000000",
          "2023-02-13T00:00:00.000000000",
          "2023-02-14T00:00:00.000000000",
          "2023-02-15T00:00:00.000000000",
          "2023-02-16T00:00:00.000000000",
          "2023-02-17T00:00:00.000000000",
          "2023-02-21T00:00:00.000000000",
          "2023-02-22T00:00:00.000000000",
          "2023-02-23T00:00:00.000000000",
          "2023-02-24T00:00:00.000000000",
          "2023-02-27T00:00:00.000000000",
          "2023-02-28T00:00:00.000000000",
          "2023-03-01T00:00:00.000000000",
          "2023-03-02T00:00:00.000000000",
          "2023-03-03T00:00:00.000000000",
          "2023-03-06T00:00:00.000000000",
          "2023-03-07T00:00:00.000000000",
          "2023-03-08T00:00:00.000000000",
          "2023-03-09T00:00:00.000000000",
          "2023-03-10T00:00:00.000000000",
          "2023-03-13T00:00:00.000000000",
          "2023-03-14T00:00:00.000000000",
          "2023-03-15T00:00:00.000000000",
          "2023-03-16T00:00:00.000000000",
          "2023-03-17T00:00:00.000000000",
          "2023-03-20T00:00:00.000000000",
          "2023-03-21T00:00:00.000000000",
          "2023-03-22T00:00:00.000000000",
          "2023-03-23T00:00:00.000000000",
          "2023-03-24T00:00:00.000000000",
          "2023-03-27T00:00:00.000000000",
          "2023-03-28T00:00:00.000000000",
          "2023-03-29T00:00:00.000000000",
          "2023-03-30T00:00:00.000000000",
          "2023-03-31T00:00:00.000000000",
          "2023-04-03T00:00:00.000000000",
          "2023-04-04T00:00:00.000000000",
          "2023-04-05T00:00:00.000000000",
          "2023-04-06T00:00:00.000000000",
          "2023-04-10T00:00:00.000000000",
          "2023-04-11T00:00:00.000000000",
          "2023-04-12T00:00:00.000000000",
          "2023-04-13T00:00:00.000000000",
          "2023-04-14T00:00:00.000000000",
          "2023-04-17T00:00:00.000000000",
          "2023-04-18T00:00:00.000000000",
          "2023-04-19T00:00:00.000000000",
          "2023-04-20T00:00:00.000000000",
          "2023-04-21T00:00:00.000000000",
          "2023-04-24T00:00:00.000000000",
          "2023-04-25T00:00:00.000000000",
          "2023-04-26T00:00:00.000000000",
          "2023-04-27T00:00:00.000000000",
          "2023-04-28T00:00:00.000000000",
          "2023-05-01T00:00:00.000000000",
          "2023-05-02T00:00:00.000000000",
          "2023-05-03T00:00:00.000000000",
          "2023-05-04T00:00:00.000000000",
          "2023-05-05T00:00:00.000000000",
          "2023-05-08T00:00:00.000000000",
          "2023-05-09T00:00:00.000000000",
          "2023-05-10T00:00:00.000000000",
          "2023-05-11T00:00:00.000000000",
          "2023-05-12T00:00:00.000000000",
          "2023-05-15T00:00:00.000000000",
          "2023-05-16T00:00:00.000000000",
          "2023-05-17T00:00:00.000000000",
          "2023-05-18T00:00:00.000000000",
          "2023-05-19T00:00:00.000000000",
          "2023-05-22T00:00:00.000000000",
          "2023-05-23T00:00:00.000000000",
          "2023-05-24T00:00:00.000000000",
          "2023-05-25T00:00:00.000000000",
          "2023-05-26T00:00:00.000000000",
          "2023-05-30T00:00:00.000000000",
          "2023-05-31T00:00:00.000000000",
          "2023-06-01T00:00:00.000000000",
          "2023-06-02T00:00:00.000000000",
          "2023-06-05T00:00:00.000000000",
          "2023-06-06T00:00:00.000000000",
          "2023-06-07T00:00:00.000000000",
          "2023-06-08T00:00:00.000000000",
          "2023-06-09T00:00:00.000000000",
          "2023-06-12T00:00:00.000000000",
          "2023-06-13T00:00:00.000000000",
          "2023-06-14T00:00:00.000000000",
          "2023-06-15T00:00:00.000000000",
          "2023-06-16T00:00:00.000000000",
          "2023-06-20T00:00:00.000000000",
          "2023-06-21T00:00:00.000000000",
          "2023-06-22T00:00:00.000000000",
          "2023-06-23T00:00:00.000000000",
          "2023-06-26T00:00:00.000000000",
          "2023-06-27T00:00:00.000000000",
          "2023-06-28T00:00:00.000000000",
          "2023-06-29T00:00:00.000000000",
          "2023-06-30T00:00:00.000000000",
          "2023-07-03T00:00:00.000000000",
          "2023-07-05T00:00:00.000000000",
          "2023-07-06T00:00:00.000000000",
          "2023-07-07T00:00:00.000000000",
          "2023-07-10T00:00:00.000000000",
          "2023-07-11T00:00:00.000000000",
          "2023-07-12T00:00:00.000000000",
          "2023-07-13T00:00:00.000000000",
          "2023-07-14T00:00:00.000000000",
          "2023-07-17T00:00:00.000000000",
          "2023-07-18T00:00:00.000000000",
          "2023-07-19T00:00:00.000000000",
          "2023-07-20T00:00:00.000000000",
          "2023-07-21T00:00:00.000000000",
          "2023-07-24T00:00:00.000000000",
          "2023-07-25T00:00:00.000000000",
          "2023-07-26T00:00:00.000000000",
          "2023-07-27T00:00:00.000000000",
          "2023-07-28T00:00:00.000000000",
          "2023-07-31T00:00:00.000000000",
          "2023-08-01T00:00:00.000000000",
          "2023-08-02T00:00:00.000000000",
          "2023-08-03T00:00:00.000000000",
          "2023-08-04T00:00:00.000000000",
          "2023-08-07T00:00:00.000000000",
          "2023-08-08T00:00:00.000000000",
          "2023-08-09T00:00:00.000000000",
          "2023-08-10T00:00:00.000000000",
          "2023-08-11T00:00:00.000000000",
          "2023-08-14T00:00:00.000000000",
          "2023-08-15T00:00:00.000000000",
          "2023-08-16T00:00:00.000000000",
          "2023-08-17T00:00:00.000000000",
          "2023-08-18T00:00:00.000000000",
          "2023-08-21T00:00:00.000000000",
          "2023-08-22T00:00:00.000000000",
          "2023-08-23T00:00:00.000000000",
          "2023-08-24T00:00:00.000000000",
          "2023-08-25T00:00:00.000000000",
          "2023-08-28T00:00:00.000000000",
          "2023-08-29T00:00:00.000000000",
          "2023-08-30T00:00:00.000000000",
          "2023-08-31T00:00:00.000000000",
          "2023-09-01T00:00:00.000000000",
          "2023-09-05T00:00:00.000000000",
          "2023-09-06T00:00:00.000000000",
          "2023-09-07T00:00:00.000000000",
          "2023-09-08T00:00:00.000000000",
          "2023-09-11T00:00:00.000000000",
          "2023-09-12T00:00:00.000000000",
          "2023-09-13T00:00:00.000000000",
          "2023-09-14T00:00:00.000000000",
          "2023-09-15T00:00:00.000000000",
          "2023-09-18T00:00:00.000000000",
          "2023-09-19T00:00:00.000000000",
          "2023-09-20T00:00:00.000000000",
          "2023-09-21T00:00:00.000000000",
          "2023-09-22T00:00:00.000000000",
          "2023-09-25T00:00:00.000000000",
          "2023-09-26T00:00:00.000000000",
          "2023-09-27T00:00:00.000000000",
          "2023-09-28T00:00:00.000000000",
          "2023-09-29T00:00:00.000000000",
          "2023-10-02T00:00:00.000000000",
          "2023-10-03T00:00:00.000000000",
          "2023-10-04T00:00:00.000000000",
          "2023-10-05T00:00:00.000000000",
          "2023-10-06T00:00:00.000000000",
          "2023-10-09T00:00:00.000000000",
          "2023-10-10T00:00:00.000000000",
          "2023-10-11T00:00:00.000000000",
          "2023-10-12T00:00:00.000000000",
          "2023-10-13T00:00:00.000000000",
          "2023-10-16T00:00:00.000000000",
          "2023-10-17T00:00:00.000000000",
          "2023-10-18T00:00:00.000000000",
          "2023-10-19T00:00:00.000000000",
          "2023-10-20T00:00:00.000000000",
          "2023-10-23T00:00:00.000000000",
          "2023-10-24T00:00:00.000000000",
          "2023-10-25T00:00:00.000000000",
          "2023-10-26T00:00:00.000000000",
          "2023-10-27T00:00:00.000000000",
          "2023-10-30T00:00:00.000000000",
          "2023-10-31T00:00:00.000000000",
          "2023-11-01T00:00:00.000000000",
          "2023-11-02T00:00:00.000000000",
          "2023-11-03T00:00:00.000000000",
          "2023-11-06T00:00:00.000000000",
          "2023-11-07T00:00:00.000000000",
          "2023-11-08T00:00:00.000000000",
          "2023-11-09T00:00:00.000000000",
          "2023-11-10T00:00:00.000000000",
          "2023-11-13T00:00:00.000000000",
          "2023-11-14T00:00:00.000000000",
          "2023-11-15T00:00:00.000000000",
          "2023-11-16T00:00:00.000000000",
          "2023-11-17T00:00:00.000000000",
          "2023-11-20T00:00:00.000000000",
          "2023-11-21T00:00:00.000000000",
          "2023-11-22T00:00:00.000000000",
          "2023-11-24T00:00:00.000000000",
          "2023-11-27T00:00:00.000000000",
          "2023-11-28T00:00:00.000000000",
          "2023-11-29T00:00:00.000000000",
          "2023-11-30T00:00:00.000000000",
          "2023-12-01T00:00:00.000000000",
          "2023-12-04T00:00:00.000000000",
          "2023-12-05T00:00:00.000000000",
          "2023-12-06T00:00:00.000000000",
          "2023-12-07T00:00:00.000000000",
          "2023-12-08T00:00:00.000000000",
          "2023-12-11T00:00:00.000000000",
          "2023-12-12T00:00:00.000000000",
          "2023-12-13T00:00:00.000000000",
          "2023-12-14T00:00:00.000000000",
          "2023-12-15T00:00:00.000000000",
          "2023-12-18T00:00:00.000000000",
          "2023-12-19T00:00:00.000000000",
          "2023-12-20T00:00:00.000000000",
          "2023-12-21T00:00:00.000000000",
          "2023-12-22T00:00:00.000000000",
          "2023-12-26T00:00:00.000000000",
          "2023-12-27T00:00:00.000000000",
          "2023-12-28T00:00:00.000000000",
          "2023-12-29T00:00:00.000000000",
          "2024-01-02T00:00:00.000000000",
          "2024-01-03T00:00:00.000000000",
          "2024-01-04T00:00:00.000000000",
          "2024-01-05T00:00:00.000000000",
          "2024-01-08T00:00:00.000000000",
          "2024-01-09T00:00:00.000000000",
          "2024-01-10T00:00:00.000000000",
          "2024-01-11T00:00:00.000000000",
          "2024-01-12T00:00:00.000000000",
          "2024-01-16T00:00:00.000000000",
          "2024-01-17T00:00:00.000000000",
          "2024-01-18T00:00:00.000000000",
          "2024-01-19T00:00:00.000000000",
          "2024-01-22T00:00:00.000000000",
          "2024-01-23T00:00:00.000000000",
          "2024-01-24T00:00:00.000000000",
          "2024-01-25T00:00:00.000000000",
          "2024-01-26T00:00:00.000000000",
          "2024-01-29T00:00:00.000000000",
          "2024-01-30T00:00:00.000000000",
          "2024-01-31T00:00:00.000000000",
          "2024-02-01T00:00:00.000000000",
          "2024-02-02T00:00:00.000000000",
          "2024-02-05T00:00:00.000000000",
          "2024-02-06T00:00:00.000000000",
          "2024-02-07T00:00:00.000000000",
          "2024-02-08T00:00:00.000000000",
          "2024-02-09T00:00:00.000000000",
          "2024-02-12T00:00:00.000000000",
          "2024-02-13T00:00:00.000000000",
          "2024-02-14T00:00:00.000000000",
          "2024-02-15T00:00:00.000000000",
          "2024-02-16T00:00:00.000000000",
          "2024-02-20T00:00:00.000000000",
          "2024-02-21T00:00:00.000000000",
          "2024-02-22T00:00:00.000000000",
          "2024-02-23T00:00:00.000000000",
          "2024-02-26T00:00:00.000000000",
          "2024-02-27T00:00:00.000000000",
          "2024-02-28T00:00:00.000000000",
          "2024-02-29T00:00:00.000000000",
          "2024-03-01T00:00:00.000000000",
          "2024-03-04T00:00:00.000000000",
          "2024-03-05T00:00:00.000000000",
          "2024-03-06T00:00:00.000000000",
          "2024-03-07T00:00:00.000000000",
          "2024-03-08T00:00:00.000000000",
          "2024-03-11T00:00:00.000000000",
          "2024-03-12T00:00:00.000000000",
          "2024-03-13T00:00:00.000000000",
          "2024-03-14T00:00:00.000000000",
          "2024-03-15T00:00:00.000000000",
          "2024-03-18T00:00:00.000000000",
          "2024-03-19T00:00:00.000000000",
          "2024-03-20T00:00:00.000000000",
          "2024-03-21T00:00:00.000000000",
          "2024-03-22T00:00:00.000000000",
          "2024-03-25T00:00:00.000000000",
          "2024-03-26T00:00:00.000000000",
          "2024-03-27T00:00:00.000000000",
          "2024-03-28T00:00:00.000000000",
          "2024-04-01T00:00:00.000000000",
          "2024-04-02T00:00:00.000000000",
          "2024-04-03T00:00:00.000000000",
          "2024-04-04T00:00:00.000000000",
          "2024-04-05T00:00:00.000000000",
          "2024-04-08T00:00:00.000000000",
          "2024-04-09T00:00:00.000000000",
          "2024-04-10T00:00:00.000000000",
          "2024-04-11T00:00:00.000000000",
          "2024-04-12T00:00:00.000000000",
          "2024-04-15T00:00:00.000000000",
          "2024-04-16T00:00:00.000000000",
          "2024-04-17T00:00:00.000000000",
          "2024-04-18T00:00:00.000000000",
          "2024-04-19T00:00:00.000000000",
          "2024-04-22T00:00:00.000000000",
          "2024-04-23T00:00:00.000000000",
          "2024-04-24T00:00:00.000000000",
          "2024-04-25T00:00:00.000000000",
          "2024-04-26T00:00:00.000000000",
          "2024-04-29T00:00:00.000000000",
          "2024-04-30T00:00:00.000000000",
          "2024-05-01T00:00:00.000000000",
          "2024-05-02T00:00:00.000000000",
          "2024-05-03T00:00:00.000000000",
          "2024-05-06T00:00:00.000000000",
          "2024-05-07T00:00:00.000000000",
          "2024-05-08T00:00:00.000000000",
          "2024-05-09T00:00:00.000000000",
          "2024-05-10T00:00:00.000000000",
          "2024-05-13T00:00:00.000000000",
          "2024-05-14T00:00:00.000000000",
          "2024-05-15T00:00:00.000000000",
          "2024-05-16T00:00:00.000000000",
          "2024-05-17T00:00:00.000000000",
          "2024-05-20T00:00:00.000000000",
          "2024-05-21T00:00:00.000000000",
          "2024-05-22T00:00:00.000000000",
          "2024-05-23T00:00:00.000000000",
          "2024-05-24T00:00:00.000000000",
          "2024-05-28T00:00:00.000000000",
          "2024-05-29T00:00:00.000000000",
          "2024-05-30T00:00:00.000000000",
          "2024-05-31T00:00:00.000000000",
          "2024-06-03T00:00:00.000000000",
          "2024-06-04T00:00:00.000000000",
          "2024-06-05T00:00:00.000000000",
          "2024-06-06T00:00:00.000000000",
          "2024-06-07T00:00:00.000000000",
          "2024-06-10T00:00:00.000000000",
          "2024-06-11T00:00:00.000000000",
          "2024-06-12T00:00:00.000000000",
          "2024-06-13T00:00:00.000000000",
          "2024-06-14T00:00:00.000000000",
          "2024-06-17T00:00:00.000000000",
          "2024-06-18T00:00:00.000000000",
          "2024-06-20T00:00:00.000000000",
          "2024-06-21T00:00:00.000000000",
          "2024-06-24T00:00:00.000000000",
          "2024-06-25T00:00:00.000000000",
          "2024-06-26T00:00:00.000000000",
          "2024-06-27T00:00:00.000000000",
          "2024-06-28T00:00:00.000000000",
          "2024-07-01T00:00:00.000000000",
          "2024-07-02T00:00:00.000000000",
          "2024-07-03T00:00:00.000000000",
          "2024-07-05T00:00:00.000000000",
          "2024-07-08T00:00:00.000000000",
          "2024-07-09T00:00:00.000000000",
          "2024-07-10T00:00:00.000000000",
          "2024-07-11T00:00:00.000000000",
          "2024-07-12T00:00:00.000000000",
          "2024-07-15T00:00:00.000000000",
          "2024-07-16T00:00:00.000000000",
          "2024-07-17T00:00:00.000000000",
          "2024-07-18T00:00:00.000000000",
          "2024-07-19T00:00:00.000000000",
          "2024-07-22T00:00:00.000000000",
          "2024-07-23T00:00:00.000000000",
          "2024-07-24T00:00:00.000000000",
          "2024-07-25T00:00:00.000000000",
          "2024-07-26T00:00:00.000000000",
          "2024-07-29T00:00:00.000000000",
          "2024-07-30T00:00:00.000000000",
          "2024-07-31T00:00:00.000000000",
          "2024-08-01T00:00:00.000000000",
          "2024-08-02T00:00:00.000000000",
          "2024-08-05T00:00:00.000000000",
          "2024-08-06T00:00:00.000000000",
          "2024-08-07T00:00:00.000000000",
          "2024-08-08T00:00:00.000000000",
          "2024-08-09T00:00:00.000000000",
          "2024-08-12T00:00:00.000000000",
          "2024-08-13T00:00:00.000000000",
          "2024-08-14T00:00:00.000000000",
          "2024-08-15T00:00:00.000000000",
          "2024-08-16T00:00:00.000000000",
          "2024-08-19T00:00:00.000000000",
          "2024-08-20T00:00:00.000000000",
          "2024-08-21T00:00:00.000000000",
          "2024-08-22T00:00:00.000000000",
          "2024-08-23T00:00:00.000000000",
          "2024-08-26T00:00:00.000000000",
          "2024-08-27T00:00:00.000000000",
          "2024-08-28T00:00:00.000000000",
          "2024-08-29T00:00:00.000000000",
          "2024-08-30T00:00:00.000000000",
          "2024-09-03T00:00:00.000000000",
          "2024-09-04T00:00:00.000000000",
          "2024-09-05T00:00:00.000000000",
          "2024-09-06T00:00:00.000000000",
          "2024-09-09T00:00:00.000000000",
          "2024-09-10T00:00:00.000000000",
          "2024-09-11T00:00:00.000000000",
          "2024-09-12T00:00:00.000000000",
          "2024-09-13T00:00:00.000000000",
          "2024-09-16T00:00:00.000000000",
          "2024-09-17T00:00:00.000000000",
          "2024-09-18T00:00:00.000000000",
          "2024-09-19T00:00:00.000000000",
          "2024-09-20T00:00:00.000000000",
          "2024-09-23T00:00:00.000000000",
          "2024-09-24T00:00:00.000000000",
          "2024-09-25T00:00:00.000000000",
          "2024-09-26T00:00:00.000000000",
          "2024-09-27T00:00:00.000000000",
          "2024-09-30T00:00:00.000000000",
          "2024-10-01T00:00:00.000000000",
          "2024-10-02T00:00:00.000000000",
          "2024-10-03T00:00:00.000000000",
          "2024-10-04T00:00:00.000000000",
          "2024-10-07T00:00:00.000000000",
          "2024-10-08T00:00:00.000000000",
          "2024-10-09T00:00:00.000000000",
          "2024-10-10T00:00:00.000000000",
          "2024-10-11T00:00:00.000000000",
          "2024-10-14T00:00:00.000000000",
          "2024-10-15T00:00:00.000000000",
          "2024-10-16T00:00:00.000000000",
          "2024-10-17T00:00:00.000000000",
          "2024-10-18T00:00:00.000000000",
          "2024-10-21T00:00:00.000000000",
          "2024-10-22T00:00:00.000000000",
          "2024-10-23T00:00:00.000000000",
          "2024-10-24T00:00:00.000000000",
          "2024-10-25T00:00:00.000000000",
          "2024-10-28T00:00:00.000000000",
          "2024-10-29T00:00:00.000000000",
          "2024-10-30T00:00:00.000000000",
          "2024-10-31T00:00:00.000000000",
          "2024-11-01T00:00:00.000000000",
          "2024-11-04T00:00:00.000000000",
          "2024-11-05T00:00:00.000000000",
          "2024-11-06T00:00:00.000000000",
          "2024-11-07T00:00:00.000000000",
          "2024-11-08T00:00:00.000000000",
          "2024-11-11T00:00:00.000000000",
          "2024-11-12T00:00:00.000000000",
          "2024-11-13T00:00:00.000000000",
          "2024-11-14T00:00:00.000000000",
          "2024-11-15T00:00:00.000000000",
          "2024-11-18T00:00:00.000000000",
          "2024-11-19T00:00:00.000000000",
          "2024-11-20T00:00:00.000000000",
          "2024-11-21T00:00:00.000000000",
          "2024-11-22T00:00:00.000000000",
          "2024-11-25T00:00:00.000000000",
          "2024-11-26T00:00:00.000000000",
          "2024-11-27T00:00:00.000000000",
          "2024-11-29T00:00:00.000000000",
          "2024-12-02T00:00:00.000000000",
          "2024-12-03T00:00:00.000000000",
          "2024-12-04T00:00:00.000000000",
          "2024-12-05T00:00:00.000000000",
          "2024-12-06T00:00:00.000000000",
          "2024-12-09T00:00:00.000000000",
          "2024-12-10T00:00:00.000000000",
          "2024-12-11T00:00:00.000000000",
          "2024-12-12T00:00:00.000000000",
          "2024-12-13T00:00:00.000000000",
          "2024-12-16T00:00:00.000000000",
          "2024-12-17T00:00:00.000000000",
          "2024-12-18T00:00:00.000000000",
          "2024-12-19T00:00:00.000000000",
          "2024-12-20T00:00:00.000000000",
          "2024-12-23T00:00:00.000000000",
          "2024-12-24T00:00:00.000000000",
          "2024-12-26T00:00:00.000000000",
          "2024-12-27T00:00:00.000000000",
          "2024-12-30T00:00:00.000000000",
          "2024-12-31T00:00:00.000000000"
         ],
         "y": {
          "bdata": "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",
          "dtype": "f8"
         }
        }
       ],
       "layout": {
        "hovermode": "x unified",
        "template": {
         "data": {
          "bar": [
           {
            "error_x": {
             "color": "#2a3f5f"
            },
            "error_y": {
             "color": "#2a3f5f"
            },
            "marker": {
             "line": {
              "color": "white",
              "width": 0.5
             },
             "pattern": {
              "fillmode": "overlay",
              "size": 10,
              "solidity": 0.2
             }
            },
            "type": "bar"
           }
          ],
          "barpolar": [
           {
            "marker": {
             "line": {
              "color": "white",
              "width": 0.5
             },
             "pattern": {
              "fillmode": "overlay",
              "size": 10,
              "solidity": 0.2
             }
            },
            "type": "barpolar"
           }
          ],
          "carpet": [
           {
            "aaxis": {
             "endlinecolor": "#2a3f5f",
             "gridcolor": "#C8D4E3",
             "linecolor": "#C8D4E3",
             "minorgridcolor": "#C8D4E3",
             "startlinecolor": "#2a3f5f"
            },
            "baxis": {
             "endlinecolor": "#2a3f5f",
             "gridcolor": "#C8D4E3",
             "linecolor": "#C8D4E3",
             "minorgridcolor": "#C8D4E3",
             "startlinecolor": "#2a3f5f"
            },
            "type": "carpet"
           }
          ],
          "choropleth": [
           {
            "colorbar": {
             "outlinewidth": 0,
             "ticks": ""
            },
            "type": "choropleth"
           }
          ],
          "contour": [
           {
            "colorbar": {
             "outlinewidth": 0,
             "ticks": ""
            },
            "colorscale": [
             [
              0,
              "#0d0887"
             ],
             [
              0.1111111111111111,
              "#46039f"
             ],
             [
              0.2222222222222222,
              "#7201a8"
             ],
             [
              0.3333333333333333,
              "#9c179e"
             ],
             [
              0.4444444444444444,
              "#bd3786"
             ],
             [
              0.5555555555555556,
              "#d8576b"
             ],
             [
              0.6666666666666666,
              "#ed7953"
             ],
             [
              0.7777777777777778,
              "#fb9f3a"
             ],
             [
              0.8888888888888888,
              "#fdca26"
             ],
             [
              1,
              "#f0f921"
             ]
            ],
            "type": "contour"
           }
          ],
          "contourcarpet": [
           {
            "colorbar": {
             "outlinewidth": 0,
             "ticks": ""
            },
            "type": "contourcarpet"
           }
          ],
          "heatmap": [
           {
            "colorbar": {
             "outlinewidth": 0,
             "ticks": ""
            },
            "colorscale": [
             [
              0,
              "#0d0887"
             ],
             [
              0.1111111111111111,
              "#46039f"
             ],
             [
              0.2222222222222222,
              "#7201a8"
             ],
             [
              0.3333333333333333,
              "#9c179e"
             ],
             [
              0.4444444444444444,
              "#bd3786"
             ],
             [
              0.5555555555555556,
              "#d8576b"
             ],
             [
              0.6666666666666666,
              "#ed7953"
             ],
             [
              0.7777777777777778,
              "#fb9f3a"
             ],
             [
              0.8888888888888888,
              "#fdca26"
             ],
             [
              1,
              "#f0f921"
             ]
            ],
            "type": "heatmap"
           }
          ],
          "histogram": [
           {
            "marker": {
             "pattern": {
              "fillmode": "overlay",
              "size": 10,
              "solidity": 0.2
             }
            },
            "type": "histogram"
           }
          ],
          "histogram2d": [
           {
            "colorbar": {
             "outlinewidth": 0,
             "ticks": ""
            },
            "colorscale": [
             [
              0,
              "#0d0887"
             ],
             [
              0.1111111111111111,
              "#46039f"
             ],
             [
              0.2222222222222222,
              "#7201a8"
             ],
             [
              0.3333333333333333,
              "#9c179e"
             ],
             [
              0.4444444444444444,
              "#bd3786"
             ],
             [
              0.5555555555555556,
              "#d8576b"
             ],
             [
              0.6666666666666666,
              "#ed7953"
             ],
             [
              0.7777777777777778,
              "#fb9f3a"
             ],
             [
              0.8888888888888888,
              "#fdca26"
             ],
             [
              1,
              "#f0f921"
             ]
            ],
            "type": "histogram2d"
           }
          ],
          "histogram2dcontour": [
           {
            "colorbar": {
             "outlinewidth": 0,
             "ticks": ""
            },
            "colorscale": [
             [
              0,
              "#0d0887"
             ],
             [
              0.1111111111111111,
              "#46039f"
             ],
             [
              0.2222222222222222,
              "#7201a8"
             ],
             [
              0.3333333333333333,
              "#9c179e"
             ],
             [
              0.4444444444444444,
              "#bd3786"
             ],
             [
              0.5555555555555556,
              "#d8576b"
             ],
             [
              0.6666666666666666,
              "#ed7953"
             ],
             [
              0.7777777777777778,
              "#fb9f3a"
             ],
             [
              0.8888888888888888,
              "#fdca26"
             ],
             [
              1,
              "#f0f921"
             ]
            ],
            "type": "histogram2dcontour"
           }
          ],
          "mesh3d": [
           {
            "colorbar": {
             "outlinewidth": 0,
             "ticks": ""
            },
            "type": "mesh3d"
           }
          ],
          "parcoords": [
           {
            "line": {
             "colorbar": {
              "outlinewidth": 0,
              "ticks": ""
             }
            },
            "type": "parcoords"
           }
          ],
          "pie": [
           {
            "automargin": true,
            "type": "pie"
           }
          ],
          "scatter": [
           {
            "fillpattern": {
             "fillmode": "overlay",
             "size": 10,
             "solidity": 0.2
            },
            "type": "scatter"
           }
          ],
          "scatter3d": [
           {
            "line": {
             "colorbar": {
              "outlinewidth": 0,
              "ticks": ""
             }
            },
            "marker": {
             "colorbar": {
              "outlinewidth": 0,
              "ticks": ""
             }
            },
            "type": "scatter3d"
           }
          ],
          "scattercarpet": [
           {
            "marker": {
             "colorbar": {
              "outlinewidth": 0,
              "ticks": ""
             }
            },
            "type": "scattercarpet"
           }
          ],
          "scattergeo": [
           {
            "marker": {
             "colorbar": {
              "outlinewidth": 0,
              "ticks": ""
             }
            },
            "type": "scattergeo"
           }
          ],
          "scattergl": [
           {
            "marker": {
             "colorbar": {
              "outlinewidth": 0,
              "ticks": ""
             }
            },
            "type": "scattergl"
           }
          ],
          "scattermap": [
           {
            "marker": {
             "colorbar": {
              "outlinewidth": 0,
              "ticks": ""
             }
            },
            "type": "scattermap"
           }
          ],
          "scattermapbox": [
           {
            "marker": {
             "colorbar": {
              "outlinewidth": 0,
              "ticks": ""
             }
            },
            "type": "scattermapbox"
           }
          ],
          "scatterpolar": [
           {
            "marker": {
             "colorbar": {
              "outlinewidth": 0,
              "ticks": ""
             }
            },
            "type": "scatterpolar"
           }
          ],
          "scatterpolargl": [
           {
            "marker": {
             "colorbar": {
              "outlinewidth": 0,
              "ticks": ""
             }
            },
            "type": "scatterpolargl"
           }
          ],
          "scatterternary": [
           {
            "marker": {
             "colorbar": {
              "outlinewidth": 0,
              "ticks": ""
             }
            },
            "type": "scatterternary"
           }
          ],
          "surface": [
           {
            "colorbar": {
             "outlinewidth": 0,
             "ticks": ""
            },
            "colorscale": [
             [
              0,
              "#0d0887"
             ],
             [
              0.1111111111111111,
              "#46039f"
             ],
             [
              0.2222222222222222,
              "#7201a8"
             ],
             [
              0.3333333333333333,
              "#9c179e"
             ],
             [
              0.4444444444444444,
              "#bd3786"
             ],
             [
              0.5555555555555556,
              "#d8576b"
             ],
             [
              0.6666666666666666,
              "#ed7953"
             ],
             [
              0.7777777777777778,
              "#fb9f3a"
             ],
             [
              0.8888888888888888,
              "#fdca26"
             ],
             [
              1,
              "#f0f921"
             ]
            ],
            "type": "surface"
           }
          ],
          "table": [
           {
            "cells": {
             "fill": {
              "color": "#EBF0F8"
             },
             "line": {
              "color": "white"
             }
            },
            "header": {
             "fill": {
              "color": "#C8D4E3"
             },
             "line": {
              "color": "white"
             }
            },
            "type": "table"
           }
          ]
         },
         "layout": {
          "annotationdefaults": {
           "arrowcolor": "#2a3f5f",
           "arrowhead": 0,
           "arrowwidth": 1
          },
          "autotypenumbers": "strict",
          "coloraxis": {
           "colorbar": {
            "outlinewidth": 0,
            "ticks": ""
           }
          },
          "colorscale": {
           "diverging": [
            [
             0,
             "#8e0152"
            ],
            [
             0.1,
             "#c51b7d"
            ],
            [
             0.2,
             "#de77ae"
            ],
            [
             0.3,
             "#f1b6da"
            ],
            [
             0.4,
             "#fde0ef"
            ],
            [
             0.5,
             "#f7f7f7"
            ],
            [
             0.6,
             "#e6f5d0"
            ],
            [
             0.7,
             "#b8e186"
            ],
            [
             0.8,
             "#7fbc41"
            ],
            [
             0.9,
             "#4d9221"
            ],
            [
             1,
             "#276419"
            ]
           ],
           "sequential": [
            [
             0,
             "#0d0887"
            ],
            [
             0.1111111111111111,
             "#46039f"
            ],
            [
             0.2222222222222222,
             "#7201a8"
            ],
            [
             0.3333333333333333,
             "#9c179e"
            ],
            [
             0.4444444444444444,
             "#bd3786"
            ],
            [
             0.5555555555555556,
             "#d8576b"
            ],
            [
             0.6666666666666666,
             "#ed7953"
            ],
            [
             0.7777777777777778,
             "#fb9f3a"
            ],
            [
             0.8888888888888888,
             "#fdca26"
            ],
            [
             1,
             "#f0f921"
            ]
           ],
           "sequentialminus": [
            [
             0,
             "#0d0887"
            ],
            [
             0.1111111111111111,
             "#46039f"
            ],
            [
             0.2222222222222222,
             "#7201a8"
            ],
            [
             0.3333333333333333,
             "#9c179e"
            ],
            [
             0.4444444444444444,
             "#bd3786"
            ],
            [
             0.5555555555555556,
             "#d8576b"
            ],
            [
             0.6666666666666666,
             "#ed7953"
            ],
            [
             0.7777777777777778,
             "#fb9f3a"
            ],
            [
             0.8888888888888888,
             "#fdca26"
            ],
            [
             1,
             "#f0f921"
            ]
           ]
          },
          "colorway": [
           "#636efa",
           "#EF553B",
           "#00cc96",
           "#ab63fa",
           "#FFA15A",
           "#19d3f3",
           "#FF6692",
           "#B6E880",
           "#FF97FF",
           "#FECB52"
          ],
          "font": {
           "color": "#2a3f5f"
          },
          "geo": {
           "bgcolor": "white",
           "lakecolor": "white",
           "landcolor": "white",
           "showlakes": true,
           "showland": true,
           "subunitcolor": "#C8D4E3"
          },
          "hoverlabel": {
           "align": "left"
          },
          "hovermode": "closest",
          "mapbox": {
           "style": "light"
          },
          "paper_bgcolor": "white",
          "plot_bgcolor": "white",
          "polar": {
           "angularaxis": {
            "gridcolor": "#EBF0F8",
            "linecolor": "#EBF0F8",
            "ticks": ""
           },
           "bgcolor": "white",
           "radialaxis": {
            "gridcolor": "#EBF0F8",
            "linecolor": "#EBF0F8",
            "ticks": ""
           }
          },
          "scene": {
           "xaxis": {
            "backgroundcolor": "white",
            "gridcolor": "#DFE8F3",
            "gridwidth": 2,
            "linecolor": "#EBF0F8",
            "showbackground": true,
            "ticks": "",
            "zerolinecolor": "#EBF0F8"
           },
           "yaxis": {
            "backgroundcolor": "white",
            "gridcolor": "#DFE8F3",
            "gridwidth": 2,
            "linecolor": "#EBF0F8",
            "showbackground": true,
            "ticks": "",
            "zerolinecolor": "#EBF0F8"
           },
           "zaxis": {
            "backgroundcolor": "white",
            "gridcolor": "#DFE8F3",
            "gridwidth": 2,
            "linecolor": "#EBF0F8",
            "showbackground": true,
            "ticks": "",
            "zerolinecolor": "#EBF0F8"
           }
          },
          "shapedefaults": {
           "line": {
            "color": "#2a3f5f"
           }
          },
          "ternary": {
           "aaxis": {
            "gridcolor": "#DFE8F3",
            "linecolor": "#A2B1C6",
            "ticks": ""
           },
           "baxis": {
            "gridcolor": "#DFE8F3",
            "linecolor": "#A2B1C6",
            "ticks": ""
           },
           "bgcolor": "white",
           "caxis": {
            "gridcolor": "#DFE8F3",
            "linecolor": "#A2B1C6",
            "ticks": ""
           }
          },
          "title": {
           "x": 0.05
          },
          "xaxis": {
           "automargin": true,
           "gridcolor": "#EBF0F8",
           "linecolor": "#EBF0F8",
           "ticks": "",
           "title": {
            "standoff": 15
           },
           "zerolinecolor": "#EBF0F8",
           "zerolinewidth": 2
          },
          "yaxis": {
           "automargin": true,
           "gridcolor": "#EBF0F8",
           "linecolor": "#EBF0F8",
           "ticks": "",
           "title": {
            "standoff": 15
           },
           "zerolinecolor": "#EBF0F8",
           "zerolinewidth": 2
          }
         }
        },
        "title": {
         "text": "Evolución temporal de precios OHLC"
        },
        "xaxis": {
         "rangeslider": {
          "visible": true
         },
         "title": {
          "text": "Fecha"
         }
        },
        "yaxis": {
         "title": {
          "text": "Precio de cierre ($)"
         }
        }
       }
      }
     },
     "metadata": {},
     "output_type": "display_data"
    }
   ],
   "source": [
    "# ==================================================\n",
    "# CANDLESTICK CHART — Evolución temporal de precios\n",
    "# ==================================================\n",
    "\n",
    "# Crear figura vacía\n",
    "fig = go.Figure()\n",
    "\n",
    "tickers = df[\"Ticker\"].unique()\n",
    "\n",
    "# Añadir trazas para cada ticker\n",
    "for ticker in tickers:\n",
    "    sub_df = df[df[\"Ticker\"] == ticker]\n",
    "    fig.add_trace(go.Candlestick(\n",
    "        x=sub_df[\"Date\"],\n",
    "        open=sub_df[\"Open\"],\n",
    "        high=sub_df[\"High\"],\n",
    "        low=sub_df[\"Low\"],\n",
    "        close=sub_df[\"Close\"],\n",
    "        name=ticker,\n",
    "        increasing_line_color=\"#00CC96\",  # verde-azul para días alcistas\n",
    "        decreasing_line_color=\"#EF553B\"   # rojo para días bajistas\n",
    "    ))\n",
    "\n",
    "# Media móvil (SMA 20) opcional\n",
    "df[\"SMA20\"] = df.groupby(\"Ticker\")[\"Close\"].transform(lambda x: x.rolling(20).mean())\n",
    "for ticker in tickers:\n",
    "    sub_df = df[df[\"Ticker\"] == ticker]\n",
    "    fig.add_trace(go.Scatter(\n",
    "        x=sub_df[\"Date\"], y=sub_df[\"SMA20\"],\n",
    "        mode=\"lines\", name=f\"SMA 20 - {ticker}\",\n",
    "        line=dict(width=1.5, dash=\"dot\")\n",
    "    ))\n",
    "\n",
    "# Layout con interactividad\n",
    "fig.update_layout(\n",
    "    title=\"Evolución temporal de precios OHLC\",\n",
    "    xaxis_title=\"Fecha\",\n",
    "    yaxis_title=\"Precio de cierre ($)\",\n",
    "    xaxis_rangeslider_visible=True,\n",
    "    template=\"plotly_white\",\n",
    "    hovermode=\"x unified\",\n",
    ")\n",
    "\n",
    "# Mostrar\n",
    "fig.show()\n",
    "\n",
    "# Guardar como HTML (ya lo tienes)\n",
    "fig.write_html(r\"../Visualizaciones/CandleSticks.html\")\n",
    "\n",
    "# Guardar también como PNG\n",
    "fig.write_image(r\"../Visualizaciones/CandleSticks.png\", width=1200, height=600)\n",
    "\n"
   ]
  },
  {
   "cell_type": "markdown",
   "id": "322ed79a",
   "metadata": {},
   "source": [
    "---\n",
    "---"
   ]
  },
  {
   "cell_type": "markdown",
   "id": "8a052399",
   "metadata": {},
   "source": [
    "## TÉCNICA GRUPO III (Menos habituales o específicas): Convex hull  \n",
    "\n",
    "\n",
    "https://www.researchgate.net/publication/4202112_Convex_hull_algorithms_review\n",
    "\n",
    "**Objetivo**: Visualizar la relación entre precios de apertura y cierre con su envolvente convexa."
   ]
  },
  {
   "cell_type": "code",
   "execution_count": null,
   "id": "cbca5b60",
   "metadata": {},
   "outputs": [
    {
     "data": {
      "application/vnd.plotly.v1+json": {
       "config": {
        "plotlyServerURL": "https://plot.ly"
       },
       "data": [
        {
         "hovertemplate": "<b>AAPL</b><br>Fecha: %{text}<br>Open: %{x:.2f}<br>Close: %{y:.2f}",
         "marker": {
          "color": "#1f77b4",
          "size": 6
         },
         "mode": "markers",
         "name": "AAPL",
         "opacity": 0.6,
         "text": [
          "2023-01-03",
          "2023-01-04",
          "2023-01-05",
          "2023-01-06",
          "2023-01-09",
          "2023-01-10",
          "2023-01-11",
          "2023-01-12",
          "2023-01-13",
          "2023-01-17",
          "2023-01-18",
          "2023-01-19",
          "2023-01-20",
          "2023-01-23",
          "2023-01-24",
          "2023-01-25",
          "2023-01-26",
          "2023-01-27",
          "2023-01-30",
          "2023-01-31",
          "2023-02-01",
          "2023-02-02",
          "2023-02-03",
          "2023-02-06",
          "2023-02-07",
          "2023-02-08",
          "2023-02-09",
          "2023-02-10",
          "2023-02-13",
          "2023-02-14",
          "2023-02-15",
          "2023-02-16",
          "2023-02-17",
          "2023-02-21",
          "2023-02-22",
          "2023-02-23",
          "2023-02-24",
          "2023-02-27",
          "2023-02-28",
          "2023-03-01",
          "2023-03-02",
          "2023-03-03",
          "2023-03-06",
          "2023-03-07",
          "2023-03-08",
          "2023-03-09",
          "2023-03-10",
          "2023-03-13",
          "2023-03-14",
          "2023-03-15",
          "2023-03-16",
          "2023-03-17",
          "2023-03-20",
          "2023-03-21",
          "2023-03-22",
          "2023-03-23",
          "2023-03-24",
          "2023-03-27",
          "2023-03-28",
          "2023-03-29",
          "2023-03-30",
          "2023-03-31",
          "2023-04-03",
          "2023-04-04",
          "2023-04-05",
          "2023-04-06",
          "2023-04-10",
          "2023-04-11",
          "2023-04-12",
          "2023-04-13",
          "2023-04-14",
          "2023-04-17",
          "2023-04-18",
          "2023-04-19",
          "2023-04-20",
          "2023-04-21",
          "2023-04-24",
          "2023-04-25",
          "2023-04-26",
          "2023-04-27",
          "2023-04-28",
          "2023-05-01",
          "2023-05-02",
          "2023-05-03",
          "2023-05-04",
          "2023-05-05",
          "2023-05-08",
          "2023-05-09",
          "2023-05-10",
          "2023-05-11",
          "2023-05-12",
          "2023-05-15",
          "2023-05-16",
          "2023-05-17",
          "2023-05-18",
          "2023-05-19",
          "2023-05-22",
          "2023-05-23",
          "2023-05-24",
          "2023-05-25",
          "2023-05-26",
          "2023-05-30",
          "2023-05-31",
          "2023-06-01",
          "2023-06-02",
          "2023-06-05",
          "2023-06-06",
          "2023-06-07",
          "2023-06-08",
          "2023-06-09",
          "2023-06-12",
          "2023-06-13",
          "2023-06-14",
          "2023-06-15",
          "2023-06-16",
          "2023-06-20",
          "2023-06-21",
          "2023-06-22",
          "2023-06-23",
          "2023-06-26",
          "2023-06-27",
          "2023-06-28",
          "2023-06-29",
          "2023-06-30",
          "2023-07-03",
          "2023-07-05",
          "2023-07-06",
          "2023-07-07",
          "2023-07-10",
          "2023-07-11",
          "2023-07-12",
          "2023-07-13",
          "2023-07-14",
          "2023-07-17",
          "2023-07-18",
          "2023-07-19",
          "2023-07-20",
          "2023-07-21",
          "2023-07-24",
          "2023-07-25",
          "2023-07-26",
          "2023-07-27",
          "2023-07-28",
          "2023-07-31",
          "2023-08-01",
          "2023-08-02",
          "2023-08-03",
          "2023-08-04",
          "2023-08-07",
          "2023-08-08",
          "2023-08-09",
          "2023-08-10",
          "2023-08-11",
          "2023-08-14",
          "2023-08-15",
          "2023-08-16",
          "2023-08-17",
          "2023-08-18",
          "2023-08-21",
          "2023-08-22",
          "2023-08-23",
          "2023-08-24",
          "2023-08-25",
          "2023-08-28",
          "2023-08-29",
          "2023-08-30",
          "2023-08-31",
          "2023-09-01",
          "2023-09-05",
          "2023-09-06",
          "2023-09-07",
          "2023-09-08",
          "2023-09-11",
          "2023-09-12",
          "2023-09-13",
          "2023-09-14",
          "2023-09-15",
          "2023-09-18",
          "2023-09-19",
          "2023-09-20",
          "2023-09-21",
          "2023-09-22",
          "2023-09-25",
          "2023-09-26",
          "2023-09-27",
          "2023-09-28",
          "2023-09-29",
          "2023-10-02",
          "2023-10-03",
          "2023-10-04",
          "2023-10-05",
          "2023-10-06",
          "2023-10-09",
          "2023-10-10",
          "2023-10-11",
          "2023-10-12",
          "2023-10-13",
          "2023-10-16",
          "2023-10-17",
          "2023-10-18",
          "2023-10-19",
          "2023-10-20",
          "2023-10-23",
          "2023-10-24",
          "2023-10-25",
          "2023-10-26",
          "2023-10-27",
          "2023-10-30",
          "2023-10-31",
          "2023-11-01",
          "2023-11-02",
          "2023-11-03",
          "2023-11-06",
          "2023-11-07",
          "2023-11-08",
          "2023-11-09",
          "2023-11-10",
          "2023-11-13",
          "2023-11-14",
          "2023-11-15",
          "2023-11-16",
          "2023-11-17",
          "2023-11-20",
          "2023-11-21",
          "2023-11-22",
          "2023-11-24",
          "2023-11-27",
          "2023-11-28",
          "2023-11-29",
          "2023-11-30",
          "2023-12-01",
          "2023-12-04",
          "2023-12-05",
          "2023-12-06",
          "2023-12-07",
          "2023-12-08",
          "2023-12-11",
          "2023-12-12",
          "2023-12-13",
          "2023-12-14",
          "2023-12-15",
          "2023-12-18",
          "2023-12-19",
          "2023-12-20",
          "2023-12-21",
          "2023-12-22",
          "2023-12-26",
          "2023-12-27",
          "2023-12-28",
          "2023-12-29",
          "2024-01-02",
          "2024-01-03",
          "2024-01-04",
          "2024-01-05",
          "2024-01-08",
          "2024-01-09",
          "2024-01-10",
          "2024-01-11",
          "2024-01-12",
          "2024-01-16",
          "2024-01-17",
          "2024-01-18",
          "2024-01-19",
          "2024-01-22",
          "2024-01-23",
          "2024-01-24",
          "2024-01-25",
          "2024-01-26",
          "2024-01-29",
          "2024-01-30",
          "2024-01-31",
          "2024-02-01",
          "2024-02-02",
          "2024-02-05",
          "2024-02-06",
          "2024-02-07",
          "2024-02-08",
          "2024-02-09",
          "2024-02-12",
          "2024-02-13",
          "2024-02-14",
          "2024-02-15",
          "2024-02-16",
          "2024-02-20",
          "2024-02-21",
          "2024-02-22",
          "2024-02-23",
          "2024-02-26",
          "2024-02-27",
          "2024-02-28",
          "2024-02-29",
          "2024-03-01",
          "2024-03-04",
          "2024-03-05",
          "2024-03-06",
          "2024-03-07",
          "2024-03-08",
          "2024-03-11",
          "2024-03-12",
          "2024-03-13",
          "2024-03-14",
          "2024-03-15",
          "2024-03-18",
          "2024-03-19",
          "2024-03-20",
          "2024-03-21",
          "2024-03-22",
          "2024-03-25",
          "2024-03-26",
          "2024-03-27",
          "2024-03-28",
          "2024-04-01",
          "2024-04-02",
          "2024-04-03",
          "2024-04-04",
          "2024-04-05",
          "2024-04-08",
          "2024-04-09",
          "2024-04-10",
          "2024-04-11",
          "2024-04-12",
          "2024-04-15",
          "2024-04-16",
          "2024-04-17",
          "2024-04-18",
          "2024-04-19",
          "2024-04-22",
          "2024-04-23",
          "2024-04-24",
          "2024-04-25",
          "2024-04-26",
          "2024-04-29",
          "2024-04-30",
          "2024-05-01",
          "2024-05-02",
          "2024-05-03",
          "2024-05-06",
          "2024-05-07",
          "2024-05-08",
          "2024-05-09",
          "2024-05-10",
          "2024-05-13",
          "2024-05-14",
          "2024-05-15",
          "2024-05-16",
          "2024-05-17",
          "2024-05-20",
          "2024-05-21",
          "2024-05-22",
          "2024-05-23",
          "2024-05-24",
          "2024-05-28",
          "2024-05-29",
          "2024-05-30",
          "2024-05-31",
          "2024-06-03",
          "2024-06-04",
          "2024-06-05",
          "2024-06-06",
          "2024-06-07",
          "2024-06-10",
          "2024-06-11",
          "2024-06-12",
          "2024-06-13",
          "2024-06-14",
          "2024-06-17",
          "2024-06-18",
          "2024-06-20",
          "2024-06-21",
          "2024-06-24",
          "2024-06-25",
          "2024-06-26",
          "2024-06-27",
          "2024-06-28",
          "2024-07-01",
          "2024-07-02",
          "2024-07-03",
          "2024-07-05",
          "2024-07-08",
          "2024-07-09",
          "2024-07-10",
          "2024-07-11",
          "2024-07-12",
          "2024-07-15",
          "2024-07-16",
          "2024-07-17",
          "2024-07-18",
          "2024-07-19",
          "2024-07-22",
          "2024-07-23",
          "2024-07-24",
          "2024-07-25",
          "2024-07-26",
          "2024-07-29",
          "2024-07-30",
          "2024-07-31",
          "2024-08-01",
          "2024-08-02",
          "2024-08-05",
          "2024-08-06",
          "2024-08-07",
          "2024-08-08",
          "2024-08-09",
          "2024-08-12",
          "2024-08-13",
          "2024-08-14",
          "2024-08-15",
          "2024-08-16",
          "2024-08-19",
          "2024-08-20",
          "2024-08-21",
          "2024-08-22",
          "2024-08-23",
          "2024-08-26",
          "2024-08-27",
          "2024-08-28",
          "2024-08-29",
          "2024-08-30",
          "2024-09-03",
          "2024-09-04",
          "2024-09-05",
          "2024-09-06",
          "2024-09-09",
          "2024-09-10",
          "2024-09-11",
          "2024-09-12",
          "2024-09-13",
          "2024-09-16",
          "2024-09-17",
          "2024-09-18",
          "2024-09-19",
          "2024-09-20",
          "2024-09-23",
          "2024-09-24",
          "2024-09-25",
          "2024-09-26",
          "2024-09-27",
          "2024-09-30",
          "2024-10-01",
          "2024-10-02",
          "2024-10-03",
          "2024-10-04",
          "2024-10-07",
          "2024-10-08",
          "2024-10-09",
          "2024-10-10",
          "2024-10-11",
          "2024-10-14",
          "2024-10-15",
          "2024-10-16",
          "2024-10-17",
          "2024-10-18",
          "2024-10-21",
          "2024-10-22",
          "2024-10-23",
          "2024-10-24",
          "2024-10-25",
          "2024-10-28",
          "2024-10-29",
          "2024-10-30",
          "2024-10-31",
          "2024-11-01",
          "2024-11-04",
          "2024-11-05",
          "2024-11-06",
          "2024-11-07",
          "2024-11-08",
          "2024-11-11",
          "2024-11-12",
          "2024-11-13",
          "2024-11-14",
          "2024-11-15",
          "2024-11-18",
          "2024-11-19",
          "2024-11-20",
          "2024-11-21",
          "2024-11-22",
          "2024-11-25",
          "2024-11-26",
          "2024-11-27",
          "2024-11-29",
          "2024-12-02",
          "2024-12-03",
          "2024-12-04",
          "2024-12-05",
          "2024-12-06",
          "2024-12-09",
          "2024-12-10",
          "2024-12-11",
          "2024-12-12",
          "2024-12-13",
          "2024-12-16",
          "2024-12-17",
          "2024-12-18",
          "2024-12-19",
          "2024-12-20",
          "2024-12-23",
          "2024-12-24",
          "2024-12-26",
          "2024-12-27",
          "2024-12-30",
          "2024-12-31"
         ],
         "type": "scatter",
         "x": {
          "bdata": "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",
          "dtype": "f8"
         },
         "y": {
          "bdata": "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",
          "dtype": "f8"
         }
        },
        {
         "line": {
          "color": "#1f77b4",
          "width": 2
         },
         "mode": "lines",
         "name": "Convex Hull - AAPL",
         "type": "scatter",
         "x": {
          "bdata": "PdkLanwQX0DKkiH7KldfQF9IJmH7DmBAOoDyXDT5ZUBF87PgV55sQPsmeaaTaG9ABSVP268OcEC1Ip9GbRRwQEc5gafC0m9AWKx2yTPlbkAr8JI29hBoQD3ZC2p8EF9A",
          "dtype": "f8"
         },
         "y": {
          "bdata": "AAAAAFD0X0AAAACAAdJeQAEAAEAp1V5AAAAAgL1EZUAAAACgRdxrQAAAAKCF5W5AAAAAoPLVb0AAAADgqCFwQAAAAECWFHBAAAAAYN+yb0AAAACgdr5pQAAAAABQ9F9A",
          "dtype": "f8"
         }
        },
        {
         "hovertemplate": "<b>MSFT</b><br>Fecha: %{text}<br>Open: %{x:.2f}<br>Close: %{y:.2f}",
         "marker": {
          "color": "#2ca02c",
          "size": 6
         },
         "mode": "markers",
         "name": "MSFT",
         "opacity": 0.6,
         "text": [
          "2023-01-03",
          "2023-01-04",
          "2023-01-05",
          "2023-01-06",
          "2023-01-09",
          "2023-01-10",
          "2023-01-11",
          "2023-01-12",
          "2023-01-13",
          "2023-01-17",
          "2023-01-18",
          "2023-01-19",
          "2023-01-20",
          "2023-01-23",
          "2023-01-24",
          "2023-01-25",
          "2023-01-26",
          "2023-01-27",
          "2023-01-30",
          "2023-01-31",
          "2023-02-01",
          "2023-02-02",
          "2023-02-03",
          "2023-02-06",
          "2023-02-07",
          "2023-02-08",
          "2023-02-09",
          "2023-02-10",
          "2023-02-13",
          "2023-02-14",
          "2023-02-15",
          "2023-02-16",
          "2023-02-17",
          "2023-02-21",
          "2023-02-22",
          "2023-02-23",
          "2023-02-24",
          "2023-02-27",
          "2023-02-28",
          "2023-03-01",
          "2023-03-02",
          "2023-03-03",
          "2023-03-06",
          "2023-03-07",
          "2023-03-08",
          "2023-03-09",
          "2023-03-10",
          "2023-03-13",
          "2023-03-14",
          "2023-03-15",
          "2023-03-16",
          "2023-03-17",
          "2023-03-20",
          "2023-03-21",
          "2023-03-22",
          "2023-03-23",
          "2023-03-24",
          "2023-03-27",
          "2023-03-28",
          "2023-03-29",
          "2023-03-30",
          "2023-03-31",
          "2023-04-03",
          "2023-04-04",
          "2023-04-05",
          "2023-04-06",
          "2023-04-10",
          "2023-04-11",
          "2023-04-12",
          "2023-04-13",
          "2023-04-14",
          "2023-04-17",
          "2023-04-18",
          "2023-04-19",
          "2023-04-20",
          "2023-04-21",
          "2023-04-24",
          "2023-04-25",
          "2023-04-26",
          "2023-04-27",
          "2023-04-28",
          "2023-05-01",
          "2023-05-02",
          "2023-05-03",
          "2023-05-04",
          "2023-05-05",
          "2023-05-08",
          "2023-05-09",
          "2023-05-10",
          "2023-05-11",
          "2023-05-12",
          "2023-05-15",
          "2023-05-16",
          "2023-05-17",
          "2023-05-18",
          "2023-05-19",
          "2023-05-22",
          "2023-05-23",
          "2023-05-24",
          "2023-05-25",
          "2023-05-26",
          "2023-05-30",
          "2023-05-31",
          "2023-06-01",
          "2023-06-02",
          "2023-06-05",
          "2023-06-06",
          "2023-06-07",
          "2023-06-08",
          "2023-06-09",
          "2023-06-12",
          "2023-06-13",
          "2023-06-14",
          "2023-06-15",
          "2023-06-16",
          "2023-06-20",
          "2023-06-21",
          "2023-06-22",
          "2023-06-23",
          "2023-06-26",
          "2023-06-27",
          "2023-06-28",
          "2023-06-29",
          "2023-06-30",
          "2023-07-03",
          "2023-07-05",
          "2023-07-06",
          "2023-07-07",
          "2023-07-10",
          "2023-07-11",
          "2023-07-12",
          "2023-07-13",
          "2023-07-14",
          "2023-07-17",
          "2023-07-18",
          "2023-07-19",
          "2023-07-20",
          "2023-07-21",
          "2023-07-24",
          "2023-07-25",
          "2023-07-26",
          "2023-07-27",
          "2023-07-28",
          "2023-07-31",
          "2023-08-01",
          "2023-08-02",
          "2023-08-03",
          "2023-08-04",
          "2023-08-07",
          "2023-08-08",
          "2023-08-09",
          "2023-08-10",
          "2023-08-11",
          "2023-08-14",
          "2023-08-15",
          "2023-08-16",
          "2023-08-17",
          "2023-08-18",
          "2023-08-21",
          "2023-08-22",
          "2023-08-23",
          "2023-08-24",
          "2023-08-25",
          "2023-08-28",
          "2023-08-29",
          "2023-08-30",
          "2023-08-31",
          "2023-09-01",
          "2023-09-05",
          "2023-09-06",
          "2023-09-07",
          "2023-09-08",
          "2023-09-11",
          "2023-09-12",
          "2023-09-13",
          "2023-09-14",
          "2023-09-15",
          "2023-09-18",
          "2023-09-19",
          "2023-09-20",
          "2023-09-21",
          "2023-09-22",
          "2023-09-25",
          "2023-09-26",
          "2023-09-27",
          "2023-09-28",
          "2023-09-29",
          "2023-10-02",
          "2023-10-03",
          "2023-10-04",
          "2023-10-05",
          "2023-10-06",
          "2023-10-09",
          "2023-10-10",
          "2023-10-11",
          "2023-10-12",
          "2023-10-13",
          "2023-10-16",
          "2023-10-17",
          "2023-10-18",
          "2023-10-19",
          "2023-10-20",
          "2023-10-23",
          "2023-10-24",
          "2023-10-25",
          "2023-10-26",
          "2023-10-27",
          "2023-10-30",
          "2023-10-31",
          "2023-11-01",
          "2023-11-02",
          "2023-11-03",
          "2023-11-06",
          "2023-11-07",
          "2023-11-08",
          "2023-11-09",
          "2023-11-10",
          "2023-11-13",
          "2023-11-14",
          "2023-11-15",
          "2023-11-16",
          "2023-11-17",
          "2023-11-20",
          "2023-11-21",
          "2023-11-22",
          "2023-11-24",
          "2023-11-27",
          "2023-11-28",
          "2023-11-29",
          "2023-11-30",
          "2023-12-01",
          "2023-12-04",
          "2023-12-05",
          "2023-12-06",
          "2023-12-07",
          "2023-12-08",
          "2023-12-11",
          "2023-12-12",
          "2023-12-13",
          "2023-12-14",
          "2023-12-15",
          "2023-12-18",
          "2023-12-19",
          "2023-12-20",
          "2023-12-21",
          "2023-12-22",
          "2023-12-26",
          "2023-12-27",
          "2023-12-28",
          "2023-12-29",
          "2024-01-02",
          "2024-01-03",
          "2024-01-04",
          "2024-01-05",
          "2024-01-08",
          "2024-01-09",
          "2024-01-10",
          "2024-01-11",
          "2024-01-12",
          "2024-01-16",
          "2024-01-17",
          "2024-01-18",
          "2024-01-19",
          "2024-01-22",
          "2024-01-23",
          "2024-01-24",
          "2024-01-25",
          "2024-01-26",
          "2024-01-29",
          "2024-01-30",
          "2024-01-31",
          "2024-02-01",
          "2024-02-02",
          "2024-02-05",
          "2024-02-06",
          "2024-02-07",
          "2024-02-08",
          "2024-02-09",
          "2024-02-12",
          "2024-02-13",
          "2024-02-14",
          "2024-02-15",
          "2024-02-16",
          "2024-02-20",
          "2024-02-21",
          "2024-02-22",
          "2024-02-23",
          "2024-02-26",
          "2024-02-27",
          "2024-02-28",
          "2024-02-29",
          "2024-03-01",
          "2024-03-04",
          "2024-03-05",
          "2024-03-06",
          "2024-03-07",
          "2024-03-08",
          "2024-03-11",
          "2024-03-12",
          "2024-03-13",
          "2024-03-14",
          "2024-03-15",
          "2024-03-18",
          "2024-03-19",
          "2024-03-20",
          "2024-03-21",
          "2024-03-22",
          "2024-03-25",
          "2024-03-26",
          "2024-03-27",
          "2024-03-28",
          "2024-04-01",
          "2024-04-02",
          "2024-04-03",
          "2024-04-04",
          "2024-04-05",
          "2024-04-08",
          "2024-04-09",
          "2024-04-10",
          "2024-04-11",
          "2024-04-12",
          "2024-04-15",
          "2024-04-16",
          "2024-04-17",
          "2024-04-18",
          "2024-04-19",
          "2024-04-22",
          "2024-04-23",
          "2024-04-24",
          "2024-04-25",
          "2024-04-26",
          "2024-04-29",
          "2024-04-30",
          "2024-05-01",
          "2024-05-02",
          "2024-05-03",
          "2024-05-06",
          "2024-05-07",
          "2024-05-08",
          "2024-05-09",
          "2024-05-10",
          "2024-05-13",
          "2024-05-14",
          "2024-05-15",
          "2024-05-16",
          "2024-05-17",
          "2024-05-20",
          "2024-05-21",
          "2024-05-22",
          "2024-05-23",
          "2024-05-24",
          "2024-05-28",
          "2024-05-29",
          "2024-05-30",
          "2024-05-31",
          "2024-06-03",
          "2024-06-04",
          "2024-06-05",
          "2024-06-06",
          "2024-06-07",
          "2024-06-10",
          "2024-06-11",
          "2024-06-12",
          "2024-06-13",
          "2024-06-14",
          "2024-06-17",
          "2024-06-18",
          "2024-06-20",
          "2024-06-21",
          "2024-06-24",
          "2024-06-25",
          "2024-06-26",
          "2024-06-27",
          "2024-06-28",
          "2024-07-01",
          "2024-07-02",
          "2024-07-03",
          "2024-07-05",
          "2024-07-08",
          "2024-07-09",
          "2024-07-10",
          "2024-07-11",
          "2024-07-12",
          "2024-07-15",
          "2024-07-16",
          "2024-07-17",
          "2024-07-18",
          "2024-07-19",
          "2024-07-22",
          "2024-07-23",
          "2024-07-24",
          "2024-07-25",
          "2024-07-26",
          "2024-07-29",
          "2024-07-30",
          "2024-07-31",
          "2024-08-01",
          "2024-08-02",
          "2024-08-05",
          "2024-08-06",
          "2024-08-07",
          "2024-08-08",
          "2024-08-09",
          "2024-08-12",
          "2024-08-13",
          "2024-08-14",
          "2024-08-15",
          "2024-08-16",
          "2024-08-19",
          "2024-08-20",
          "2024-08-21",
          "2024-08-22",
          "2024-08-23",
          "2024-08-26",
          "2024-08-27",
          "2024-08-28",
          "2024-08-29",
          "2024-08-30",
          "2024-09-03",
          "2024-09-04",
          "2024-09-05",
          "2024-09-06",
          "2024-09-09",
          "2024-09-10",
          "2024-09-11",
          "2024-09-12",
          "2024-09-13",
          "2024-09-16",
          "2024-09-17",
          "2024-09-18",
          "2024-09-19",
          "2024-09-20",
          "2024-09-23",
          "2024-09-24",
          "2024-09-25",
          "2024-09-26",
          "2024-09-27",
          "2024-09-30",
          "2024-10-01",
          "2024-10-02",
          "2024-10-03",
          "2024-10-04",
          "2024-10-07",
          "2024-10-08",
          "2024-10-09",
          "2024-10-10",
          "2024-10-11",
          "2024-10-14",
          "2024-10-15",
          "2024-10-16",
          "2024-10-17",
          "2024-10-18",
          "2024-10-21",
          "2024-10-22",
          "2024-10-23",
          "2024-10-24",
          "2024-10-25",
          "2024-10-28",
          "2024-10-29",
          "2024-10-30",
          "2024-10-31",
          "2024-11-01",
          "2024-11-04",
          "2024-11-05",
          "2024-11-06",
          "2024-11-07",
          "2024-11-08",
          "2024-11-11",
          "2024-11-12",
          "2024-11-13",
          "2024-11-14",
          "2024-11-15",
          "2024-11-18",
          "2024-11-19",
          "2024-11-20",
          "2024-11-21",
          "2024-11-22",
          "2024-11-25",
          "2024-11-26",
          "2024-11-27",
          "2024-11-29",
          "2024-12-02",
          "2024-12-03",
          "2024-12-04",
          "2024-12-05",
          "2024-12-06",
          "2024-12-09",
          "2024-12-10",
          "2024-12-11",
          "2024-12-12",
          "2024-12-13",
          "2024-12-16",
          "2024-12-17",
          "2024-12-18",
          "2024-12-19",
          "2024-12-20",
          "2024-12-23",
          "2024-12-24",
          "2024-12-26",
          "2024-12-27",
          "2024-12-30",
          "2024-12-31"
         ],
         "type": "scatter",
         "x": {
          "bdata": "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",
          "dtype": "f8"
         },
         "y": {
          "bdata": "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",
          "dtype": "f8"
         }
        },
        {
         "line": {
          "color": "#2ca02c",
          "width": 2
         },
         "mode": "lines",
         "name": "Convex Hull - MSFT",
         "type": "scatter",
         "x": {
          "bdata": "1RqZjNR1fEBPE+Z9nT91QH9RlEZuQnBAQ5/U7t2tbEDmXQrpaUZrQGSPDdPryWtAHq50T4O+cEBvzVUEiX50QK7AN3GoDXxA0wMDfvrqfEDDL11l2ON8QNUamYzUdXxA",
          "dtype": "f8"
         },
         "y": {
          "bdata": "AAAAANvzfED///+/eRZ2QAAAAODq7nBAAQAAIM5tbUD///8f2IJrQAAAACDPMGtAAAAAgCMfcED///+/g7NzQAAAAAD/L3tAAAAAoLh0fEAAAABg7t58QAAAAADb83xA",
          "dtype": "f8"
         }
        },
        {
         "hovertemplate": "<b>GOOG</b><br>Fecha: %{text}<br>Open: %{x:.2f}<br>Close: %{y:.2f}",
         "marker": {
          "color": "#ff7f0e",
          "size": 6
         },
         "mode": "markers",
         "name": "GOOG",
         "opacity": 0.6,
         "text": [
          "2023-01-03",
          "2023-01-04",
          "2023-01-05",
          "2023-01-06",
          "2023-01-09",
          "2023-01-10",
          "2023-01-11",
          "2023-01-12",
          "2023-01-13",
          "2023-01-17",
          "2023-01-18",
          "2023-01-19",
          "2023-01-20",
          "2023-01-23",
          "2023-01-24",
          "2023-01-25",
          "2023-01-26",
          "2023-01-27",
          "2023-01-30",
          "2023-01-31",
          "2023-02-01",
          "2023-02-02",
          "2023-02-03",
          "2023-02-06",
          "2023-02-07",
          "2023-02-08",
          "2023-02-09",
          "2023-02-10",
          "2023-02-13",
          "2023-02-14",
          "2023-02-15",
          "2023-02-16",
          "2023-02-17",
          "2023-02-21",
          "2023-02-22",
          "2023-02-23",
          "2023-02-24",
          "2023-02-27",
          "2023-02-28",
          "2023-03-01",
          "2023-03-02",
          "2023-03-03",
          "2023-03-06",
          "2023-03-07",
          "2023-03-08",
          "2023-03-09",
          "2023-03-10",
          "2023-03-13",
          "2023-03-14",
          "2023-03-15",
          "2023-03-16",
          "2023-03-17",
          "2023-03-20",
          "2023-03-21",
          "2023-03-22",
          "2023-03-23",
          "2023-03-24",
          "2023-03-27",
          "2023-03-28",
          "2023-03-29",
          "2023-03-30",
          "2023-03-31",
          "2023-04-03",
          "2023-04-04",
          "2023-04-05",
          "2023-04-06",
          "2023-04-10",
          "2023-04-11",
          "2023-04-12",
          "2023-04-13",
          "2023-04-14",
          "2023-04-17",
          "2023-04-18",
          "2023-04-19",
          "2023-04-20",
          "2023-04-21",
          "2023-04-24",
          "2023-04-25",
          "2023-04-26",
          "2023-04-27",
          "2023-04-28",
          "2023-05-01",
          "2023-05-02",
          "2023-05-03",
          "2023-05-04",
          "2023-05-05",
          "2023-05-08",
          "2023-05-09",
          "2023-05-10",
          "2023-05-11",
          "2023-05-12",
          "2023-05-15",
          "2023-05-16",
          "2023-05-17",
          "2023-05-18",
          "2023-05-19",
          "2023-05-22",
          "2023-05-23",
          "2023-05-24",
          "2023-05-25",
          "2023-05-26",
          "2023-05-30",
          "2023-05-31",
          "2023-06-01",
          "2023-06-02",
          "2023-06-05",
          "2023-06-06",
          "2023-06-07",
          "2023-06-08",
          "2023-06-09",
          "2023-06-12",
          "2023-06-13",
          "2023-06-14",
          "2023-06-15",
          "2023-06-16",
          "2023-06-20",
          "2023-06-21",
          "2023-06-22",
          "2023-06-23",
          "2023-06-26",
          "2023-06-27",
          "2023-06-28",
          "2023-06-29",
          "2023-06-30",
          "2023-07-03",
          "2023-07-05",
          "2023-07-06",
          "2023-07-07",
          "2023-07-10",
          "2023-07-11",
          "2023-07-12",
          "2023-07-13",
          "2023-07-14",
          "2023-07-17",
          "2023-07-18",
          "2023-07-19",
          "2023-07-20",
          "2023-07-21",
          "2023-07-24",
          "2023-07-25",
          "2023-07-26",
          "2023-07-27",
          "2023-07-28",
          "2023-07-31",
          "2023-08-01",
          "2023-08-02",
          "2023-08-03",
          "2023-08-04",
          "2023-08-07",
          "2023-08-08",
          "2023-08-09",
          "2023-08-10",
          "2023-08-11",
          "2023-08-14",
          "2023-08-15",
          "2023-08-16",
          "2023-08-17",
          "2023-08-18",
          "2023-08-21",
          "2023-08-22",
          "2023-08-23",
          "2023-08-24",
          "2023-08-25",
          "2023-08-28",
          "2023-08-29",
          "2023-08-30",
          "2023-08-31",
          "2023-09-01",
          "2023-09-05",
          "2023-09-06",
          "2023-09-07",
          "2023-09-08",
          "2023-09-11",
          "2023-09-12",
          "2023-09-13",
          "2023-09-14",
          "2023-09-15",
          "2023-09-18",
          "2023-09-19",
          "2023-09-20",
          "2023-09-21",
          "2023-09-22",
          "2023-09-25",
          "2023-09-26",
          "2023-09-27",
          "2023-09-28",
          "2023-09-29",
          "2023-10-02",
          "2023-10-03",
          "2023-10-04",
          "2023-10-05",
          "2023-10-06",
          "2023-10-09",
          "2023-10-10",
          "2023-10-11",
          "2023-10-12",
          "2023-10-13",
          "2023-10-16",
          "2023-10-17",
          "2023-10-18",
          "2023-10-19",
          "2023-10-20",
          "2023-10-23",
          "2023-10-24",
          "2023-10-25",
          "2023-10-26",
          "2023-10-27",
          "2023-10-30",
          "2023-10-31",
          "2023-11-01",
          "2023-11-02",
          "2023-11-03",
          "2023-11-06",
          "2023-11-07",
          "2023-11-08",
          "2023-11-09",
          "2023-11-10",
          "2023-11-13",
          "2023-11-14",
          "2023-11-15",
          "2023-11-16",
          "2023-11-17",
          "2023-11-20",
          "2023-11-21",
          "2023-11-22",
          "2023-11-24",
          "2023-11-27",
          "2023-11-28",
          "2023-11-29",
          "2023-11-30",
          "2023-12-01",
          "2023-12-04",
          "2023-12-05",
          "2023-12-06",
          "2023-12-07",
          "2023-12-08",
          "2023-12-11",
          "2023-12-12",
          "2023-12-13",
          "2023-12-14",
          "2023-12-15",
          "2023-12-18",
          "2023-12-19",
          "2023-12-20",
          "2023-12-21",
          "2023-12-22",
          "2023-12-26",
          "2023-12-27",
          "2023-12-28",
          "2023-12-29",
          "2024-01-02",
          "2024-01-03",
          "2024-01-04",
          "2024-01-05",
          "2024-01-08",
          "2024-01-09",
          "2024-01-10",
          "2024-01-11",
          "2024-01-12",
          "2024-01-16",
          "2024-01-17",
          "2024-01-18",
          "2024-01-19",
          "2024-01-22",
          "2024-01-23",
          "2024-01-24",
          "2024-01-25",
          "2024-01-26",
          "2024-01-29",
          "2024-01-30",
          "2024-01-31",
          "2024-02-01",
          "2024-02-02",
          "2024-02-05",
          "2024-02-06",
          "2024-02-07",
          "2024-02-08",
          "2024-02-09",
          "2024-02-12",
          "2024-02-13",
          "2024-02-14",
          "2024-02-15",
          "2024-02-16",
          "2024-02-20",
          "2024-02-21",
          "2024-02-22",
          "2024-02-23",
          "2024-02-26",
          "2024-02-27",
          "2024-02-28",
          "2024-02-29",
          "2024-03-01",
          "2024-03-04",
          "2024-03-05",
          "2024-03-06",
          "2024-03-07",
          "2024-03-08",
          "2024-03-11",
          "2024-03-12",
          "2024-03-13",
          "2024-03-14",
          "2024-03-15",
          "2024-03-18",
          "2024-03-19",
          "2024-03-20",
          "2024-03-21",
          "2024-03-22",
          "2024-03-25",
          "2024-03-26",
          "2024-03-27",
          "2024-03-28",
          "2024-04-01",
          "2024-04-02",
          "2024-04-03",
          "2024-04-04",
          "2024-04-05",
          "2024-04-08",
          "2024-04-09",
          "2024-04-10",
          "2024-04-11",
          "2024-04-12",
          "2024-04-15",
          "2024-04-16",
          "2024-04-17",
          "2024-04-18",
          "2024-04-19",
          "2024-04-22",
          "2024-04-23",
          "2024-04-24",
          "2024-04-25",
          "2024-04-26",
          "2024-04-29",
          "2024-04-30",
          "2024-05-01",
          "2024-05-02",
          "2024-05-03",
          "2024-05-06",
          "2024-05-07",
          "2024-05-08",
          "2024-05-09",
          "2024-05-10",
          "2024-05-13",
          "2024-05-14",
          "2024-05-15",
          "2024-05-16",
          "2024-05-17",
          "2024-05-20",
          "2024-05-21",
          "2024-05-22",
          "2024-05-23",
          "2024-05-24",
          "2024-05-28",
          "2024-05-29",
          "2024-05-30",
          "2024-05-31",
          "2024-06-03",
          "2024-06-04",
          "2024-06-05",
          "2024-06-06",
          "2024-06-07",
          "2024-06-10",
          "2024-06-11",
          "2024-06-12",
          "2024-06-13",
          "2024-06-14",
          "2024-06-17",
          "2024-06-18",
          "2024-06-20",
          "2024-06-21",
          "2024-06-24",
          "2024-06-25",
          "2024-06-26",
          "2024-06-27",
          "2024-06-28",
          "2024-07-01",
          "2024-07-02",
          "2024-07-03",
          "2024-07-05",
          "2024-07-08",
          "2024-07-09",
          "2024-07-10",
          "2024-07-11",
          "2024-07-12",
          "2024-07-15",
          "2024-07-16",
          "2024-07-17",
          "2024-07-18",
          "2024-07-19",
          "2024-07-22",
          "2024-07-23",
          "2024-07-24",
          "2024-07-25",
          "2024-07-26",
          "2024-07-29",
          "2024-07-30",
          "2024-07-31",
          "2024-08-01",
          "2024-08-02",
          "2024-08-05",
          "2024-08-06",
          "2024-08-07",
          "2024-08-08",
          "2024-08-09",
          "2024-08-12",
          "2024-08-13",
          "2024-08-14",
          "2024-08-15",
          "2024-08-16",
          "2024-08-19",
          "2024-08-20",
          "2024-08-21",
          "2024-08-22",
          "2024-08-23",
          "2024-08-26",
          "2024-08-27",
          "2024-08-28",
          "2024-08-29",
          "2024-08-30",
          "2024-09-03",
          "2024-09-04",
          "2024-09-05",
          "2024-09-06",
          "2024-09-09",
          "2024-09-10",
          "2024-09-11",
          "2024-09-12",
          "2024-09-13",
          "2024-09-16",
          "2024-09-17",
          "2024-09-18",
          "2024-09-19",
          "2024-09-20",
          "2024-09-23",
          "2024-09-24",
          "2024-09-25",
          "2024-09-26",
          "2024-09-27",
          "2024-09-30",
          "2024-10-01",
          "2024-10-02",
          "2024-10-03",
          "2024-10-04",
          "2024-10-07",
          "2024-10-08",
          "2024-10-09",
          "2024-10-10",
          "2024-10-11",
          "2024-10-14",
          "2024-10-15",
          "2024-10-16",
          "2024-10-17",
          "2024-10-18",
          "2024-10-21",
          "2024-10-22",
          "2024-10-23",
          "2024-10-24",
          "2024-10-25",
          "2024-10-28",
          "2024-10-29",
          "2024-10-30",
          "2024-10-31",
          "2024-11-01",
          "2024-11-04",
          "2024-11-05",
          "2024-11-06",
          "2024-11-07",
          "2024-11-08",
          "2024-11-11",
          "2024-11-12",
          "2024-11-13",
          "2024-11-14",
          "2024-11-15",
          "2024-11-18",
          "2024-11-19",
          "2024-11-20",
          "2024-11-21",
          "2024-11-22",
          "2024-11-25",
          "2024-11-26",
          "2024-11-27",
          "2024-11-29",
          "2024-12-02",
          "2024-12-03",
          "2024-12-04",
          "2024-12-05",
          "2024-12-06",
          "2024-12-09",
          "2024-12-10",
          "2024-12-11",
          "2024-12-12",
          "2024-12-13",
          "2024-12-16",
          "2024-12-17",
          "2024-12-18",
          "2024-12-19",
          "2024-12-20",
          "2024-12-23",
          "2024-12-24",
          "2024-12-26",
          "2024-12-27",
          "2024-12-30",
          "2024-12-31"
         ],
         "type": "scatter",
         "x": {
          "bdata": "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",
          "dtype": "f8"
         },
         "y": {
          "bdata": "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",
          "dtype": "f8"
         }
        },
        {
         "line": {
          "color": "#ff7f0e",
          "width": 2
         },
         "mode": "lines",
         "name": "Convex Hull - GOOG",
         "type": "scatter",
         "x": {
          "bdata": "p07H1nO8aEBJ62I7mjdoQLwqYzUdQ2dAso/z/Hj6V0DTcHJ/W4hVQCEoGZwr3lVAvd3xHw2ZVkDqx+Js0/ZYQEfKIhxOuWNA9G4nWjqGaECnTsfWc7xoQA==",
          "dtype": "f8"
         },
         "y": {
          "bdata": "AAAAYHqPaEAAAACAprBoQAAAAIBmgmhAAQAA4IMYWUAAAACAiihWQAAAACCJi1VAAAAAANoGVkAAAABg6rNXQAAAACCT6GJAAAAAYCixZ0AAAABgeo9oQA==",
          "dtype": "f8"
         }
        },
        {
         "line": {
          "color": "gray",
          "dash": "dash"
         },
         "mode": "lines",
         "name": "y = x (Open = Close)",
         "type": "scatter",
         "x": [
          86.13058458495952,
          462.6861553304454
         ],
         "y": [
          86.13058458495952,
          462.6861553304454
         ]
        }
       ],
       "layout": {
        "legend": {
         "title": {
          "text": "Ticker"
         }
        },
        "template": {
         "data": {
          "bar": [
           {
            "error_x": {
             "color": "#2a3f5f"
            },
            "error_y": {
             "color": "#2a3f5f"
            },
            "marker": {
             "line": {
              "color": "white",
              "width": 0.5
             },
             "pattern": {
              "fillmode": "overlay",
              "size": 10,
              "solidity": 0.2
             }
            },
            "type": "bar"
           }
          ],
          "barpolar": [
           {
            "marker": {
             "line": {
              "color": "white",
              "width": 0.5
             },
             "pattern": {
              "fillmode": "overlay",
              "size": 10,
              "solidity": 0.2
             }
            },
            "type": "barpolar"
           }
          ],
          "carpet": [
           {
            "aaxis": {
             "endlinecolor": "#2a3f5f",
             "gridcolor": "#C8D4E3",
             "linecolor": "#C8D4E3",
             "minorgridcolor": "#C8D4E3",
             "startlinecolor": "#2a3f5f"
            },
            "baxis": {
             "endlinecolor": "#2a3f5f",
             "gridcolor": "#C8D4E3",
             "linecolor": "#C8D4E3",
             "minorgridcolor": "#C8D4E3",
             "startlinecolor": "#2a3f5f"
            },
            "type": "carpet"
           }
          ],
          "choropleth": [
           {
            "colorbar": {
             "outlinewidth": 0,
             "ticks": ""
            },
            "type": "choropleth"
           }
          ],
          "contour": [
           {
            "colorbar": {
             "outlinewidth": 0,
             "ticks": ""
            },
            "colorscale": [
             [
              0,
              "#0d0887"
             ],
             [
              0.1111111111111111,
              "#46039f"
             ],
             [
              0.2222222222222222,
              "#7201a8"
             ],
             [
              0.3333333333333333,
              "#9c179e"
             ],
             [
              0.4444444444444444,
              "#bd3786"
             ],
             [
              0.5555555555555556,
              "#d8576b"
             ],
             [
              0.6666666666666666,
              "#ed7953"
             ],
             [
              0.7777777777777778,
              "#fb9f3a"
             ],
             [
              0.8888888888888888,
              "#fdca26"
             ],
             [
              1,
              "#f0f921"
             ]
            ],
            "type": "contour"
           }
          ],
          "contourcarpet": [
           {
            "colorbar": {
             "outlinewidth": 0,
             "ticks": ""
            },
            "type": "contourcarpet"
           }
          ],
          "heatmap": [
           {
            "colorbar": {
             "outlinewidth": 0,
             "ticks": ""
            },
            "colorscale": [
             [
              0,
              "#0d0887"
             ],
             [
              0.1111111111111111,
              "#46039f"
             ],
             [
              0.2222222222222222,
              "#7201a8"
             ],
             [
              0.3333333333333333,
              "#9c179e"
             ],
             [
              0.4444444444444444,
              "#bd3786"
             ],
             [
              0.5555555555555556,
              "#d8576b"
             ],
             [
              0.6666666666666666,
              "#ed7953"
             ],
             [
              0.7777777777777778,
              "#fb9f3a"
             ],
             [
              0.8888888888888888,
              "#fdca26"
             ],
             [
              1,
              "#f0f921"
             ]
            ],
            "type": "heatmap"
           }
          ],
          "histogram": [
           {
            "marker": {
             "pattern": {
              "fillmode": "overlay",
              "size": 10,
              "solidity": 0.2
             }
            },
            "type": "histogram"
           }
          ],
          "histogram2d": [
           {
            "colorbar": {
             "outlinewidth": 0,
             "ticks": ""
            },
            "colorscale": [
             [
              0,
              "#0d0887"
             ],
             [
              0.1111111111111111,
              "#46039f"
             ],
             [
              0.2222222222222222,
              "#7201a8"
             ],
             [
              0.3333333333333333,
              "#9c179e"
             ],
             [
              0.4444444444444444,
              "#bd3786"
             ],
             [
              0.5555555555555556,
              "#d8576b"
             ],
             [
              0.6666666666666666,
              "#ed7953"
             ],
             [
              0.7777777777777778,
              "#fb9f3a"
             ],
             [
              0.8888888888888888,
              "#fdca26"
             ],
             [
              1,
              "#f0f921"
             ]
            ],
            "type": "histogram2d"
           }
          ],
          "histogram2dcontour": [
           {
            "colorbar": {
             "outlinewidth": 0,
             "ticks": ""
            },
            "colorscale": [
             [
              0,
              "#0d0887"
             ],
             [
              0.1111111111111111,
              "#46039f"
             ],
             [
              0.2222222222222222,
              "#7201a8"
             ],
             [
              0.3333333333333333,
              "#9c179e"
             ],
             [
              0.4444444444444444,
              "#bd3786"
             ],
             [
              0.5555555555555556,
              "#d8576b"
             ],
             [
              0.6666666666666666,
              "#ed7953"
             ],
             [
              0.7777777777777778,
              "#fb9f3a"
             ],
             [
              0.8888888888888888,
              "#fdca26"
             ],
             [
              1,
              "#f0f921"
             ]
            ],
            "type": "histogram2dcontour"
           }
          ],
          "mesh3d": [
           {
            "colorbar": {
             "outlinewidth": 0,
             "ticks": ""
            },
            "type": "mesh3d"
           }
          ],
          "parcoords": [
           {
            "line": {
             "colorbar": {
              "outlinewidth": 0,
              "ticks": ""
             }
            },
            "type": "parcoords"
           }
          ],
          "pie": [
           {
            "automargin": true,
            "type": "pie"
           }
          ],
          "scatter": [
           {
            "fillpattern": {
             "fillmode": "overlay",
             "size": 10,
             "solidity": 0.2
            },
            "type": "scatter"
           }
          ],
          "scatter3d": [
           {
            "line": {
             "colorbar": {
              "outlinewidth": 0,
              "ticks": ""
             }
            },
            "marker": {
             "colorbar": {
              "outlinewidth": 0,
              "ticks": ""
             }
            },
            "type": "scatter3d"
           }
          ],
          "scattercarpet": [
           {
            "marker": {
             "colorbar": {
              "outlinewidth": 0,
              "ticks": ""
             }
            },
            "type": "scattercarpet"
           }
          ],
          "scattergeo": [
           {
            "marker": {
             "colorbar": {
              "outlinewidth": 0,
              "ticks": ""
             }
            },
            "type": "scattergeo"
           }
          ],
          "scattergl": [
           {
            "marker": {
             "colorbar": {
              "outlinewidth": 0,
              "ticks": ""
             }
            },
            "type": "scattergl"
           }
          ],
          "scattermap": [
           {
            "marker": {
             "colorbar": {
              "outlinewidth": 0,
              "ticks": ""
             }
            },
            "type": "scattermap"
           }
          ],
          "scattermapbox": [
           {
            "marker": {
             "colorbar": {
              "outlinewidth": 0,
              "ticks": ""
             }
            },
            "type": "scattermapbox"
           }
          ],
          "scatterpolar": [
           {
            "marker": {
             "colorbar": {
              "outlinewidth": 0,
              "ticks": ""
             }
            },
            "type": "scatterpolar"
           }
          ],
          "scatterpolargl": [
           {
            "marker": {
             "colorbar": {
              "outlinewidth": 0,
              "ticks": ""
             }
            },
            "type": "scatterpolargl"
           }
          ],
          "scatterternary": [
           {
            "marker": {
             "colorbar": {
              "outlinewidth": 0,
              "ticks": ""
             }
            },
            "type": "scatterternary"
           }
          ],
          "surface": [
           {
            "colorbar": {
             "outlinewidth": 0,
             "ticks": ""
            },
            "colorscale": [
             [
              0,
              "#0d0887"
             ],
             [
              0.1111111111111111,
              "#46039f"
             ],
             [
              0.2222222222222222,
              "#7201a8"
             ],
             [
              0.3333333333333333,
              "#9c179e"
             ],
             [
              0.4444444444444444,
              "#bd3786"
             ],
             [
              0.5555555555555556,
              "#d8576b"
             ],
             [
              0.6666666666666666,
              "#ed7953"
             ],
             [
              0.7777777777777778,
              "#fb9f3a"
             ],
             [
              0.8888888888888888,
              "#fdca26"
             ],
             [
              1,
              "#f0f921"
             ]
            ],
            "type": "surface"
           }
          ],
          "table": [
           {
            "cells": {
             "fill": {
              "color": "#EBF0F8"
             },
             "line": {
              "color": "white"
             }
            },
            "header": {
             "fill": {
              "color": "#C8D4E3"
             },
             "line": {
              "color": "white"
             }
            },
            "type": "table"
           }
          ]
         },
         "layout": {
          "annotationdefaults": {
           "arrowcolor": "#2a3f5f",
           "arrowhead": 0,
           "arrowwidth": 1
          },
          "autotypenumbers": "strict",
          "coloraxis": {
           "colorbar": {
            "outlinewidth": 0,
            "ticks": ""
           }
          },
          "colorscale": {
           "diverging": [
            [
             0,
             "#8e0152"
            ],
            [
             0.1,
             "#c51b7d"
            ],
            [
             0.2,
             "#de77ae"
            ],
            [
             0.3,
             "#f1b6da"
            ],
            [
             0.4,
             "#fde0ef"
            ],
            [
             0.5,
             "#f7f7f7"
            ],
            [
             0.6,
             "#e6f5d0"
            ],
            [
             0.7,
             "#b8e186"
            ],
            [
             0.8,
             "#7fbc41"
            ],
            [
             0.9,
             "#4d9221"
            ],
            [
             1,
             "#276419"
            ]
           ],
           "sequential": [
            [
             0,
             "#0d0887"
            ],
            [
             0.1111111111111111,
             "#46039f"
            ],
            [
             0.2222222222222222,
             "#7201a8"
            ],
            [
             0.3333333333333333,
             "#9c179e"
            ],
            [
             0.4444444444444444,
             "#bd3786"
            ],
            [
             0.5555555555555556,
             "#d8576b"
            ],
            [
             0.6666666666666666,
             "#ed7953"
            ],
            [
             0.7777777777777778,
             "#fb9f3a"
            ],
            [
             0.8888888888888888,
             "#fdca26"
            ],
            [
             1,
             "#f0f921"
            ]
           ],
           "sequentialminus": [
            [
             0,
             "#0d0887"
            ],
            [
             0.1111111111111111,
             "#46039f"
            ],
            [
             0.2222222222222222,
             "#7201a8"
            ],
            [
             0.3333333333333333,
             "#9c179e"
            ],
            [
             0.4444444444444444,
             "#bd3786"
            ],
            [
             0.5555555555555556,
             "#d8576b"
            ],
            [
             0.6666666666666666,
             "#ed7953"
            ],
            [
             0.7777777777777778,
             "#fb9f3a"
            ],
            [
             0.8888888888888888,
             "#fdca26"
            ],
            [
             1,
             "#f0f921"
            ]
           ]
          },
          "colorway": [
           "#636efa",
           "#EF553B",
           "#00cc96",
           "#ab63fa",
           "#FFA15A",
           "#19d3f3",
           "#FF6692",
           "#B6E880",
           "#FF97FF",
           "#FECB52"
          ],
          "font": {
           "color": "#2a3f5f"
          },
          "geo": {
           "bgcolor": "white",
           "lakecolor": "white",
           "landcolor": "white",
           "showlakes": true,
           "showland": true,
           "subunitcolor": "#C8D4E3"
          },
          "hoverlabel": {
           "align": "left"
          },
          "hovermode": "closest",
          "mapbox": {
           "style": "light"
          },
          "paper_bgcolor": "white",
          "plot_bgcolor": "white",
          "polar": {
           "angularaxis": {
            "gridcolor": "#EBF0F8",
            "linecolor": "#EBF0F8",
            "ticks": ""
           },
           "bgcolor": "white",
           "radialaxis": {
            "gridcolor": "#EBF0F8",
            "linecolor": "#EBF0F8",
            "ticks": ""
           }
          },
          "scene": {
           "xaxis": {
            "backgroundcolor": "white",
            "gridcolor": "#DFE8F3",
            "gridwidth": 2,
            "linecolor": "#EBF0F8",
            "showbackground": true,
            "ticks": "",
            "zerolinecolor": "#EBF0F8"
           },
           "yaxis": {
            "backgroundcolor": "white",
            "gridcolor": "#DFE8F3",
            "gridwidth": 2,
            "linecolor": "#EBF0F8",
            "showbackground": true,
            "ticks": "",
            "zerolinecolor": "#EBF0F8"
           },
           "zaxis": {
            "backgroundcolor": "white",
            "gridcolor": "#DFE8F3",
            "gridwidth": 2,
            "linecolor": "#EBF0F8",
            "showbackground": true,
            "ticks": "",
            "zerolinecolor": "#EBF0F8"
           }
          },
          "shapedefaults": {
           "line": {
            "color": "#2a3f5f"
           }
          },
          "ternary": {
           "aaxis": {
            "gridcolor": "#DFE8F3",
            "linecolor": "#A2B1C6",
            "ticks": ""
           },
           "baxis": {
            "gridcolor": "#DFE8F3",
            "linecolor": "#A2B1C6",
            "ticks": ""
           },
           "bgcolor": "white",
           "caxis": {
            "gridcolor": "#DFE8F3",
            "linecolor": "#A2B1C6",
            "ticks": ""
           }
          },
          "title": {
           "x": 0.05
          },
          "xaxis": {
           "automargin": true,
           "gridcolor": "#EBF0F8",
           "linecolor": "#EBF0F8",
           "ticks": "",
           "title": {
            "standoff": 15
           },
           "zerolinecolor": "#EBF0F8",
           "zerolinewidth": 2
          },
          "yaxis": {
           "automargin": true,
           "gridcolor": "#EBF0F8",
           "linecolor": "#EBF0F8",
           "ticks": "",
           "title": {
            "standoff": 15
           },
           "zerolinecolor": "#EBF0F8",
           "zerolinewidth": 2
          }
         }
        },
        "title": {
         "text": "Relación entre precio de apertura y cierre con Envolvente Convexa"
        },
        "xaxis": {
         "title": {
          "text": "Precio de apertura ($)"
         }
        },
        "yaxis": {
         "title": {
          "text": "Precio de cierre ($)"
         }
        }
       }
      }
     },
     "metadata": {},
     "output_type": "display_data"
    }
   ],
   "source": [
    "# ==================================================\n",
    "# CONVEX HULL — Relación entre Open y Close\n",
    "# ==================================================\n",
    "\n",
    "fig = go.Figure()\n",
    "colors = {\"AAPL\": \"#1f77b4\", \"MSFT\": \"#2ca02c\", \"GOOG\": \"#ff7f0e\"}\n",
    "\n",
    "for ticker in df[\"Ticker\"].unique():\n",
    "    sub_df = df[df[\"Ticker\"] == ticker]\n",
    "    points = sub_df[[\"Open\", \"Close\"]].values\n",
    "\n",
    "    # Calcular envolvente convexa\n",
    "    hull = ConvexHull(points)\n",
    "    hull_points = points[hull.vertices]\n",
    "\n",
    "    # Puntos de dispersión\n",
    "    fig.add_trace(go.Scatter(\n",
    "        x=sub_df[\"Open\"],\n",
    "        y=sub_df[\"Close\"],\n",
    "        mode=\"markers\",\n",
    "        name=ticker,\n",
    "        opacity=0.6,\n",
    "        marker=dict(size=6, color=colors.get(ticker, \"gray\")),\n",
    "        hovertemplate=(\n",
    "            f\"<b>{ticker}</b><br>\"\n",
    "            \"Fecha: %{text}<br>\"\n",
    "            \"Open: %{x:.2f}<br>\"\n",
    "            \"Close: %{y:.2f}\"\n",
    "        ),\n",
    "        text=sub_df[\"Date\"].dt.strftime(\"%Y-%m-%d\")\n",
    "    ))\n",
    "\n",
    "    # Líneas de la envolvente convexa\n",
    "    fig.add_trace(go.Scatter(\n",
    "        x=np.append(hull_points[:, 0], hull_points[0, 0]),\n",
    "        y=np.append(hull_points[:, 1], hull_points[0, 1]),\n",
    "        mode=\"lines\",\n",
    "        line=dict(color=colors.get(ticker, \"gray\"), width=2),\n",
    "        name=f\"Convex Hull - {ticker}\"\n",
    "    ))\n",
    "\n",
    "# Línea de referencia y = x\n",
    "fig.add_trace(go.Scatter(\n",
    "    x=[df[\"Open\"].min(), df[\"Open\"].max()],\n",
    "    y=[df[\"Open\"].min(), df[\"Open\"].max()],\n",
    "    mode=\"lines\",\n",
    "    line=dict(color=\"gray\", dash=\"dash\"),\n",
    "    name=\"y = x (Open = Close)\"\n",
    "))\n",
    "\n",
    "fig.update_layout(\n",
    "    title=\"Relación entre precio de apertura y cierre con Envolvente Convexa\",\n",
    "    xaxis_title=\"Precio de apertura ($)\",\n",
    "    yaxis_title=\"Precio de cierre ($)\",\n",
    "    legend_title=\"Ticker\",\n",
    "    template=\"plotly_white\",\n",
    ")\n",
    "\n",
    "# Mostrar\n",
    "fig.show()\n",
    "\n",
    "# Guardar como HTML (ya lo tienes)\n",
    "fig.write_html(r\"../Visualizaciones/convex_hull.html\")\n",
    "\n",
    "# Guardar también como PNG\n",
    "fig.write_image(r\"../Visualizaciones/convex_hull.png\", width=1200, height=600)\n"
   ]
  },
  {
   "cell_type": "markdown",
   "id": "da6c0aac",
   "metadata": {},
   "source": [
    "---"
   ]
  }
 ],
 "metadata": {
  "kernelspec": {
   "display_name": "Python 3",
   "language": "python",
   "name": "python3"
  },
  "language_info": {
   "codemirror_mode": {
    "name": "ipython",
    "version": 3
   },
   "file_extension": ".py",
   "mimetype": "text/x-python",
   "name": "python",
   "nbconvert_exporter": "python",
   "pygments_lexer": "ipython3",
   "version": "3.13.2"
  }
 },
 "nbformat": 4,
 "nbformat_minor": 5
}
